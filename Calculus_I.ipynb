{
  "nbformat": 4,
  "nbformat_minor": 0,
  "metadata": {
    "colab": {
      "provenance": [],
      "toc_visible": true,
      "authorship_tag": "ABX9TyPam7v9E/stnWctxGlcwlhq",
      "include_colab_link": true
    },
    "kernelspec": {
      "name": "python3",
      "display_name": "Python 3"
    },
    "language_info": {
      "name": "python"
    }
  },
  "cells": [
    {
      "cell_type": "markdown",
      "metadata": {
        "id": "view-in-github",
        "colab_type": "text"
      },
      "source": [
        "<a href=\"https://colab.research.google.com/github/gavindoughtie/mlmath_class/blob/main/Calculus_I.ipynb\" target=\"_parent\"><img src=\"https://colab.research.google.com/assets/colab-badge.svg\" alt=\"Open In Colab\"/></a>"
      ]
    },
    {
      "cell_type": "markdown",
      "source": [
        "# Calculus I: Limits & Derivatives\n",
        "\n",
        "Using Differentiation, including AutoDiff, in Python to Optimize Learning Algorithms\n",
        "\n",
        "Computing derivitives via differentiation is essential to learning.\n",
        "\n",
        "1. Limits\n",
        "2. Computing Derivatives with Differentiation\n",
        "3. Automatic Differentiation with Python"
      ],
      "metadata": {
        "id": "CZ-Zyd9YOW14"
      }
    },
    {
      "cell_type": "markdown",
      "source": [
        "## Segment 1: Limits\n",
        "\n",
        "* What Calculus Is\n",
        "* A Brief History of Calculus\n",
        "* The Method of Exhaustion\n",
        "* Calculating Limits"
      ],
      "metadata": {
        "id": "gHAADQ5oO55d"
      }
    },
    {
      "cell_type": "markdown",
      "source": [
        "### What Calculus Is\n",
        "\n",
        "* Mathematical study of continuous change\n",
        "* Two branches:\n",
        "  * Differential calculus (Calculus I)\n",
        "  * Integral calculus (Calculus II)\n",
        "\n",
        "Differential Calculus: how much the rate of change is changing!\n",
        "\n",
        "Integral Calculus: \n",
        "* study of areas under curves\n",
        "* Facilitates the inverse of differntial calculus\n"
      ],
      "metadata": {
        "id": "sut8yjt7wy8S"
      }
    },
    {
      "cell_type": "markdown",
      "source": [
        "### A Brief History of Calculus\n",
        "\n",
        "* 1800 BCE: Egyptian papyrus with area calculations\n",
        "* \"Method of exhaustion\" developed by:\n",
        "  * Greeks Eudoxus (400 BCE) and Archimedes (250 BCE)\n",
        "  * Independently by Chinese Liu Hui (250 CE)\n",
        "* Arab al-Haytham (11th c. CE) used integrals to calculate volumes\n",
        "* Indians (14th c.) had differentiation-like methods\n",
        "* 17th century: Leibniz and Newton:\n",
        "  * Independently developed modern calculus\n",
        "  * Included higher-order differentiation and integration\n",
        "  * Included rules like \"product rule\" and \"chain rule\" (in Calculus I)\n",
        "  * Leibniz named it and devised notation\n",
        "  * Newton applied it to physics\n",
        "    * Laws of motion\n",
        "    * Gravity\n",
        "\n",
        "*The method of exhaustion*: "
      ],
      "metadata": {
        "id": "p8I484v40eUX"
      }
    },
    {
      "cell_type": "markdown",
      "source": [
        "### The Method of Exhaustion\n",
        "\n",
        "* Polygon: shape with multiple straight sides (3+; typically 5+)\n",
        "  * Greeks learned to find area by filling it with triangles\n",
        "\n",
        "The **Method of Exhaustion** builds on this to find area of curved shapes\n",
        "\n",
        "* Integral calculus is directly based on this method\n",
        "* Calculus in general relies on the idea of approaching infinity\n",
        "  * Leibniz gave the field its name \"calculus of the infinitesimals\""
      ],
      "metadata": {
        "id": "qS0_MgSu0dk8"
      }
    },
    {
      "cell_type": "markdown",
      "source": [
        "### Calculus of the Infinitesimals\n",
        "\n",
        "As integral accuracy improves as we approach an infinite-sided polygon, so too does differential accuracy improve as we approach a curve infinitely closely."
      ],
      "metadata": {
        "id": "HeCMra8g2ckv"
      }
    },
    {
      "cell_type": "code",
      "source": [
        "import numpy as np\n",
        "import matplotlib.pyplot as plt\n"
      ],
      "metadata": {
        "id": "tstrFiRb2btR"
      },
      "execution_count": 1,
      "outputs": []
    },
    {
      "cell_type": "code",
      "source": [
        "x = np.linspace(-10, 10, 1000) # start, finish, n points"
      ],
      "metadata": {
        "id": "pFCG5wn23M_W"
      },
      "execution_count": 2,
      "outputs": []
    },
    {
      "cell_type": "markdown",
      "source": [
        "If $y = x^2 + 2x + 2$:"
      ],
      "metadata": {
        "id": "IStYi47W3Tlf"
      }
    },
    {
      "cell_type": "code",
      "source": [
        "y = x **2 + 2*x  + 2"
      ],
      "metadata": {
        "id": "AviwpuNw3SBn"
      },
      "execution_count": 3,
      "outputs": []
    },
    {
      "cell_type": "code",
      "source": [
        "fig, ax = plt.subplots()\n",
        "_ = ax.plot(x, y)"
      ],
      "metadata": {
        "colab": {
          "base_uri": "https://localhost:8080/",
          "height": 265
        },
        "id": "UxVQ3HTZ3b_G",
        "outputId": "5d5dda66-6293-472e-d335-0aaedbd3c02f"
      },
      "execution_count": 4,
      "outputs": [
        {
          "output_type": "display_data",
          "data": {
            "text/plain": [
              "<Figure size 432x288 with 1 Axes>"
            ],
            "image/png": "[encoded data removed]"
          },
          "metadata": {
            "needs_background": "light"
          }
        }
      ]
    },
    {
      "cell_type": "markdown",
      "source": [
        "* There are no straight lines on the curve.\n",
        "* if we zoom in *infinitely* close, we observe curves that *approach* lines\n",
        "* This enables us to find a slope $m$ (tangent) anywhere on the curve, including to identify where $m$ = 0:"
      ],
      "metadata": {
        "id": "RtXRGghw3fU3"
      }
    },
    {
      "cell_type": "code",
      "source": [
        "fix, ax = plt.subplots()\n",
        "ax.set_xlim([-2, 0])\n",
        "ax.set_ylim([0, 2])\n",
        "_ = ax.plot(x, y)"
      ],
      "metadata": {
        "colab": {
          "base_uri": "https://localhost:8080/",
          "height": 269
        },
        "id": "YQnOydWn4lH2",
        "outputId": "6f17e74e-2881-4f25-f588-185fc55125b5"
      },
      "execution_count": 5,
      "outputs": [
        {
          "output_type": "display_data",
          "data": {
            "text/plain": [
              "<Figure size 432x288 with 1 Axes>"
            ],
            "image/png": "[encoded data removed]"
          },
          "metadata": {
            "needs_background": "light"
          }
        }
      ]
    },
    {
      "cell_type": "code",
      "source": [
        "fix, ax = plt.subplots()\n",
        "ax.set_xlim([-1.5, -0.5])\n",
        "ax.set_ylim([0.5, 1.5])\n",
        "_ = ax.plot(x, y)"
      ],
      "metadata": {
        "colab": {
          "base_uri": "https://localhost:8080/",
          "height": 265
        },
        "id": "k8ig09O64tjI",
        "outputId": "5926cbf7-9ffc-42c0-8031-80c7aa472fc3"
      },
      "execution_count": 6,
      "outputs": [
        {
          "output_type": "display_data",
          "data": {
            "text/plain": [
              "<Figure size 432x288 with 1 Axes>"
            ],
            "image/png": "[encoded data removed]"
          },
          "metadata": {
            "needs_background": "light"
          }
        }
      ]
    },
    {
      "cell_type": "code",
      "source": [
        "fix, ax = plt.subplots()\n",
        "ax.set_xlim([-1.1, -0.9])\n",
        "ax.set_ylim([0.9, 1.1])\n",
        "_ = ax.plot(x, y)"
      ],
      "metadata": {
        "colab": {
          "base_uri": "https://localhost:8080/",
          "height": 269
        },
        "id": "dkZoz0iu41ea",
        "outputId": "bcde346b-e876-4749-9c41-d65950dec26e"
      },
      "execution_count": 7,
      "outputs": [
        {
          "output_type": "display_data",
          "data": {
            "text/plain": [
              "<Figure size 432x288 with 1 Axes>"
            ],
            "image/png": "[encoded data removed]"
          },
          "metadata": {
            "needs_background": "light"
          }
        }
      ]
    },
    {
      "cell_type": "code",
      "source": [
        "fix, ax = plt.subplots()\n",
        "ax.set_xlim([-1.01, -0.99])\n",
        "ax.set_ylim([0.99, 1.01])\n",
        "_ = ax.plot(x, y)"
      ],
      "metadata": {
        "colab": {
          "base_uri": "https://localhost:8080/",
          "height": 269
        },
        "id": "fR0l_8Jk4-iw",
        "outputId": "604d2638-53d5-48d4-e5ef-a4fed184067d"
      },
      "execution_count": 8,
      "outputs": [
        {
          "output_type": "display_data",
          "data": {
            "text/plain": [
              "<Figure size 432x288 with 1 Axes>"
            ],
            "image/png": "[encoded data removed]"
          },
          "metadata": {
            "needs_background": "light"
          }
        }
      ]
    },
    {
      "cell_type": "markdown",
      "source": [
        "## Calculus Applications\n",
        "\n",
        "**Differntials**: optimize by finding minima and maxima of curves\n",
        "  * Used in engineering (max strength) and finance (min cost)\n",
        "  * Widely used in machine learning, including deep learning\n",
        "    * Gradient descent to minimize cost\n",
        "    * Gradent ascent to maximize reward\n",
        "      * deep queue learning networks for reinforcement learning\n",
        "  * Higher-order derivitives in \"fancy\" optimizers (like momentum?)\n",
        "\n",
        "**Integrals**: find area under the curve\n",
        "  * Receiver operating characteristic (Calc II)\n",
        "    * Binary classifiers, for finding false positive rate?\n",
        "    * Probability theory's \"expectation\" of random variable is widely used in machine learning, including deep learning (probability and information theory)"
      ],
      "metadata": {
        "id": "iaT7C8AN5CuB"
      }
    },
    {
      "cell_type": "markdown",
      "source": [
        "## Calculating Limits\n",
        "\n",
        "Trivially easy to calculate for a continuous function (smooth curves)\n",
        "\n",
        "What is the limit as $x$ approaches 5 in the expression $x^2 + 2x + 2$?\n",
        "\n",
        "Just substitute 5 for X!\n",
        "\n",
        "$\n",
        "\\lim_{x → 5}\\left(x^2 + 2x + 2\\right)\n",
        "$\n",
        "\n",
        "= $5^2 + 2 \\cdot 5 + 2$\n",
        "\n",
        "= $25 + 10 + 2$\n",
        "\n",
        "= $37$"
      ],
      "metadata": {
        "id": "xJGBXUYj66TK"
      }
    },
    {
      "cell_type": "markdown",
      "source": [
        "Some functions are not continuous:\n",
        "\n",
        "$$\\lim_{x \\to 1} \\frac{x^2 - 1}{x - 1}$$\n",
        "\n",
        "(If $x$ = 1, you get a divide by zero!)"
      ],
      "metadata": {
        "id": "AGE6ii1AAgqQ"
      }
    },
    {
      "cell_type": "code",
      "source": [
        "ffix, ax = plt.subplots()\n",
        "plt.axvline(x=0, color='lightgray')\n",
        "plt.axhline(y=0, color='lightgray')\n",
        "plt.xlim(-5, 10)\n",
        "plt.ylim(-10, 80)\n",
        "plt.axvline(x=5, color='purple', linestyle='--')\n",
        "plt.axhline(y=37, color='purple', linestyle='--')\n",
        "_ = ax.plot(x,y)"
      ],
      "metadata": {
        "colab": {
          "base_uri": "https://localhost:8080/",
          "height": 269
        },
        "id": "i_FTMJ3vCQ_K",
        "outputId": "38e9209e-4173-41da-df11-c5b80bf6e172"
      },
      "execution_count": 9,
      "outputs": [
        {
          "output_type": "display_data",
          "data": {
            "text/plain": [
              "<Figure size 432x288 with 1 Axes>"
            ],
            "image/png": "[encoded data removed]"
          },
          "metadata": {
            "needs_background": "light"
          }
        }
      ]
    },
    {
      "cell_type": "markdown",
      "source": [
        "$$\\lim_{x \\to 1} \\frac{x^2 - 1}{x - 1}$$"
      ],
      "metadata": {
        "id": "EogPODWWDQON"
      }
    },
    {
      "cell_type": "code",
      "source": [
        "def my_fxn(my_x):\n",
        "  my_y = (my_x**2 - 1)/(my_x - 1)\n",
        "  return my_y"
      ],
      "metadata": {
        "id": "aVjAYVhnCnJz"
      },
      "execution_count": 10,
      "outputs": []
    },
    {
      "cell_type": "code",
      "source": [
        "my_fxn(2)"
      ],
      "metadata": {
        "colab": {
          "base_uri": "https://localhost:8080/",
          "height": 0
        },
        "id": "yXabnYinC1zO",
        "outputId": "76ba7098-c774-4ad3-f1a6-721727b48b9e"
      },
      "execution_count": 11,
      "outputs": [
        {
          "output_type": "execute_result",
          "data": {
            "text/plain": [
              "3.0"
            ]
          },
          "metadata": {},
          "execution_count": 11
        }
      ]
    },
    {
      "cell_type": "code",
      "source": [
        "# This will fail because divide by 0:\n",
        "# my_fxn(1)"
      ],
      "metadata": {
        "id": "iVyUCn4nDztW"
      },
      "execution_count": 12,
      "outputs": []
    },
    {
      "cell_type": "code",
      "source": [
        "my_fxn(0.999)"
      ],
      "metadata": {
        "colab": {
          "base_uri": "https://localhost:8080/",
          "height": 0
        },
        "id": "uCj2y3a1D073",
        "outputId": "1cc01000-ebe1-4891-a574-a4b327d325f0"
      },
      "execution_count": 13,
      "outputs": [
        {
          "output_type": "execute_result",
          "data": {
            "text/plain": [
              "1.9989999999999712"
            ]
          },
          "metadata": {},
          "execution_count": 13
        }
      ]
    },
    {
      "cell_type": "code",
      "source": [
        "my_fxn(1.00000001)"
      ],
      "metadata": {
        "colab": {
          "base_uri": "https://localhost:8080/",
          "height": 0
        },
        "id": "gRLM_o1iD8V2",
        "outputId": "4d49cca5-c409-4572-e4aa-04eb2816136b"
      },
      "execution_count": 14,
      "outputs": [
        {
          "output_type": "execute_result",
          "data": {
            "text/plain": [
              "2.0"
            ]
          },
          "metadata": {},
          "execution_count": 14
        }
      ]
    },
    {
      "cell_type": "code",
      "source": [
        "y = my_fxn(x)"
      ],
      "metadata": {
        "id": "cso6KdeOEEfh"
      },
      "execution_count": 15,
      "outputs": []
    },
    {
      "cell_type": "code",
      "source": [
        "ffix, ax = plt.subplots()\n",
        "plt.axvline(x=0, color='lightgray')\n",
        "plt.axhline(y=0, color='lightgray')\n",
        "plt.xlim(-1, 5)\n",
        "plt.ylim(-1, 5)\n",
        "plt.axvline(x=1, color='purple', linestyle='--')\n",
        "plt.axhline(y=2, color='purple', linestyle='--')\n",
        "_ = ax.plot(x,y)"
      ],
      "metadata": {
        "colab": {
          "base_uri": "https://localhost:8080/",
          "height": 269
        },
        "id": "hOQAMql5EONR",
        "outputId": "4a8182e9-ed38-4c97-d226-29192888e673"
      },
      "execution_count": 16,
      "outputs": [
        {
          "output_type": "display_data",
          "data": {
            "text/plain": [
              "<Figure size 432x288 with 1 Axes>"
            ],
            "image/png": "[encoded data removed]"
          },
          "metadata": {
            "needs_background": "light"
          }
        }
      ]
    },
    {
      "cell_type": "markdown",
      "source": [
        "In some cases, we can solve the limit through algebra (factoring)\n",
        "\n",
        "$$\n",
        "\\lim_{x \\to 1} \\frac{x^2 - 1}{x - 1}\n",
        "$$\n",
        "\n",
        "=\n",
        "\n",
        "$$\n",
        "\\lim_{x \\to 1} \\frac{(x - 1)(x + 1)}{x - 1}\n",
        "$$\n",
        "\n",
        "=\n",
        "$$\\require{cancel}$$  \n",
        "$$\n",
        "\\lim_{x \\to 1} \\frac{\\cancel{(x - 1})(x + 1)}{\\cancel{x - 1}}\n",
        "$$\n",
        "\n",
        "=\n",
        "$$\\require{cancel}$$  \n",
        "$$\n",
        "\\lim_{x \\to 1} (x + 1)\n",
        "$$\n",
        "\n",
        "= $1 + 1$\n"
      ],
      "metadata": {
        "id": "D8p8Dy3bEVlI"
      }
    },
    {
      "cell_type": "markdown",
      "source": [
        "In other cases, we can't use algebra but approaching the limit still works:\n",
        "\n",
        "$$\n",
        "\\lim_{x \\to 0} \\frac{sin x}{x}\n",
        "$$"
      ],
      "metadata": {
        "id": "uFQ3H7cKFuHf"
      }
    },
    {
      "cell_type": "code",
      "source": [
        "def sin_fxn(my_x):\n",
        "  my_y = np.sin(my_x)/my_x\n",
        "  return my_y"
      ],
      "metadata": {
        "id": "2wjLawBqGFe8"
      },
      "execution_count": 17,
      "outputs": []
    },
    {
      "cell_type": "code",
      "source": [
        "# this is a divide by zero:\n",
        "# y = sin_fxn(0)"
      ],
      "metadata": {
        "id": "YdH6ZliGH-7C"
      },
      "execution_count": 18,
      "outputs": []
    },
    {
      "cell_type": "code",
      "source": [
        "sin_fxn(0.0001)"
      ],
      "metadata": {
        "colab": {
          "base_uri": "https://localhost:8080/",
          "height": 0
        },
        "id": "4zc2kmt7IDw_",
        "outputId": "811ae5bd-ee30-4f3e-bfb7-40448d46fc4a"
      },
      "execution_count": 19,
      "outputs": [
        {
          "output_type": "execute_result",
          "data": {
            "text/plain": [
              "0.9999999983333334"
            ]
          },
          "metadata": {},
          "execution_count": 19
        }
      ]
    },
    {
      "cell_type": "code",
      "source": [
        "sin_fxn(-0.1)"
      ],
      "metadata": {
        "colab": {
          "base_uri": "https://localhost:8080/",
          "height": 0
        },
        "id": "u6jn5lxbIGai",
        "outputId": "cac7e5f7-6428-4355-9059-92b8f5ecf099"
      },
      "execution_count": 20,
      "outputs": [
        {
          "output_type": "execute_result",
          "data": {
            "text/plain": [
              "0.9983341664682815"
            ]
          },
          "metadata": {},
          "execution_count": 20
        }
      ]
    },
    {
      "cell_type": "code",
      "source": [
        "y = sin_fxn(x)"
      ],
      "metadata": {
        "id": "EEuIT2wDII1Q"
      },
      "execution_count": 21,
      "outputs": []
    },
    {
      "cell_type": "code",
      "source": [
        "ffix, ax = plt.subplots()\n",
        "plt.axvline(x=0, color='lightgray')\n",
        "plt.axhline(y=0, color='lightgray')\n",
        "plt.xlim(-10, 10)\n",
        "plt.ylim(-1, 2)\n",
        "plt.axvline(x=0, color='purple', linestyle='--')\n",
        "plt.axhline(y=1, color='purple', linestyle='--')\n",
        "_ = ax.plot(x,y)"
      ],
      "metadata": {
        "colab": {
          "base_uri": "https://localhost:8080/",
          "height": 269
        },
        "id": "mI6ZIRJKIMG6",
        "outputId": "7754f080-0064-4aa8-ee7c-b1e02f8b5ba7"
      },
      "execution_count": 22,
      "outputs": [
        {
          "output_type": "display_data",
          "data": {
            "text/plain": [
              "<Figure size 432x288 with 1 Axes>"
            ],
            "image/png": "[encoded data removed]"
          },
          "metadata": {
            "needs_background": "light"
          }
        }
      ]
    },
    {
      "cell_type": "markdown",
      "source": [
        "Technically, charts should illustrate undefined points (open circle at those points)"
      ],
      "metadata": {
        "id": "xSQhpV2EIR_G"
      }
    },
    {
      "cell_type": "markdown",
      "source": [
        "Finally, it is common for limits to approach infinity:\n",
        "\n",
        "$$\n",
        "\\lim_{x \\to \\infty} \\frac{25}{x}\n",
        "$$"
      ],
      "metadata": {
        "id": "3x5H2T2JIkNu"
      }
    },
    {
      "cell_type": "code",
      "source": [
        "def inf_fxn(my_x):\n",
        "  my_y = 25/my_x\n",
        "  return my_y"
      ],
      "metadata": {
        "id": "QwIyPIAwI8be"
      },
      "execution_count": 23,
      "outputs": []
    },
    {
      "cell_type": "code",
      "source": [
        "inf_fxn(1e3)"
      ],
      "metadata": {
        "colab": {
          "base_uri": "https://localhost:8080/",
          "height": 0
        },
        "id": "ldSkrEFIJF9a",
        "outputId": "5b089b63-7090-4cf6-a6ca-0a09016241d1"
      },
      "execution_count": 24,
      "outputs": [
        {
          "output_type": "execute_result",
          "data": {
            "text/plain": [
              "0.025"
            ]
          },
          "metadata": {},
          "execution_count": 24
        }
      ]
    },
    {
      "cell_type": "code",
      "source": [
        "inf_fxn(1e6)"
      ],
      "metadata": {
        "colab": {
          "base_uri": "https://localhost:8080/",
          "height": 0
        },
        "id": "Yiktf_oKJHP8",
        "outputId": "c98be2a1-2551-4aa1-b814-7a5bb1c1e9b6"
      },
      "execution_count": 25,
      "outputs": [
        {
          "output_type": "execute_result",
          "data": {
            "text/plain": [
              "2.5e-05"
            ]
          },
          "metadata": {},
          "execution_count": 25
        }
      ]
    },
    {
      "cell_type": "code",
      "source": [
        "y = inf_fxn(x)"
      ],
      "metadata": {
        "id": "9wR2E23_JJdW"
      },
      "execution_count": 26,
      "outputs": []
    },
    {
      "cell_type": "code",
      "source": [
        "ffix, ax = plt.subplots()\n",
        "plt.axvline(x=0, color='lightgray')\n",
        "plt.axhline(y=0, color='lightgray')\n",
        "plt.xlim(-10, 10)\n",
        "plt.ylim(-300, 300)\n",
        "_ = ax.plot(x,y)"
      ],
      "metadata": {
        "colab": {
          "base_uri": "https://localhost:8080/",
          "height": 269
        },
        "id": "omX0TqmlJMDr",
        "outputId": "74a3a64a-beea-4c6e-be46-f6e212547166"
      },
      "execution_count": 27,
      "outputs": [
        {
          "output_type": "display_data",
          "data": {
            "text/plain": [
              "<Figure size 432x288 with 1 Axes>"
            ],
            "image/png": "[encoded data removed]"
          },
          "metadata": {
            "needs_background": "light"
          }
        }
      ]
    },
    {
      "cell_type": "code",
      "source": [
        "left_x = x[x<0]\n",
        "right_x = x[x>0]"
      ],
      "metadata": {
        "id": "WitgCUyeJUfF"
      },
      "execution_count": 28,
      "outputs": []
    },
    {
      "cell_type": "code",
      "source": [
        "left_y = inf_fxn(left_x)\n",
        "right_y = inf_fxn(right_x)"
      ],
      "metadata": {
        "id": "u1nWzHs6Jsy6"
      },
      "execution_count": 29,
      "outputs": []
    },
    {
      "cell_type": "code",
      "source": [
        "ffix, ax = plt.subplots()\n",
        "plt.axvline(x=0, color='lightgray')\n",
        "plt.axhline(y=0, color='lightgray')\n",
        "plt.xlim(-10, 10)\n",
        "plt.ylim(-300, 300)\n",
        "ax.plot(left_x,left_y, c='C0')\n",
        "_ = ax.plot(right_x, right_y, c='C0')"
      ],
      "metadata": {
        "colab": {
          "base_uri": "https://localhost:8080/",
          "height": 269
        },
        "id": "2ncQVPqUJ28O",
        "outputId": "de49911e-0104-4a06-cc58-508934cf0eab"
      },
      "execution_count": 30,
      "outputs": [
        {
          "output_type": "display_data",
          "data": {
            "text/plain": [
              "<Figure size 432x288 with 1 Axes>"
            ],
            "image/png": "[encoded data removed]"
          },
          "metadata": {
            "needs_background": "light"
          }
        }
      ]
    },
    {
      "cell_type": "markdown",
      "source": [
        "**Exercises:**\n",
        "\n",
        "Evaluate the limits below using techniques from the slides or above.\n",
        "\n",
        "1. $$ \\lim_{x \\to 0} \\frac{x^2-1}{x-1} $$\n",
        "2. $$ \\lim_{x \\to -5} \\frac{x^2-25}{x+5} $$\n",
        "3. $$ \\lim_{x \\to 4} \\frac{x^2 -2x -8}{x-4} $$\n",
        "4. $$ \\lim_{x \\to -\\infty} \\frac{25}{x} $$\n",
        "5. $$ \\lim_{x \\to 0} \\frac{25}{x} $$"
      ],
      "metadata": {
        "id": "KX9LzHTGeNbN"
      }
    },
    {
      "cell_type": "markdown",
      "source": [
        "1. \n",
        "\n",
        "By substitution works, but also by factors:\n",
        "\n",
        "$$\n",
        "\\lim_{x \\to -5} =\\frac{(x - 1)(x + 1)}{(x - 1)}$\n",
        "=$(x +1 )\n",
        "=1$$"
      ],
      "metadata": {
        "id": "4on4vtVnKBUG"
      }
    },
    {
      "cell_type": "markdown",
      "source": [
        "2. Also by factors:\n",
        "\n",
        "$$\n",
        "=\\frac{\\cancel{(x + 5)}(x - 5)}{\\cancel{(x + 5)}}\n",
        "$$\n",
        "=$(x-5) = -10$\n"
      ],
      "metadata": {
        "id": "y4HLL8fkeYUQ"
      }
    },
    {
      "cell_type": "markdown",
      "source": [
        "3. Definitely by factors because of the singularity at $x=4$\n",
        "\n",
        "$$ \n",
        "\\lim_{x \\to 4} \\frac{x^2 -2x -8}{x-4}\n",
        "=\\lim_{x \\to 4} \\frac{(x-4)(x +2)}{x-4}\n",
        "=\\lim_{x \\to 4} \\frac{\\cancel{(x-4)}(x +2)}{\\cancel{x-4}}\n",
        "=x+2\n",
        "=6\n",
        "$$"
      ],
      "metadata": {
        "id": "P_nSINvne8NY"
      }
    },
    {
      "cell_type": "markdown",
      "source": [
        "Well, any number over infinity is 0\n",
        "\n",
        "4. $$ \n",
        "\\lim_{x \\to -\\infty} \\frac{25}{x}\n",
        "=0\n",
        "$$\n"
      ],
      "metadata": {
        "id": "l070joOwf8w9"
      }
    },
    {
      "cell_type": "markdown",
      "source": [
        "5. $$ \\lim_{x \\to 0} \\frac{25}{x} $$\n",
        "\n",
        "Again, an infinitesimal $x$ that is NOT zero would make this EITHER $∞$ or $-∞$, deonoted:\n",
        "\n",
        "$$\n",
        "\\lim_{x \\to 0^+}\n",
        "$$\n",
        "\n",
        "$$\n",
        "\\lim_{x \\to 0^-}\n",
        "$$"
      ],
      "metadata": {
        "id": "n76EdyCJiTFT"
      }
    },
    {
      "cell_type": "markdown",
      "source": [
        "# Segment 2: Derivatives & Differentiation\n",
        "\n",
        "* The Delta Method\n",
        "* The Differential Equation\n",
        "* Differentiation Notation\n",
        "* The Power Rule\n",
        "* The Contant Multiple Rule\n",
        "* The Sum Rule\n",
        "* The Product Rule\n",
        "* The Quotient Rule\n",
        "* The Chain Rule\n"
      ],
      "metadata": {
        "id": "4ubqOp1iiqy0"
      }
    },
    {
      "cell_type": "markdown",
      "source": [
        "## Computing Derivatives with Differentiation\n",
        "\n",
        "Let's eat the old chestnut quadratic equation: $y = x^2 + 2x + 2$"
      ],
      "metadata": {
        "id": "NHO20gcokX-v"
      }
    },
    {
      "cell_type": "code",
      "source": [
        "def f(my_x):\n",
        "  my_y = my_x**2 + 2*my_x + 2\n",
        "  return my_y"
      ],
      "metadata": {
        "id": "AruZRzl0kjh9"
      },
      "execution_count": 31,
      "outputs": []
    },
    {
      "cell_type": "code",
      "source": [
        "y = f(x)"
      ],
      "metadata": {
        "id": "eyAatrepkqB0"
      },
      "execution_count": 32,
      "outputs": []
    },
    {
      "cell_type": "code",
      "source": [
        "fix, ax = plt.subplots()\n",
        "plt.axvline(x=0, color='lightgray')\n",
        "plt.axhline(y=0, color='lightgray')\n",
        "_ = ax.plot(x,y)"
      ],
      "metadata": {
        "colab": {
          "base_uri": "https://localhost:8080/",
          "height": 265
        },
        "id": "K_IcaTOikq-E",
        "outputId": "63462ea2-2958-4b37-c2f5-4408aa0b75a4"
      },
      "execution_count": 33,
      "outputs": [
        {
          "output_type": "display_data",
          "data": {
            "text/plain": [
              "<Figure size 432x288 with 1 Axes>"
            ],
            "image/png": "[encoded data removed]"
          },
          "metadata": {
            "needs_background": "light"
          }
        }
      ]
    },
    {
      "cell_type": "markdown",
      "source": [
        "Let's identify the slope where, say, $x = 2$.\n",
        "\n",
        "First, let's determine what $y$ is:"
      ],
      "metadata": {
        "id": "SrKv77ejk1X6"
      }
    },
    {
      "cell_type": "code",
      "source": [
        "f(2)"
      ],
      "metadata": {
        "colab": {
          "base_uri": "https://localhost:8080/",
          "height": 0
        },
        "id": "CMfGFGaXk5s1",
        "outputId": "d1ce491d-07c2-42e5-e0af-e30ebaa6f3db"
      },
      "execution_count": 34,
      "outputs": [
        {
          "output_type": "execute_result",
          "data": {
            "text/plain": [
              "10"
            ]
          },
          "metadata": {},
          "execution_count": 34
        }
      ]
    },
    {
      "cell_type": "markdown",
      "source": [
        "Let's call this point $P$, which is located at (2, 10):"
      ],
      "metadata": {
        "id": "Lud0W6Xolq6R"
      }
    },
    {
      "cell_type": "code",
      "source": [
        "fix, ax = plt.subplots()\n",
        "plt.axvline(x=0, color='lightgray')\n",
        "plt.axhline(y=0, color='lightgray')\n",
        "plt.scatter(2, 10) # new\n",
        "_ = ax.plot(x,y)"
      ],
      "metadata": {
        "colab": {
          "base_uri": "https://localhost:8080/",
          "height": 265
        },
        "id": "H433PTlNlvS8",
        "outputId": "16e905e0-e550-4984-da19-832d103c1af7"
      },
      "execution_count": 35,
      "outputs": [
        {
          "output_type": "display_data",
          "data": {
            "text/plain": [
              "<Figure size 432x288 with 1 Axes>"
            ],
            "image/png": "[encoded data removed]"
          },
          "metadata": {
            "needs_background": "light"
          }
        }
      ]
    },
    {
      "cell_type": "markdown",
      "source": [
        "The *delta method* uses the difference between two points to calculate slope. To illustrate this, let's define another point $Q$ where $x=5$."
      ],
      "metadata": {
        "id": "YkQAchtOl3Cq"
      }
    },
    {
      "cell_type": "code",
      "source": [
        "f(5)"
      ],
      "metadata": {
        "colab": {
          "base_uri": "https://localhost:8080/",
          "height": 0
        },
        "id": "uvhfihMbmEhG",
        "outputId": "23473e6a-70af-4122-e01b-e58b3593484b"
      },
      "execution_count": 36,
      "outputs": [
        {
          "output_type": "execute_result",
          "data": {
            "text/plain": [
              "37"
            ]
          },
          "metadata": {},
          "execution_count": 36
        }
      ]
    },
    {
      "cell_type": "code",
      "source": [
        "fix, ax = plt.subplots()\n",
        "plt.axvline(x=0, color='lightgray')\n",
        "plt.axhline(y=0, color='lightgray')\n",
        "plt.scatter(2, 10)\n",
        "plt.scatter(5, 37, c='orange', zorder=3)\n",
        "_ = ax.plot(x,y)\n"
      ],
      "metadata": {
        "colab": {
          "base_uri": "https://localhost:8080/",
          "height": 265
        },
        "id": "ljIj-lvTmFa_",
        "outputId": "f2989e5b-6d19-44bd-b85a-12b05a17dcbe"
      },
      "execution_count": 37,
      "outputs": [
        {
          "output_type": "display_data",
          "data": {
            "text/plain": [
              "<Figure size 432x288 with 1 Axes>"
            ],
            "image/png": "[encoded data removed]"
          },
          "metadata": {
            "needs_background": "light"
          }
        }
      ]
    },
    {
      "cell_type": "markdown",
      "source": [
        "To find the slope $m$ between points $P$ and $Q$:\n",
        "\n",
        "$$\n",
        "m = \\frac{\\text{change in }y}{\\text{change in }x} = \\frac{Δy}{\\Delta x} = \\frac{y_2 - y_1}{x_2 - x_1} = \\frac{37-10}{5 - 2}=\\frac{27}{3}=9\n",
        "$$"
      ],
      "metadata": {
        "id": "hfTR9iIfmLI0"
      }
    },
    {
      "cell_type": "code",
      "source": [
        "m = (37-10)/(5-2)\n",
        "m"
      ],
      "metadata": {
        "colab": {
          "base_uri": "https://localhost:8080/",
          "height": 0
        },
        "id": "1DRHK6EAnxu8",
        "outputId": "a02fcdcc-ffba-49cd-bbf4-1ab2c684c350"
      },
      "execution_count": 38,
      "outputs": [
        {
          "output_type": "execute_result",
          "data": {
            "text/plain": [
              "9.0"
            ]
          },
          "metadata": {},
          "execution_count": 38
        }
      ]
    },
    {
      "cell_type": "markdown",
      "source": [
        "To plot the line that passes through $P$ and $Q$ we can rearrange the equation of a line $y = mx + b$ to solve for $b$:\n",
        "\n",
        "$$\n",
        "b = y - mx\n",
        "$$"
      ],
      "metadata": {
        "id": "geh3H-yAn5nB"
      }
    },
    {
      "cell_type": "code",
      "source": [
        "b = 37-m*5\n",
        "b"
      ],
      "metadata": {
        "colab": {
          "base_uri": "https://localhost:8080/",
          "height": 0
        },
        "id": "5VnxnJZqoj-o",
        "outputId": "93ceb749-9c99-4868-e0e8-48f0a7eebfa4"
      },
      "execution_count": 39,
      "outputs": [
        {
          "output_type": "execute_result",
          "data": {
            "text/plain": [
              "-8.0"
            ]
          },
          "metadata": {},
          "execution_count": 39
        }
      ]
    },
    {
      "cell_type": "code",
      "source": [
        "line_y = m*x + b"
      ],
      "metadata": {
        "id": "QlfmP_y9pPkH"
      },
      "execution_count": 40,
      "outputs": []
    },
    {
      "cell_type": "code",
      "source": [
        "fix, ax = plt.subplots()\n",
        "plt.ylim(-20, 150) # new\n",
        "plt.axvline(x=0, color='lightgray')\n",
        "plt.axhline(y=0, color='lightgray')\n",
        "plt.scatter(2, 10)\n",
        "plt.scatter(5, 37, c='orange', zorder=3)\n",
        "plt.scatter(0, b, c='green', zorder=3) # Gavin adds the y-intercept\n",
        "plt.plot(x, line_y, c='orange') # new\n",
        "_ = ax.plot(x,y)\n"
      ],
      "metadata": {
        "colab": {
          "base_uri": "https://localhost:8080/",
          "height": 265
        },
        "id": "_VPMjQmConN7",
        "outputId": "011996ae-e249-4f62-8a5b-0cca4a0e19e1"
      },
      "execution_count": 41,
      "outputs": [
        {
          "output_type": "display_data",
          "data": {
            "text/plain": [
              "<Figure size 432x288 with 1 Axes>"
            ],
            "image/png": "[encoded data removed]"
          },
          "metadata": {
            "needs_background": "light"
          }
        }
      ]
    },
    {
      "cell_type": "markdown",
      "source": [
        "The closer $Q$ becomes to $P$, the closer the slope $m$ comes to being the true tangent of the point $P$. Let's demonstrate this with another point $Q$ at $x = 2.1$\n",
        "\n",
        "Previously, our $\\Delta x$ between $Q$ and $P$ was equal to 3. Now it is much smaller:\n",
        "\n",
        "$$\n",
        "\\Delta x = x_2 - x_1 = 2.1 -2 = 0.1\n",
        "$$"
      ],
      "metadata": {
        "id": "mijU04oJo33e"
      }
    },
    {
      "cell_type": "code",
      "source": [
        "f(2.1)"
      ],
      "metadata": {
        "colab": {
          "base_uri": "https://localhost:8080/",
          "height": 0
        },
        "id": "rVWmAbG7p7Tb",
        "outputId": "9e1fdd65-7a2e-4ac7-8898-ad7346e218b6"
      },
      "execution_count": 42,
      "outputs": [
        {
          "output_type": "execute_result",
          "data": {
            "text/plain": [
              "10.61"
            ]
          },
          "metadata": {},
          "execution_count": 42
        }
      ]
    },
    {
      "cell_type": "code",
      "source": [
        "fix, ax = plt.subplots()\n",
        "plt.ylim(-20, 150) # new\n",
        "plt.axvline(x=0, color='lightgray')\n",
        "plt.axhline(y=0, color='lightgray')\n",
        "plt.scatter(2, 10)\n",
        "plt.scatter(2.1, 10.61, c='orange', zorder=3)\n",
        "_ = ax.plot(x,y)\n"
      ],
      "metadata": {
        "colab": {
          "base_uri": "https://localhost:8080/",
          "height": 265
        },
        "id": "H3ItpztIqgbd",
        "outputId": "cef14a2c-3f79-4f21-9d35-2aa50b0efab7"
      },
      "execution_count": 43,
      "outputs": [
        {
          "output_type": "display_data",
          "data": {
            "text/plain": [
              "<Figure size 432x288 with 1 Axes>"
            ],
            "image/png": "[encoded data removed]"
          },
          "metadata": {
            "needs_background": "light"
          }
        }
      ]
    },
    {
      "cell_type": "code",
      "source": [
        "m = (10.61-10)/(2.1-2)\n",
        "m"
      ],
      "metadata": {
        "colab": {
          "base_uri": "https://localhost:8080/",
          "height": 0
        },
        "id": "xQnX6tkvqq5G",
        "outputId": "61ca4f40-ab1d-45ce-dc2e-148db8dd32ec"
      },
      "execution_count": 44,
      "outputs": [
        {
          "output_type": "execute_result",
          "data": {
            "text/plain": [
              "6.099999999999989"
            ]
          },
          "metadata": {},
          "execution_count": 44
        }
      ]
    },
    {
      "cell_type": "code",
      "source": [
        "b = 10.61-m*2.1\n",
        "b"
      ],
      "metadata": {
        "colab": {
          "base_uri": "https://localhost:8080/",
          "height": 0
        },
        "id": "sNfBQpyeq8P0",
        "outputId": "cf1b26fd-c3bf-4df9-b3d3-7f6b0b0ce7ca"
      },
      "execution_count": 45,
      "outputs": [
        {
          "output_type": "execute_result",
          "data": {
            "text/plain": [
              "-2.199999999999978"
            ]
          },
          "metadata": {},
          "execution_count": 45
        }
      ]
    },
    {
      "cell_type": "code",
      "source": [
        "line_y = m*x +b"
      ],
      "metadata": {
        "id": "spqIULkErSpW"
      },
      "execution_count": 46,
      "outputs": []
    },
    {
      "cell_type": "code",
      "source": [
        "fix, ax = plt.subplots()\n",
        "plt.ylim(-20, 150) # new\n",
        "plt.axvline(x=0, color='lightgray')\n",
        "plt.axhline(y=0, color='lightgray')\n",
        "plt.scatter(2, 10)\n",
        "plt.scatter(2.1, 10.61, c='orange', zorder=3)\n",
        "plt.scatter(0, b, c='green', zorder=3) # Gavin adds the y-intercept\n",
        "plt.plot(x, line_y, c='orange') # new\n",
        "_ = ax.plot(x,y)\n"
      ],
      "metadata": {
        "colab": {
          "base_uri": "https://localhost:8080/",
          "height": 265
        },
        "id": "9yqyoXz-q_kj",
        "outputId": "4e81f144-a203-46cc-f666-139a1e802777"
      },
      "execution_count": 47,
      "outputs": [
        {
          "output_type": "display_data",
          "data": {
            "text/plain": [
              "<Figure size 432x288 with 1 Axes>"
            ],
            "image/png": "[encoded data removed]"
          },
          "metadata": {
            "needs_background": "light"
          }
        }
      ]
    },
    {
      "cell_type": "markdown",
      "source": [
        "The closer $Q$ gets to $P$, (as $\\Delta x$ approaches 0), the clearer it becomes that the slope $m$ at point $P = (2, 10)$ is equal to 6.\n",
        "\n",
        "Let's make $\\Delta x$ extremely small to illustrate this:"
      ],
      "metadata": {
        "id": "hy6W5oNOrI2w"
      }
    },
    {
      "cell_type": "code",
      "source": [
        "delta_x = 0.000001\n",
        "delta_x"
      ],
      "metadata": {
        "colab": {
          "base_uri": "https://localhost:8080/",
          "height": 0
        },
        "id": "RixPkLrWr0bf",
        "outputId": "51eb8026-b3ad-423d-cdf6-e30cc5f92cd2"
      },
      "execution_count": 48,
      "outputs": [
        {
          "output_type": "execute_result",
          "data": {
            "text/plain": [
              "1e-06"
            ]
          },
          "metadata": {},
          "execution_count": 48
        }
      ]
    },
    {
      "cell_type": "code",
      "source": [
        "x1 = 2\n",
        "y1 = 10"
      ],
      "metadata": {
        "id": "_tBHfkHKr4f1"
      },
      "execution_count": 49,
      "outputs": []
    },
    {
      "cell_type": "markdown",
      "source": [
        "Rearranging $\\Delta x = x_2 - x_1$, we can calculate $x_2$ for our point $Q$, which is now extremely close to $P$:\n",
        "\n",
        "$$\n",
        "x_2 = x_1 + \\Delta x\n",
        "$$"
      ],
      "metadata": {
        "id": "bFkqbf3jsGBO"
      }
    },
    {
      "cell_type": "code",
      "source": [
        "x2 = x1 + delta_x\n",
        "x2"
      ],
      "metadata": {
        "colab": {
          "base_uri": "https://localhost:8080/",
          "height": 0
        },
        "id": "J5Gu_8xFsSRJ",
        "outputId": "0613e1ad-64f1-4432-91a1-a7d3a0ab1b0a"
      },
      "execution_count": 50,
      "outputs": [
        {
          "output_type": "execute_result",
          "data": {
            "text/plain": [
              "2.000001"
            ]
          },
          "metadata": {},
          "execution_count": 50
        }
      ]
    },
    {
      "cell_type": "markdown",
      "source": [
        "$y_2$ for our point $Q$ can be obtained with the usual function $f(x)$:\n",
        "\n",
        "$$\n",
        "y_2 = f(x_2)\n",
        "$$"
      ],
      "metadata": {
        "id": "m-pwIQLpsUZd"
      }
    },
    {
      "cell_type": "code",
      "source": [
        "y2 = f(x2)\n",
        "y2"
      ],
      "metadata": {
        "colab": {
          "base_uri": "https://localhost:8080/",
          "height": 0
        },
        "id": "X-8V0D-_sc8L",
        "outputId": "3556f859-9fd9-48b2-ebc9-a33d809ca480"
      },
      "execution_count": 51,
      "outputs": [
        {
          "output_type": "execute_result",
          "data": {
            "text/plain": [
              "10.000006000001001"
            ]
          },
          "metadata": {},
          "execution_count": 51
        }
      ]
    },
    {
      "cell_type": "markdown",
      "source": [
        "To find slope ($m$), same thing:"
      ],
      "metadata": {
        "id": "OfCwcw3JseaB"
      }
    },
    {
      "cell_type": "code",
      "source": [
        "m = (y2 -y1)/(x2 - x1)\n",
        "m"
      ],
      "metadata": {
        "colab": {
          "base_uri": "https://localhost:8080/",
          "height": 0
        },
        "id": "G_ecsN3BsnO7",
        "outputId": "eb048a7a-8fe7-4b3c-b747-8671b6830c92"
      },
      "execution_count": 52,
      "outputs": [
        {
          "output_type": "execute_result",
          "data": {
            "text/plain": [
              "6.000001000088901"
            ]
          },
          "metadata": {},
          "execution_count": 52
        }
      ]
    },
    {
      "cell_type": "markdown",
      "source": [
        "Using the delta method we've shown that at point $P$ the slope of the curve is 6.\n",
        "\n",
        "Now try it where $x = -1$"
      ],
      "metadata": {
        "id": "mZQyqIG7sp0m"
      }
    },
    {
      "cell_type": "code",
      "source": [
        "x1 = -1\n",
        "y1 = f(x1)\n",
        "y1"
      ],
      "metadata": {
        "colab": {
          "base_uri": "https://localhost:8080/",
          "height": 0
        },
        "id": "s6K45iiJs1sA",
        "outputId": "436f32df-1548-41f1-9544-4d76f4bf0ccd"
      },
      "execution_count": 53,
      "outputs": [
        {
          "output_type": "execute_result",
          "data": {
            "text/plain": [
              "1"
            ]
          },
          "metadata": {},
          "execution_count": 53
        }
      ]
    },
    {
      "cell_type": "code",
      "source": [
        "x2 = x1 + delta_x\n",
        "x2"
      ],
      "metadata": {
        "colab": {
          "base_uri": "https://localhost:8080/",
          "height": 0
        },
        "id": "dbdinasss7Qg",
        "outputId": "b0659c0c-1bce-4d9a-dd01-4974a04077ac"
      },
      "execution_count": 54,
      "outputs": [
        {
          "output_type": "execute_result",
          "data": {
            "text/plain": [
              "-0.999999"
            ]
          },
          "metadata": {},
          "execution_count": 54
        }
      ]
    },
    {
      "cell_type": "code",
      "source": [
        "y2 = f(x2)\n",
        "y2"
      ],
      "metadata": {
        "colab": {
          "base_uri": "https://localhost:8080/",
          "height": 0
        },
        "id": "wkHodJFotSuw",
        "outputId": "45a1d918-bd74-4966-a35f-8081bb90ed1d"
      },
      "execution_count": 55,
      "outputs": [
        {
          "output_type": "execute_result",
          "data": {
            "text/plain": [
              "1.000000000001"
            ]
          },
          "metadata": {},
          "execution_count": 55
        }
      ]
    },
    {
      "cell_type": "code",
      "source": [
        "m = (y2 -y1)/(x2 -x1)\n",
        "m # close to zero"
      ],
      "metadata": {
        "colab": {
          "base_uri": "https://localhost:8080/",
          "height": 0
        },
        "id": "2zoXWfldtW6U",
        "outputId": "7d094f92-6ebc-4107-9067-1867f49dda91"
      },
      "execution_count": 59,
      "outputs": [
        {
          "output_type": "execute_result",
          "data": {
            "text/plain": [
              "1.0000889005535828e-06"
            ]
          },
          "metadata": {},
          "execution_count": 59
        }
      ]
    },
    {
      "cell_type": "markdown",
      "source": [
        "Quick aside: Pertinent to defining differentiation as an equation, an alternative way to calculate $y_2$ is $f(x+\\Delta x)$"
      ],
      "metadata": {
        "id": "z37vYW90tiy_"
      }
    },
    {
      "cell_type": "code",
      "source": [
        "b = y2-m*x2\n",
        "b"
      ],
      "metadata": {
        "colab": {
          "base_uri": "https://localhost:8080/",
          "height": 0
        },
        "id": "s-DsAjbLC2aG",
        "outputId": "423a3594-b8eb-4180-8765-1b79b6a5b4f5"
      },
      "execution_count": 62,
      "outputs": [
        {
          "output_type": "execute_result",
          "data": {
            "text/plain": [
              "1.0000010000889006"
            ]
          },
          "metadata": {},
          "execution_count": 62
        }
      ]
    },
    {
      "cell_type": "code",
      "source": [
        "line_y = m*x + b"
      ],
      "metadata": {
        "id": "tDNGjgCmDS-s"
      },
      "execution_count": 63,
      "outputs": []
    },
    {
      "cell_type": "code",
      "source": [
        "fix, ax = plt.subplots()\n",
        "plt.ylim(-5, 150) # new\n",
        "plt.axvline(x=0, color='lightgray')\n",
        "plt.axhline(y=0, color='lightgray')\n",
        "plt.scatter(x1, y1)\n",
        "plt.scatter(x2, y2, c='orange', zorder=3)\n",
        "#plt.scatter(0, b, c='green', zorder=3) # Gavin adds the y-intercept\n",
        "plt.plot(x, line_y, c='orange') # new\n",
        "_ = ax.plot(x,y)\n"
      ],
      "metadata": {
        "colab": {
          "base_uri": "https://localhost:8080/",
          "height": 265
        },
        "id": "NmN3zc3gDJX8",
        "outputId": "1989892a-3f31-4951-c6ea-d562dd88ab98"
      },
      "execution_count": 66,
      "outputs": [
        {
          "output_type": "display_data",
          "data": {
            "text/plain": [
              "<Figure size 432x288 with 1 Axes>"
            ],
            "image/png": "[encoded data removed]"
          },
          "metadata": {
            "needs_background": "light"
          }
        }
      ]
    },
    {
      "cell_type": "markdown",
      "source": [
        "As $Q$ becomes infinitely close to $P$:\n",
        "* $x_2 - x_1$ approaches 0\n",
        "* In other words, as $\\Delta x$ approaches 0\n",
        "* This can be denoted as $\\Delta x \\to 0$\n",
        "\n",
        "Using the delta method, we've derived the definition of differentiation from first principles. The derivative of $y$ (denoted $dy$) with respect to $x$ (denoted $dx$) can be represented as:\n",
        "\n",
        "$$\n",
        "\\frac{dy}{dx} = \\lim_{\\Delta x \\to 0} \\frac{\\Delta y}{\\Delta x}\n",
        "$$\n",
        "\n",
        "Expanding $\\Delta y$ out to $y_2 - y_1$:\n",
        "\n",
        "\n",
        "$$\n",
        "\\frac{dy}{dx} = \\lim_{\\Delta x \\to 0} \\frac{y_2 - y_1}{\\Delta x}\n",
        "$$\n",
        "\n",
        "Finally, replacing $y_1$ with $f(x)$ and replacing $y_2$ with $f(x + \\Delta x)$, we obtain a common representation of differentiation:\n",
        "\n",
        "$$\n",
        "\\frac{dy}{dx} = \\lim_{\\Delta x \\to 0} \\frac{f(x + \\Delta x) - f(x)}{\\Delta x}\n",
        "$$\n",
        "\n",
        "Differential equation *IN ACTION*:"
      ],
      "metadata": {
        "id": "hPYtMWEoDMyj"
      }
    },
    {
      "cell_type": "code",
      "source": [
        "def diff_demo(my_f, my_x, my_delta):\n",
        "  return (my_f(my_x + my_delta) - my_f(my_x)) / my_delta"
      ],
      "metadata": {
        "id": "xapRzZm5GGIj"
      },
      "execution_count": 67,
      "outputs": []
    },
    {
      "cell_type": "code",
      "source": [
        "deltas = [1, 0.1, 0.01, 0.001, 0.0001, 0.00001, 0.000001]"
      ],
      "metadata": {
        "id": "c6TMt8LxGUku"
      },
      "execution_count": 68,
      "outputs": []
    },
    {
      "cell_type": "code",
      "source": [
        "for delta in deltas:\n",
        "  print(diff_demo(f, 2, delta))"
      ],
      "metadata": {
        "colab": {
          "base_uri": "https://localhost:8080/",
          "height": 0
        },
        "id": "fZ-0sHM8GbKR",
        "outputId": "e625ca14-2ec7-4a25-b309-633ec093c303"
      },
      "execution_count": 69,
      "outputs": [
        {
          "output_type": "stream",
          "name": "stdout",
          "text": [
            "7.0\n",
            "6.099999999999994\n",
            "6.009999999999849\n",
            "6.000999999999479\n",
            "6.000100000012054\n",
            "6.000009999951316\n",
            "6.000001000927568\n"
          ]
        }
      ]
    },
    {
      "cell_type": "code",
      "source": [
        "for delta in deltas:\n",
        "  print(diff_demo(f, -1, delta))"
      ],
      "metadata": {
        "colab": {
          "base_uri": "https://localhost:8080/",
          "height": 0
        },
        "id": "mSlfIbqjGgmE",
        "outputId": "df484211-02f8-43c9-cd16-8879ce2db2bd"
      },
      "execution_count": 70,
      "outputs": [
        {
          "output_type": "stream",
          "name": "stdout",
          "text": [
            "1.0\n",
            "0.10000000000000009\n",
            "0.009999999999998899\n",
            "0.001000000000139778\n",
            "9.99999993922529e-05\n",
            "1.000000082740371e-05\n",
            "1.000088900582341e-06\n"
          ]
        }
      ]
    },
    {
      "cell_type": "markdown",
      "source": [
        "## Derivative Notation\n",
        "\n",
        "$y = f(x)$\n",
        "\n",
        "Differentiation operator: $\\frac{d}{dx} = D_x$\n",
        "\n",
        "first derivative of $y$ with respect to $x$: $\\dot{y}$,  $y'$, $f'(x)$, $\\frac{dy}{dx}$, $\\frac{d}{dx}f(x)$ and $D_xf$\n",
        "\n",
        "second derivative of $y$ with respect to $x$: $\\ddot{y}$,  $y''$, $f''(x)$, $\\frac{d^2y}{dx^2}$, $\\frac{d^2}{dx^2}f(x)$ and $D^2_xf$"
      ],
      "metadata": {
        "id": "HWO1yiHSGkYK"
      }
    },
    {
      "cell_type": "markdown",
      "source": [
        "## Differentiation Rules"
      ],
      "metadata": {
        "id": "_v5Z6FjvI9Yk"
      }
    },
    {
      "cell_type": "markdown",
      "source": [
        "### Derivative of a constant\n",
        "\n",
        "Assuming $c$ is constant: $\\frac{d}{dx} C = 0$\n",
        "\n",
        "Intuition: a constant has no variation so its slope is nothing:\n",
        "\n",
        "$\\frac{d}{dx}25 = 0$"
      ],
      "metadata": {
        "id": "yG4kkx2mKRgD"
      }
    },
    {
      "cell_type": "markdown",
      "source": [
        "### The Power Rule\n",
        "\n",
        "$$\n",
        "\\frac{d}{dx}x^n = nx^{n-1}\n",
        "$$\n",
        "\n",
        "ex:\n",
        "\n",
        "$$\n",
        "\\frac{d}{dx}x^4 = 4x^{4-1} = 4x^3\n",
        "$$\n"
      ],
      "metadata": {
        "id": "2lYtFpRyKox0"
      }
    },
    {
      "cell_type": "markdown",
      "source": [
        "## The Constant Multiple Rule\n",
        "\n",
        "$\\frac{d}{dx}(cy) = c \\frac{d}{dx}(y) = c \\frac{dx}{dy}$\n",
        "\n",
        "Ex:\n",
        "\n",
        "$y = x^4$\n",
        "\n",
        "First, the power rule for $y$:\n",
        "\n",
        "$\\frac{dy}{dx} = 4x^3$\n",
        "\n",
        "Then substitute, let's say with $2$ as the value of the constant $c$:\n",
        "\n",
        "$\\frac{d}{dx}2y = 2 \\frac{dy}{dx} = 2(4x^3) = 8x^3$\n",
        "\n",
        "## The Constant Multiple Rule *Simplified*\n",
        "\n",
        "Just jam the constant in front of the function and multiply it out at the end:\n",
        "\n",
        "$y = 2x^4$\n",
        "\n",
        "$\\frac{dy}{dx} = 2(4x^3) = 8x^3$\n"
      ],
      "metadata": {
        "id": "ILCAQgmPLc5L"
      }
    },
    {
      "cell_type": "markdown",
      "source": [
        "## The Sum Rule\n",
        "\n",
        "If we have two terms we can calculate them separately and add:\n",
        "\n",
        "$\\frac{d(y+w)}{dx} = \\frac{dy}{dx} + \\frac{dw}{dx}$\n",
        "\n",
        "Ex:\n",
        "\n",
        "$y = x^4$ and $w = x^9$\n",
        "\n",
        "$\\frac{d(y+w)}{dx} = \\frac{dy}{dx} + \\frac{dw}{dx}$\n",
        "\n",
        "= $\\frac{d}{dx}(x^4) + \\frac{d}{dx}(x^9) $\n",
        "\n",
        "= $4x^3 + 9x^8$"
      ],
      "metadata": {
        "id": "qnhVRNkZOGmi"
      }
    },
    {
      "cell_type": "markdown",
      "source": [
        "## Derivative Rule Exercises\n",
        "\n",
        "Use the derivative rules to:\n",
        "\n",
        "1. Differentiate $y = -5x^3$\n",
        "\n",
        "power rule:\n",
        "\n",
        "$y = -15x^2$\n",
        "\n",
        "2. Differentiate $y = 2x^2 + 2x + 2$\n",
        "\n",
        "Sum rule, means we can caluculate the derivatives separately. The $2$ at the end is a constant, so the derivative of a constant is always 0.\n",
        "\n",
        "Power rule for the other two\n",
        "\n",
        "$y = 2(2x') + 2(1x^0) + 0 = 4x + 2$\n",
        "\n",
        "3. Differentiate $y = 10x^5 - 6x^3 -x -1$\n",
        "\n",
        "Sum and Power rules again, then factoring:\n",
        "\n",
        "$y = 5(10x^4) - 6(3x^2) -1x^0 -0 = 50x^4 - 18x^2 -1$\n",
        "\n",
        "4. Find the slope of $y = 2x^2 + 2x + 2$ where $x$ = 2\n",
        "\n",
        "Constant rule, then power rule, then substitute:\n",
        "\n",
        "$m =  2x + 2 + 0 = 4 + 2 + 0 = 6$\n",
        "\n",
        "5. Repeat exercise 4, but where $x$ = -1\n",
        "\n",
        "Just plug in -1 in the formula from step 4.\n",
        "\n",
        "$m = 2x + 2 + 0 = -2 + 2 + 0 = 0$\n"
      ],
      "metadata": {
        "id": "VCarVWLtP7JZ"
      }
    },
    {
      "cell_type": "markdown",
      "source": [
        "## The Product Rule\n",
        "\n",
        "$$\n",
        "\\frac{d(wz)}{dx} = w\\frac{dz}{dx} + z\\frac{dw}{dx}\n",
        "$$\n",
        "\n",
        "Useful:\n",
        "\n",
        "* During calculations involving several rules\n",
        "* Whenever product is incalculable pre-differentiation.\n",
        "\n",
        "$y = (6x^3)(7x^4)$\n",
        "\n",
        "$w = 6x^3$\n",
        "\n",
        "$z = 7x^4$\n",
        "\n",
        "$\\frac{dw}{dx} = 18x^2$\n",
        "\n",
        "$\\frac{dz}{dx} = 28x^3$\n",
        "\n",
        "$\\frac{dy}{dx} = \\frac{d(wz)}{dx} = w\\frac{dz}{dx} + z\\frac{dw}{dx}$\n",
        "\n",
        "= $(6x^3)(28x^3)+(7x^4)(18x^2)$\n",
        "\n",
        "= $168x^6 + 126x^6$\n",
        "\n",
        "= $294x^6$"
      ],
      "metadata": {
        "id": "wyqqpvo69okq"
      }
    },
    {
      "cell_type": "code",
      "source": [
        "# Just a check to investigate adding exponents when multiplying expressions with\n",
        "# exponents\n",
        "\n",
        "x = 2\n",
        "exponent = 3\n",
        "exponent_b = 5\n",
        "multiplied_exponents = (6 * (x**exponent)) * (28* (x**exponent_b))\n",
        "added_exponents = (6*28)*(x**(exponent+exponent_b))\n",
        "multiplied_exponents, added_exponents"
      ],
      "metadata": {
        "colab": {
          "base_uri": "https://localhost:8080/",
          "height": 0
        },
        "id": "eQU1DWXpZmMM",
        "outputId": "571076d2-8fc2-4e54-ea70-3e2fe1ed8e43"
      },
      "execution_count": 13,
      "outputs": [
        {
          "output_type": "execute_result",
          "data": {
            "text/plain": [
              "(43008, 43008)"
            ]
          },
          "metadata": {},
          "execution_count": 13
        }
      ]
    },
    {
      "cell_type": "markdown",
      "source": [
        "## The Quotient (Fraction) Rule\n",
        "\n",
        "$$\n",
        "\\frac{d}{dx}\\left(\\frac{w}{z}\\right) = \\frac{z\\frac{dw}{dx} - w\\frac{dz}{dx}}{z^2}\n",
        "$$\n",
        "\n",
        "$y=\\frac{4x^2}{x^3+1}$\n",
        "\n",
        "$w = 4x^2$\n",
        "\n",
        "$z = x^3+1$\n",
        "\n",
        "$\\frac{dw}{dx} = 8x$\n",
        "\n",
        "$\\frac{dz}{dx} = 2x^2$\n",
        "\n",
        "$\n",
        "\\frac{d}{dx}\\left(\\frac{w}{z}\\right) = \n",
        "\\frac{(x^3+1) 8x - \n",
        "4x^2 2x^2}\n",
        "{(x^3+1)^2}\n",
        "$\n",
        "\n",
        "=\n",
        "$\n",
        "\\frac{8x^4+8x - 12x^4}\n",
        "{(x^3 + 1)^2}\n",
        "$\n",
        "\n",
        "=\n",
        "$\n",
        "\\frac{-4x^4 + 8x}\n",
        "{(x^3 + 1)^2}\n",
        "$"
      ],
      "metadata": {
        "id": "WKfOxRgibHO1"
      }
    },
    {
      "cell_type": "markdown",
      "source": [
        "## The Chain Rule (Oh Boy!)\n",
        "\n",
        "$$\\frac{dy}{dx} = \\frac{dy}{du} \\frac{du}{dx}$$\n",
        "\n",
        "* Many applications within ML\n",
        "  * Gradient descent in general\n",
        "  * Critical for backpropatation algorithim used to train neural nets\n",
        "* Based on *nested functions* (a.k.a. *composite functions*):\n",
        "  * Let's say $y = (5x+25)^3$\n",
        "  * We can let $u = 5x + 25$\n",
        "  * In that case, $y = u^3$\n",
        "  * $y$ is a function of $u$, and $u$ is a function of $x$\n",
        "* The *Chain rule* is an easy way to find derivative of a nested function\n",
        "\n"
      ],
      "metadata": {
        "id": "qQg3Wr6dvjBG"
      }
    },
    {
      "cell_type": "code",
      "source": [
        "# Random brain-fart code golf for no good reason\n",
        "def recursive_exponent(base, power):\n",
        "  return base * recursive_exponent(base, power - 1) if power > 0 else base\n",
        "\n",
        "recursive_exponent(3, 2), recursive_exponent(8, 3), recursive_exponent(2, 2)"
      ],
      "metadata": {
        "colab": {
          "base_uri": "https://localhost:8080/",
          "height": 0
        },
        "id": "-w-ahMqZycAG",
        "outputId": "9f678aa4-8303-44fa-f9b6-910ece26b312"
      },
      "execution_count": 27,
      "outputs": [
        {
          "output_type": "execute_result",
          "data": {
            "text/plain": [
              "(27, 4096, 8)"
            ]
          },
          "metadata": {},
          "execution_count": 27
        }
      ]
    },
    {
      "cell_type": "markdown",
      "source": [
        "### Chain rule example\n",
        "\n",
        "$y = (2x^2 + 8)^2 $\n",
        "\n",
        "> $y = u^2$\n",
        ">\n",
        "> $\\frac{dy}{du} = 2u$ (power rule)\n",
        ">\n",
        "> = $2(2x^2 + 8)$\n",
        ">\n",
        "> = $4x^2 + 16$\n",
        "\n",
        "> $u = 2x^2 + 8$\n",
        ">\n",
        "> $\\frac{du}{dx} = 4x $\n",
        "\n",
        "$\\frac{dy}{dx} = \\frac{dy}{du} \\frac{du}{dx}$\n",
        "\n",
        "= $(4x^2 + 16)(4x)$\n",
        "\n",
        "= $16x^3 + 64x$"
      ],
      "metadata": {
        "id": "WL7qmvlo6G64"
      }
    },
    {
      "cell_type": "markdown",
      "source": [
        "## Exercises\n",
        "\n",
        "1. Use the product rule to find $f(x)$ where $y = (2x^2 + 6x)(2x^3 + 5x^2)$\n",
        "2. Use the quotient rule to find $y'$ where $y = \\frac{6x^2}{2 - x}$\n",
        "3. Differentiate $y = (3x + 1)^2$\n",
        "4. Find $y'$ where $y = (x^2 + 5x)^6$\n",
        "5. Differentiate $f(x) = \\frac{1}{((x^4 + 1)^5) + 7}$\n"
      ],
      "metadata": {
        "id": "YYi2noToyrv8"
      }
    },
    {
      "cell_type": "markdown",
      "source": [
        "### 1. Use the product rule to find $f(x)$ where $y = (2x^2 + 6x)(2x^3 + 5x^2)$\n",
        "\n",
        "$$\n",
        "\\frac{d(wz)}{dx} = w\\frac{dz}{dx} + z\\frac{dw}{dx}\n",
        "$$\n",
        "\n",
        "1. Step One: Use the Product Rule to split this into two variables\n",
        "\n",
        "$$\n",
        "w = (2x^2 + 6x)\n",
        "$$\n",
        "\n",
        "$$z = (2x^3 + 5x^2)$$\n",
        "\n",
        "2. Step Two: Use the Power Rule to compute the derivatives of $w$ and $z$:\n",
        "\n",
        "$$\\frac{dw}{dx} = 4x + 6$$\n",
        "\n",
        "$$\\frac{dz}{dx} = 6x^2 + 10x$$\n",
        "\n",
        "3. Step Three: Multiply it all out:\n",
        "\n",
        "$w\\frac{dz}{dx}\n",
        "= (2x^2 + 6x)(6x^2 + 10x)$\n",
        "\n",
        "$z\\frac{dw}{dx}\n",
        "= (2x^3 + 5x^2)(4x + 6)$\n",
        "\n",
        "= $(2x^2 + 6x)(6x^2 + 10x) + (2x^3 + 5x^2)(4x + 6)$\n",
        "\n",
        "= $12x^4 + 20x^3 + 36x^3 + 60x^2 + 8x^4 + 12x^3 + 20x^3 + 30x^2$\n",
        "\n",
        "= $20x^4 + 88x^3 + 90x^2$\n"
      ],
      "metadata": {
        "id": "OMCxl5N-9oAB"
      }
    },
    {
      "cell_type": "markdown",
      "source": [
        "##2. Use the quotient rule to find $y'$ where $y = \\frac{6x^2}{2 - x}$\n",
        "\n",
        "$$\n",
        "\\frac{d}{dx}\\left(\\frac{w}{z}\\right) = \\frac{z\\frac{dw}{dx} - w\\frac{dz}{dx}}{z^2}\n",
        "$$\n",
        "\n",
        "1. Step One: define the variables\n",
        "\n",
        "$$\n",
        "w = 6x^2\n",
        "$$\n",
        "\n",
        "$$z = 2-x$$\n",
        "\n",
        "2. Step Two: Power Rule to get the derivaties\n",
        "\n",
        "$$\n",
        "\\frac{dw}{dx} = 12x\n",
        "$$\n",
        "\n",
        "$$\n",
        "\\frac{dz}{dx} = 0 -1x^0 = -1\n",
        "$$\n",
        "\n",
        "3. Multiply it out:\n",
        "\n",
        "$$\n",
        "\\frac{(2-x)(12x) - (6x^2)(-1)}{(2-x)^2}\n",
        "$$\n",
        "\n",
        "=\n",
        "$$\n",
        "\\frac{24x - 12x^2 +6x^2}{(2-x^2)}\n",
        "$$\n",
        "\n",
        "=\n",
        "$$\n",
        "\\frac{24x - 6x^2}{(2-x)^2}\n",
        "$$\n"
      ],
      "metadata": {
        "id": "_9hkOPfbCBgI"
      }
    },
    {
      "cell_type": "markdown",
      "source": [
        "## 3. Differentiate $y = (3x + 1)^2$\n",
        "\n",
        "1. Chain Rule\n",
        "\n",
        "$y = u^2$\n",
        "\n",
        "$u = 3x + 1$\n",
        "\n",
        "$\\frac{dy}{dx} = \\frac{dy}{du} \\frac{du}{dx}$\n",
        "\n",
        "via power rule:\n",
        "\n",
        "$\\frac{dy}{du} = 2u$\n",
        "= $2(3x + 1)$\n",
        "= $6x + 2$\n",
        "\n",
        "via power rule:\n",
        "\n",
        "$\\frac{du}{dx} = 3$\n",
        "\n",
        "$(6x + 2)(3) = 18x + 6$\n"
      ],
      "metadata": {
        "id": "tCTBELou5_qm"
      }
    },
    {
      "cell_type": "markdown",
      "source": [
        "## 4. Find $y'$ where $y = (x^2 + 5x)^6$\n",
        "\n",
        "1. Chain Rule\n",
        "\n",
        "$u = x^2 + 5x$\n",
        "\n",
        "$y = u^6$\n",
        "\n",
        "$\\frac{dy}{dx} = \\frac{dy}{du} \\frac{du}{dx}$\n",
        "\n",
        "via power rule:\n",
        "\n",
        "$\\frac{dy}{du} = 6u^5 = 6(x^2 + 5x)^5$\n",
        "\n",
        "$\\frac{du}{dx} = 2x + 5$\n",
        "\n",
        "= $(6(x^2 + 5x)^5)(2x + 5)$\n"
      ],
      "metadata": {
        "id": "ZKkfM2Bb9puf"
      }
    },
    {
      "cell_type": "markdown",
      "source": [
        "## 5. Differentiate $f(x) = \\frac{1}{((x^4 + 1)^5) + 7}$\n",
        "\n",
        "So the first trick is to rewrite with an exponent:\n",
        "\n",
        "$(((x^4 + 1)^5) + 7)^{-1}$\n",
        "\n",
        "### This is multiple chain rule layers!\n",
        "\n",
        "$y = u^{-1}$\n",
        "\n",
        "$u = t^5 + 7$\n",
        "\n",
        "$t = (x^4 + 1)$\n",
        "\n",
        "$\\frac{dy}{dx} = \\frac{dy}{du} \\frac{du}{dt} \\frac{dt}{dx}$\n",
        "\n",
        "= $(-((x^4+1)^5 + 7)^{-2})(5(x^4 + 1)^4)(4x^3)$"
      ],
      "metadata": {
        "id": "BQasvB8T_lWQ"
      }
    },
    {
      "cell_type": "markdown",
      "source": [
        "## Power Rule on a Function Chain\n",
        "\n",
        "Lets you skip one of the derivatives\n",
        "\n",
        "$$\n",
        "\\frac{d}{dx}u^n = nu^{n-1} \\frac{du}{dx}\n",
        "$$\n",
        "\n",
        "For example,\n",
        "\n",
        "$y = (3x+1)^2$\n",
        "\n",
        "$n = 2$\n",
        "\n",
        "$u = 3x + 1$\n",
        "\n",
        "$\\frac{du}{dx} = 3$\n",
        "\n",
        "$\\frac{dy}{dx} = \\frac{d}{dx}u^n = nu^{n-1} \\frac{du}{dx}$\n",
        "\n",
        "= $(2(3x + 1)^1)(3)$\n",
        "\n",
        "= $(6x + 1)(3) = 18x + 6$\n",
        "\n",
        "# TODO: repeat 4 and 5 using the power rule on a function chain"
      ],
      "metadata": {
        "id": "Wx1A0I6O_zQu"
      }
    },
    {
      "cell_type": "markdown",
      "source": [
        "# Segment 3: Automatic Differentiation\n",
        "\n",
        "* Autodiff with PyTorch\n",
        "* Autodiff with TensorFlow\n",
        "* Machine Learning via Differentiation\n",
        "* Cost (or Loss) Functions\n",
        "* The Future: Differentiable Programming"
      ],
      "metadata": {
        "id": "vfwwPmPl_1wn"
      }
    },
    {
      "cell_type": "markdown",
      "source": [
        "# Automatic Differentiation\n",
        "\n",
        "* AKA:\n",
        "  * Autodiff\n",
        "  * Autograd\n",
        "  * Computational Differentiation\n",
        "  * Reverse Mode Differentiation\n",
        "  * Algorithmic Differentiation\n",
        "* Distinct from classical methods:\n",
        "  * Numberical Differentiation (delta method; introduces rounding errors)\n",
        "  * Symbolic Differentiation (algebraic rules; computationally inefficient)\n",
        "* Relative to classical methods, better handles:\n",
        "  * Functions with many inputs\n",
        "  * Higher-order derivatives\n",
        "\n",
        "* Application of chain rule (typically *partial* derivative) to sequence (forward pass) of arithmetic operations\n",
        "* Whereas applying the chain rule by hand typically begins at most-nested function, autodiff proceeds from outermost function inward\n",
        "* Small constant factor more compute than forward pass (at most)"
      ],
      "metadata": {
        "id": "eGWMe12wNVRg"
      }
    },
    {
      "cell_type": "markdown",
      "source": [
        "## Autodiff with PyTorch\n",
        "\n",
        "**TensorFlow** and **PyTorch** are the two most popular automatic differentiation libraries.\n",
        "\n",
        "Let's use them to calculate $\\frac{dy}{dx}$ at $x = 5$ where:\n",
        "\n",
        "$$\n",
        "y = x^2\n",
        "$$\n",
        "\n",
        "On paper, we'd do it like this:\n",
        "\n",
        "$$\n",
        "\\frac{dy}{dx} = 2x = 2(5) = 10\n",
        "$$"
      ],
      "metadata": {
        "id": "5Ad_lgarOALh"
      }
    },
    {
      "cell_type": "code",
      "source": [
        "import torch"
      ],
      "metadata": {
        "id": "CQVti5upPbce"
      },
      "execution_count": 2,
      "outputs": []
    },
    {
      "cell_type": "code",
      "source": [
        "x = torch.tensor(5.0)"
      ],
      "metadata": {
        "id": "jV2NE4pTPe6h"
      },
      "execution_count": 11,
      "outputs": []
    },
    {
      "cell_type": "code",
      "source": [
        "x"
      ],
      "metadata": {
        "colab": {
          "base_uri": "https://localhost:8080/"
        },
        "id": "QEtel5GKQSXr",
        "outputId": "44cc3e72-1cca-4f1b-c322-7907bb172109"
      },
      "execution_count": 12,
      "outputs": [
        {
          "output_type": "execute_result",
          "data": {
            "text/plain": [
              "tensor(5.)"
            ]
          },
          "metadata": {},
          "execution_count": 12
        }
      ]
    },
    {
      "cell_type": "code",
      "source": [
        "x.requires_grad_() # contagiously track gradients through forward pass"
      ],
      "metadata": {
        "colab": {
          "base_uri": "https://localhost:8080/"
        },
        "id": "YkJm0nHkQS6p",
        "outputId": "d892a10a-ed99-4153-fc0f-4e093a3c1f84"
      },
      "execution_count": 13,
      "outputs": [
        {
          "output_type": "execute_result",
          "data": {
            "text/plain": [
              "tensor(5., requires_grad=True)"
            ]
          },
          "metadata": {},
          "execution_count": 13
        }
      ]
    },
    {
      "cell_type": "code",
      "source": [
        "y = x ** 2"
      ],
      "metadata": {
        "id": "2ETStAtoQXn5"
      },
      "execution_count": 17,
      "outputs": []
    },
    {
      "cell_type": "code",
      "source": [
        "y.backward() # use autodiff"
      ],
      "metadata": {
        "id": "itQxAspnSKAG"
      },
      "execution_count": 18,
      "outputs": []
    },
    {
      "cell_type": "code",
      "source": [
        "x.grad"
      ],
      "metadata": {
        "colab": {
          "base_uri": "https://localhost:8080/"
        },
        "id": "lXmlnWiUSLs1",
        "outputId": "f1482d14-2741-48d8-9722-62eb89eab93d"
      },
      "execution_count": 19,
      "outputs": [
        {
          "output_type": "execute_result",
          "data": {
            "text/plain": [
              "tensor(10.)"
            ]
          },
          "metadata": {},
          "execution_count": 19
        }
      ]
    },
    {
      "cell_type": "code",
      "source": [
        "# TensorFlow version:\n",
        "import tensorflow as tf"
      ],
      "metadata": {
        "id": "w4nnuU9xSXq8"
      },
      "execution_count": 20,
      "outputs": []
    },
    {
      "cell_type": "code",
      "source": [
        "x = tf.Variable(5.0)"
      ],
      "metadata": {
        "id": "8REp-hLxSr3H"
      },
      "execution_count": 21,
      "outputs": []
    },
    {
      "cell_type": "code",
      "source": [
        "with tf.GradientTape() as t:\n",
        "  t.watch(x) # track forward pass\n",
        "  y = x ** 2"
      ],
      "metadata": {
        "id": "N5KKmQYiStEK"
      },
      "execution_count": 22,
      "outputs": []
    },
    {
      "cell_type": "code",
      "source": [
        "t.gradient(y, x) # use autodiff"
      ],
      "metadata": {
        "colab": {
          "base_uri": "https://localhost:8080/"
        },
        "id": "Xk7MdpBySz7-",
        "outputId": "946f55a3-39d2-4e3e-9ecc-eb5861142269"
      },
      "execution_count": 23,
      "outputs": [
        {
          "output_type": "execute_result",
          "data": {
            "text/plain": [
              "<tf.Tensor: shape=(), dtype=float32, numpy=10.0>"
            ]
          },
          "metadata": {},
          "execution_count": 23
        }
      ]
    },
    {
      "cell_type": "markdown",
      "source": [
        "## Fitting a Line with Machine Learning\n",
        "\n",
        "* Line equation $y = mx + b$ as a *directed acyclic graph* (DAG)\n",
        "* Nodes are input, output, parameters or operations\n",
        "* Directed edges (\"arrows\") are tensors"
      ],
      "metadata": {
        "id": "4qXT1ZJ1S3BL"
      }
    },
    {
      "cell_type": "markdown",
      "source": [
        "From here, open the [Regression In PyTorch Notebook](https://colab.research.google.com/drive/1pkJAnjMOfnFxqRAQubTYgJa3kq7yXNxj#scrollTo=P9mFE3IJUkXr)"
      ],
      "metadata": {
        "id": "zVfu-n4BURQI"
      }
    }
  ]
}
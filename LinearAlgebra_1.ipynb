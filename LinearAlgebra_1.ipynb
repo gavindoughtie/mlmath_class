{
  "nbformat": 4,
  "nbformat_minor": 0,
  "metadata": {
    "colab": {
      "provenance": [],
      "authorship_tag": "ABX9TyOmwnxa/PSQU17OIULFu7Uu",
      "include_colab_link": true
    },
    "kernelspec": {
      "name": "python3",
      "display_name": "Python 3"
    },
    "language_info": {
      "name": "python"
    }
  },
  "cells": [
    {
      "cell_type": "markdown",
      "metadata": {
        "id": "view-in-github",
        "colab_type": "text"
      },
      "source": [
        "<a href=\"https://colab.research.google.com/github/gavindoughtie/mlmath_class/blob/main/LinearAlgebra_1.ipynb\" target=\"_parent\"><img src=\"https://colab.research.google.com/assets/colab-badge.svg\" alt=\"Open In Colab\"/></a>"
      ]
    },
    {
      "cell_type": "markdown",
      "source": [
        "[The course notebook](https://github.com/jonkrohn/ML-foundations/blob/master/notebooks/1-intro-to-linear-algebra.ipynb)"
      ],
      "metadata": {
        "id": "R-DX6OipQtAk"
      }
    },
    {
      "cell_type": "code",
      "execution_count": 1,
      "metadata": {
        "id": "_Lgy0rMYxWxk"
      },
      "outputs": [],
      "source": [
        "import numpy as np\n",
        "import matplotlib.pyplot as plt"
      ]
    },
    {
      "cell_type": "code",
      "source": [
        "t = np.linspace(0, 40, 100) # start, finish, n points"
      ],
      "metadata": {
        "id": "iXEhqbFAKXBJ"
      },
      "execution_count": 2,
      "outputs": []
    },
    {
      "cell_type": "markdown",
      "source": [
        "Distance travelled by robber: $d = 2.5t$"
      ],
      "metadata": {
        "id": "Hz_9ut1wKmRz"
      }
    },
    {
      "cell_type": "code",
      "source": [
        "d_r = 2.5 * t"
      ],
      "metadata": {
        "id": "dVENQcidKeOs"
      },
      "execution_count": 3,
      "outputs": []
    },
    {
      "cell_type": "markdown",
      "source": [
        "Distance travelled by sheriff = $d = 3(t -5)$"
      ],
      "metadata": {
        "id": "aQJ9CsRPKiiR"
      }
    },
    {
      "cell_type": "code",
      "source": [
        "d_s = 3 * (t - 5)"
      ],
      "metadata": {
        "id": "HsDUQBdTKwyk"
      },
      "execution_count": 4,
      "outputs": []
    },
    {
      "cell_type": "code",
      "source": [
        "fix, ax = plt.subplots()\n",
        "plt.title('A Bank Robber Caught')\n",
        "plt.xlabel('time (in minutes)')\n",
        "plt.ylabel('distance (in km)')\n",
        "ax.set_xlim([0, 40])\n",
        "ax.set_ylim([0, 100])\n",
        "ax.plot(t, d_r, c='green')\n",
        "ax.plot(t, d_s, c='brown')\n",
        "plt.axvline(x=30, color='purple', linestyle='--')\n",
        "_ = plt.axhline(y=75, color='purple', linestyle='--')"
      ],
      "metadata": {
        "colab": {
          "base_uri": "https://localhost:8080/",
          "height": 295
        },
        "id": "867dHfKsK3y_",
        "outputId": "5c428bb7-b46c-4c23-fa46-dfdee4aca166"
      },
      "execution_count": 5,
      "outputs": [
        {
          "output_type": "display_data",
          "data": {
            "text/plain": [
              "<Figure size 432x288 with 1 Axes>"
            ],
            "image/png": "[encoded data removed]"
          },
          "metadata": {
            "needs_background": "light"
          }
        }
      ]
    },
    {
      "cell_type": "markdown",
      "source": [
        "# Tensors\n",
        "\n",
        "\"ML Generalization of vectors and matrices to any number of dimensions\"\n",
        "\n",
        "* scalar: X\n",
        "* vector: [X, X, X]\n",
        "* matrix: \n",
        "```\n",
        "[[X, X]\n",
        "[X, X]]\n",
        "```"
      ],
      "metadata": {
        "id": "eYmJeuwbK5cZ"
      }
    },
    {
      "cell_type": "markdown",
      "source": [
        "Scalars\n",
        "* No dimensions\n",
        "* Single number\n",
        "* Denoted in lowercase, italics, e.g.: $x$\n",
        "* Should be *typed*, like all other tensors: e.g., int, float32\n"
      ],
      "metadata": {
        "id": "hxUGmzBdNx64"
      }
    },
    {
      "cell_type": "markdown",
      "source": [
        "https://github.com/jonkrohn/ml-foundations"
      ],
      "metadata": {
        "id": "-5iXtU4JOCim"
      }
    },
    {
      "cell_type": "markdown",
      "source": [
        "# Scalars (Rank 0 Tensors) in Base Python"
      ],
      "metadata": {
        "id": "djekKPKJOH5w"
      }
    },
    {
      "cell_type": "code",
      "source": [
        "x = 25\n",
        "x, type(x)"
      ],
      "metadata": {
        "colab": {
          "base_uri": "https://localhost:8080/"
        },
        "id": "IOElGAVLOrh2",
        "outputId": "2c4282f6-06fe-48a9-ca44-c543f17c86c8"
      },
      "execution_count": 6,
      "outputs": [
        {
          "output_type": "execute_result",
          "data": {
            "text/plain": [
              "(25, int)"
            ]
          },
          "metadata": {},
          "execution_count": 6
        }
      ]
    },
    {
      "cell_type": "code",
      "source": [
        "y = 3"
      ],
      "metadata": {
        "id": "sqWc2hMrOtxx"
      },
      "execution_count": 7,
      "outputs": []
    },
    {
      "cell_type": "code",
      "source": [
        "py_sum = x + y\n",
        "py_sum"
      ],
      "metadata": {
        "colab": {
          "base_uri": "https://localhost:8080/"
        },
        "id": "_PxWxthlOxvs",
        "outputId": "a1b0d521-f2e3-4a3b-e0f8-658203d45a8a"
      },
      "execution_count": 8,
      "outputs": [
        {
          "output_type": "execute_result",
          "data": {
            "text/plain": [
              "28"
            ]
          },
          "metadata": {},
          "execution_count": 8
        }
      ]
    },
    {
      "cell_type": "code",
      "source": [
        "x_float = 25.0\n",
        "float_sum = x_float + y\n",
        "float_sum"
      ],
      "metadata": {
        "colab": {
          "base_uri": "https://localhost:8080/"
        },
        "id": "awZse2FcOzna",
        "outputId": "4b50f8aa-e0be-45e8-9ce5-e009366cb96d"
      },
      "execution_count": 9,
      "outputs": [
        {
          "output_type": "execute_result",
          "data": {
            "text/plain": [
              "28.0"
            ]
          },
          "metadata": {},
          "execution_count": 9
        }
      ]
    },
    {
      "cell_type": "code",
      "source": [
        "type(float_sum)"
      ],
      "metadata": {
        "colab": {
          "base_uri": "https://localhost:8080/"
        },
        "id": "SuiItj7OO4KR",
        "outputId": "f48a1e9b-526e-4fa7-e3ec-246417f06dc4"
      },
      "execution_count": 10,
      "outputs": [
        {
          "output_type": "execute_result",
          "data": {
            "text/plain": [
              "float"
            ]
          },
          "metadata": {},
          "execution_count": 10
        }
      ]
    },
    {
      "cell_type": "markdown",
      "source": [
        "# Scalars in PyTorch\n",
        "\n",
        "* PyTorch Tensors are designed to be pythonic; to feel and behave like NumPy arrays\n",
        "* The advantage of PyTorch tensors relative to NumPy arrays is that they can easily be used for operations on GPU\n",
        "* Documentation on PyTorch tensors is of course googleable"
      ],
      "metadata": {
        "id": "WvAGsSS1O5Hi"
      }
    },
    {
      "cell_type": "code",
      "source": [
        "import torch"
      ],
      "metadata": {
        "id": "hcQH_Q9MO9iY"
      },
      "execution_count": 11,
      "outputs": []
    },
    {
      "cell_type": "code",
      "source": [
        "x_pt = torch.tensor(25) # type specification is optional: dtype=torch.float16\n",
        "x_pt"
      ],
      "metadata": {
        "colab": {
          "base_uri": "https://localhost:8080/"
        },
        "id": "1igx8pcQPSKc",
        "outputId": "c65e56e7-ddac-4b8c-ff50-a28417d0cdd9"
      },
      "execution_count": 12,
      "outputs": [
        {
          "output_type": "execute_result",
          "data": {
            "text/plain": [
              "tensor(25)"
            ]
          },
          "metadata": {},
          "execution_count": 12
        }
      ]
    },
    {
      "cell_type": "code",
      "source": [
        "x_pt.shape"
      ],
      "metadata": {
        "colab": {
          "base_uri": "https://localhost:8080/"
        },
        "id": "b3JaOaOKPXaC",
        "outputId": "3ff5603f-db48-48ae-b9be-3a9fa5e99adf"
      },
      "execution_count": 13,
      "outputs": [
        {
          "output_type": "execute_result",
          "data": {
            "text/plain": [
              "torch.Size([])"
            ]
          },
          "metadata": {},
          "execution_count": 13
        }
      ]
    },
    {
      "cell_type": "markdown",
      "source": [
        "# Scalars in TensorFlow (ver 2.0 or later)\n",
        "\n",
        "Tensors created with a wrapper.\n",
        "* tf.Variable\n",
        "* tf.constant\n",
        "* tf.placeholder\n",
        "* tf.SparseTensor\n",
        "\n",
        "Most widely used is tf.Variable, which we'll use here.\n",
        "\n",
        "As with TF tensors in PyTorch we can similarly perform operations and we can easily convert to and from NumPy arrays."
      ],
      "metadata": {
        "id": "p8JfHlZiPYy_"
      }
    },
    {
      "cell_type": "code",
      "source": [
        "import tensorflow as tf\n",
        "tf.__version__"
      ],
      "metadata": {
        "colab": {
          "base_uri": "https://localhost:8080/",
          "height": 35
        },
        "id": "1qAxtEPYPg2K",
        "outputId": "b95e6810-9fc7-429a-d272-37e9656aeb74"
      },
      "execution_count": 14,
      "outputs": [
        {
          "output_type": "execute_result",
          "data": {
            "text/plain": [
              "'2.11.0'"
            ],
            "application/vnd.google.colaboratory.intrinsic+json": {
              "type": "string"
            }
          },
          "metadata": {},
          "execution_count": 14
        }
      ]
    },
    {
      "cell_type": "code",
      "source": [
        "x_tf = tf.Variable(25, dtype=tf.int16)\n",
        "x_tf"
      ],
      "metadata": {
        "colab": {
          "base_uri": "https://localhost:8080/"
        },
        "id": "ijiiefZVPjNb",
        "outputId": "c4164871-6d6d-4a8f-9f67-a0d58064cd1d"
      },
      "execution_count": 15,
      "outputs": [
        {
          "output_type": "execute_result",
          "data": {
            "text/plain": [
              "<tf.Variable 'Variable:0' shape=() dtype=int16, numpy=25>"
            ]
          },
          "metadata": {},
          "execution_count": 15
        }
      ]
    },
    {
      "cell_type": "code",
      "source": [
        "x_tf.shape"
      ],
      "metadata": {
        "colab": {
          "base_uri": "https://localhost:8080/"
        },
        "id": "rMKtAGX6QC_b",
        "outputId": "aa5e2287-ce6f-4c39-c7e9-f0373500ac95"
      },
      "execution_count": 16,
      "outputs": [
        {
          "output_type": "execute_result",
          "data": {
            "text/plain": [
              "TensorShape([])"
            ]
          },
          "metadata": {},
          "execution_count": 16
        }
      ]
    },
    {
      "cell_type": "code",
      "source": [
        "y_tf = tf.Variable(3, dtype=tf.int16)\n",
        "y_tf"
      ],
      "metadata": {
        "colab": {
          "base_uri": "https://localhost:8080/"
        },
        "id": "wCEgMIECRTHJ",
        "outputId": "ffd4d629-13e6-47ef-a233-c720ccec9355"
      },
      "execution_count": 17,
      "outputs": [
        {
          "output_type": "execute_result",
          "data": {
            "text/plain": [
              "<tf.Variable 'Variable:0' shape=() dtype=int16, numpy=3>"
            ]
          },
          "metadata": {},
          "execution_count": 17
        }
      ]
    },
    {
      "cell_type": "code",
      "source": [
        "tf_sum = tf.add(x_tf, y_tf)\n",
        "tf_sum, x_tf + y_tf"
      ],
      "metadata": {
        "colab": {
          "base_uri": "https://localhost:8080/"
        },
        "id": "NYQ3Mds7RVkb",
        "outputId": "8dc3f797-96ae-4852-cd1e-45562aae217f"
      },
      "execution_count": 18,
      "outputs": [
        {
          "output_type": "execute_result",
          "data": {
            "text/plain": [
              "(<tf.Tensor: shape=(), dtype=int16, numpy=28>,\n",
              " <tf.Tensor: shape=(), dtype=int16, numpy=28>)"
            ]
          },
          "metadata": {},
          "execution_count": 18
        }
      ]
    },
    {
      "cell_type": "code",
      "source": [
        "tf_sum.numpy(), type(tf_sum.numpy())"
      ],
      "metadata": {
        "colab": {
          "base_uri": "https://localhost:8080/"
        },
        "id": "uI1y2aY6Rd0z",
        "outputId": "736e49a6-85b0-44fd-e729-79012ed26123"
      },
      "execution_count": 19,
      "outputs": [
        {
          "output_type": "execute_result",
          "data": {
            "text/plain": [
              "(28, numpy.int16)"
            ]
          },
          "metadata": {},
          "execution_count": 19
        }
      ]
    },
    {
      "cell_type": "code",
      "source": [
        "tf_float = tf.Variable(25, dtype=tf.float16)\n",
        "tf_float"
      ],
      "metadata": {
        "colab": {
          "base_uri": "https://localhost:8080/"
        },
        "id": "-ymlySb7RgJY",
        "outputId": "1e803540-2e26-4a97-ead5-756eae2b70c6"
      },
      "execution_count": 20,
      "outputs": [
        {
          "output_type": "execute_result",
          "data": {
            "text/plain": [
              "<tf.Variable 'Variable:0' shape=() dtype=float16, numpy=25.0>"
            ]
          },
          "metadata": {},
          "execution_count": 20
        }
      ]
    },
    {
      "cell_type": "markdown",
      "source": [
        "# Vectors\n",
        "* One-dimensional array of numbers\n",
        "* Denoted in lowercase, italics, bold: **$x$**\n",
        "* Arranged in an order, so element can be accessed by its index\n",
        "  * Elements are scalars, so *not* bold: second element of **$x$** is $x_2$\n",
        "* Representing a point in space:\n",
        "  * Vector of length two represents location in 2D matrix\n",
        "  * Vector of length three represents location in 3D cube\n",
        "  * Length of n represents location in $n$-dimensional tensor"
      ],
      "metadata": {
        "id": "03rUyU_jSKrN"
      }
    },
    {
      "cell_type": "markdown",
      "source": [
        "## Vector Transposition\n",
        "\n",
        "Row vector, shape $(1, 3)$ transformed to column vector of shape $(3, 1)$:\n",
        "\n",
        "$[x_1 x_2 x_3]^\\mathsf{T}$ = $\n",
        "  \\begin{bmatrix}\n",
        "  x_1 \\\\\n",
        "  x_2 \\\\\n",
        "  x_3 \\end{bmatrix}\n",
        "$"
      ],
      "metadata": {
        "id": "R3YLRe-qUNhZ"
      }
    },
    {
      "cell_type": "code",
      "source": [
        "import numpy as np"
      ],
      "metadata": {
        "id": "D4T-OAeVZbPY"
      },
      "execution_count": 21,
      "outputs": []
    },
    {
      "cell_type": "code",
      "source": [
        "x = np.array([25, 2, 5]) #, dtype=np.float16)\n",
        "x, type(x)"
      ],
      "metadata": {
        "colab": {
          "base_uri": "https://localhost:8080/"
        },
        "id": "WYOFFOWNZg7t",
        "outputId": "b1a8c34a-9acb-435d-ce61-81c746525fec"
      },
      "execution_count": 22,
      "outputs": [
        {
          "output_type": "execute_result",
          "data": {
            "text/plain": [
              "(array([25,  2,  5]), numpy.ndarray)"
            ]
          },
          "metadata": {},
          "execution_count": 22
        }
      ]
    },
    {
      "cell_type": "code",
      "source": [
        "len(x)"
      ],
      "metadata": {
        "colab": {
          "base_uri": "https://localhost:8080/"
        },
        "id": "O0aJNhQqZj2v",
        "outputId": "2bd9c899-547a-4e05-985d-ae95caf92c29"
      },
      "execution_count": 23,
      "outputs": [
        {
          "output_type": "execute_result",
          "data": {
            "text/plain": [
              "3"
            ]
          },
          "metadata": {},
          "execution_count": 23
        }
      ]
    },
    {
      "cell_type": "code",
      "source": [
        "x.shape"
      ],
      "metadata": {
        "colab": {
          "base_uri": "https://localhost:8080/"
        },
        "id": "bNhJJ-AmZlSA",
        "outputId": "3e012cbf-ad8c-4f1b-d4af-8bd339f15a32"
      },
      "execution_count": 24,
      "outputs": [
        {
          "output_type": "execute_result",
          "data": {
            "text/plain": [
              "(3,)"
            ]
          },
          "metadata": {},
          "execution_count": 24
        }
      ]
    },
    {
      "cell_type": "code",
      "source": [
        "x[0]"
      ],
      "metadata": {
        "colab": {
          "base_uri": "https://localhost:8080/"
        },
        "id": "bOwqZ_vqZl_A",
        "outputId": "3996d826-e99b-4abd-ffab-5d90c0dcca68"
      },
      "execution_count": 25,
      "outputs": [
        {
          "output_type": "execute_result",
          "data": {
            "text/plain": [
              "25"
            ]
          },
          "metadata": {},
          "execution_count": 25
        }
      ]
    },
    {
      "cell_type": "code",
      "source": [
        "type(x[0])"
      ],
      "metadata": {
        "colab": {
          "base_uri": "https://localhost:8080/"
        },
        "id": "p5pTCh4ig8KH",
        "outputId": "d5c15a2a-363f-4545-f719-cb7c6f5e7798"
      },
      "execution_count": 26,
      "outputs": [
        {
          "output_type": "execute_result",
          "data": {
            "text/plain": [
              "numpy.int64"
            ]
          },
          "metadata": {},
          "execution_count": 26
        }
      ]
    },
    {
      "cell_type": "markdown",
      "source": [
        "# Vector Transposition"
      ],
      "metadata": {
        "id": "o_iluObMg9UP"
      }
    },
    {
      "cell_type": "code",
      "source": [
        "# Transposing a regular 1-D array has no effect...\n",
        "x_t = x.T\n",
        "x_t"
      ],
      "metadata": {
        "colab": {
          "base_uri": "https://localhost:8080/"
        },
        "id": "zv858liLhLN9",
        "outputId": "3833ef37-66b6-4a0d-d623-d678911112c9"
      },
      "execution_count": 27,
      "outputs": [
        {
          "output_type": "execute_result",
          "data": {
            "text/plain": [
              "array([25,  2,  5])"
            ]
          },
          "metadata": {},
          "execution_count": 27
        }
      ]
    },
    {
      "cell_type": "code",
      "source": [
        "# ... but it does if we use \"matrix-style\" brackets:\n",
        "y = np.array([[25, 2, 5]])\n",
        "y"
      ],
      "metadata": {
        "colab": {
          "base_uri": "https://localhost:8080/"
        },
        "id": "RkNbC_rHhPZ1",
        "outputId": "6cf00ed3-196d-444e-d197-e4d4afeaacb9"
      },
      "execution_count": 28,
      "outputs": [
        {
          "output_type": "execute_result",
          "data": {
            "text/plain": [
              "array([[25,  2,  5]])"
            ]
          },
          "metadata": {},
          "execution_count": 28
        }
      ]
    },
    {
      "cell_type": "code",
      "source": [
        "y.shape"
      ],
      "metadata": {
        "colab": {
          "base_uri": "https://localhost:8080/"
        },
        "id": "AkEb7w-GhZmm",
        "outputId": "8b404fa0-29e0-4a7b-a632-20ba89b70639"
      },
      "execution_count": 29,
      "outputs": [
        {
          "output_type": "execute_result",
          "data": {
            "text/plain": [
              "(1, 3)"
            ]
          },
          "metadata": {},
          "execution_count": 29
        }
      ]
    },
    {
      "cell_type": "code",
      "source": [
        "print(f'y:\\n{y}\\ny.T:\\n{y.T}\\ny.Tt.shape:\\n{y.T.shape}')"
      ],
      "metadata": {
        "colab": {
          "base_uri": "https://localhost:8080/"
        },
        "id": "G57gOhrqhdaB",
        "outputId": "7a428da0-b239-43d4-d3fe-7c57322e3014"
      },
      "execution_count": 30,
      "outputs": [
        {
          "output_type": "stream",
          "name": "stdout",
          "text": [
            "y:\n",
            "[[25  2  5]]\n",
            "y.T:\n",
            "[[25]\n",
            " [ 2]\n",
            " [ 5]]\n",
            "y.Tt.shape:\n",
            "(3, 1)\n"
          ]
        }
      ]
    },
    {
      "cell_type": "markdown",
      "source": [
        "# Zero Vectors\n",
        "\n",
        "Have no effect if added to another vector"
      ],
      "metadata": {
        "id": "Uz9uFf20heyJ"
      }
    },
    {
      "cell_type": "code",
      "source": [
        "z = np.zeros(3)\n",
        "z"
      ],
      "metadata": {
        "colab": {
          "base_uri": "https://localhost:8080/"
        },
        "id": "45-gUGsMh5fh",
        "outputId": "696d6538-d6de-4a0b-9ba2-813f4a4f8fd3"
      },
      "execution_count": 31,
      "outputs": [
        {
          "output_type": "execute_result",
          "data": {
            "text/plain": [
              "array([0., 0., 0.])"
            ]
          },
          "metadata": {},
          "execution_count": 31
        }
      ]
    },
    {
      "cell_type": "code",
      "source": [
        "y + z"
      ],
      "metadata": {
        "colab": {
          "base_uri": "https://localhost:8080/"
        },
        "id": "VE_oA9Efh7ls",
        "outputId": "191ff3c2-c883-49a4-a8d5-5479e7d9a2e1"
      },
      "execution_count": 32,
      "outputs": [
        {
          "output_type": "execute_result",
          "data": {
            "text/plain": [
              "array([[25.,  2.,  5.]])"
            ]
          },
          "metadata": {},
          "execution_count": 32
        }
      ]
    },
    {
      "cell_type": "markdown",
      "source": [
        "# Vectors in PyTorch and TensorFlow"
      ],
      "metadata": {
        "id": "yQLF4ThNiFrP"
      }
    },
    {
      "cell_type": "code",
      "source": [
        "x_pt = torch.tensor([25, 2, 5])\n",
        "x_pt"
      ],
      "metadata": {
        "colab": {
          "base_uri": "https://localhost:8080/"
        },
        "id": "2g1Pd-zoh9rq",
        "outputId": "4d2ebb5b-bf69-4aab-916e-58cb5635b4ab"
      },
      "execution_count": 33,
      "outputs": [
        {
          "output_type": "execute_result",
          "data": {
            "text/plain": [
              "tensor([25,  2,  5])"
            ]
          },
          "metadata": {},
          "execution_count": 33
        }
      ]
    },
    {
      "cell_type": "code",
      "source": [
        "x_tf = tf.Variable([25, 2, 5])\n",
        "x_tf"
      ],
      "metadata": {
        "colab": {
          "base_uri": "https://localhost:8080/"
        },
        "id": "eXKCQANkiEyG",
        "outputId": "370fb4e0-4ceb-4aa1-8578-003f32f2ee8f"
      },
      "execution_count": 34,
      "outputs": [
        {
          "output_type": "execute_result",
          "data": {
            "text/plain": [
              "<tf.Variable 'Variable:0' shape=(3,) dtype=int32, numpy=array([25,  2,  5], dtype=int32)>"
            ]
          },
          "metadata": {},
          "execution_count": 34
        }
      ]
    },
    {
      "cell_type": "markdown",
      "source": [
        "# Norms and Unit Vectors\n",
        "\n",
        "A vector can represent a magnitude and direction from origin.\n",
        "\n",
        "*Norms* are a functions that quantify vector magnitude.\n"
      ],
      "metadata": {
        "id": "mt2hQvjqiMj4"
      }
    },
    {
      "cell_type": "markdown",
      "source": [
        "#$L^2$ Norm\n",
        "\n",
        "* Described by:\n",
        "\n",
        "$\\lVert x \\rVert_{_2} = \\sqrt{\\sum\\limits_{i} x_i^2}$\n",
        "\n",
        "* Measures simple (Euclidean) distance from origin\n",
        "* Most common norm in machine learning\n",
        "  * Instead of $\\Vert x \\rVert_{_2}$, it can be denoted as $\\lVert x \\rVert$"
      ],
      "metadata": {
        "id": "9FFHnESGixns"
      }
    },
    {
      "cell_type": "code",
      "source": [
        "x"
      ],
      "metadata": {
        "colab": {
          "base_uri": "https://localhost:8080/"
        },
        "id": "wI8e6DnznzpB",
        "outputId": "7984aa21-6b12-47de-b483-3f22e2d0d5d7"
      },
      "execution_count": 35,
      "outputs": [
        {
          "output_type": "execute_result",
          "data": {
            "text/plain": [
              "array([25,  2,  5])"
            ]
          },
          "metadata": {},
          "execution_count": 35
        }
      ]
    },
    {
      "cell_type": "code",
      "source": [
        "(25 ** 2 + 2 ** 2 + 5 ** 2) ** (1/2)"
      ],
      "metadata": {
        "colab": {
          "base_uri": "https://localhost:8080/"
        },
        "id": "cVj_nGSdn3qi",
        "outputId": "9b5c4c04-4ddc-46a4-e98a-d00f5dbee362"
      },
      "execution_count": 36,
      "outputs": [
        {
          "output_type": "execute_result",
          "data": {
            "text/plain": [
              "25.573423705088842"
            ]
          },
          "metadata": {},
          "execution_count": 36
        }
      ]
    },
    {
      "cell_type": "code",
      "source": [
        "np.linalg.norm(x)"
      ],
      "metadata": {
        "colab": {
          "base_uri": "https://localhost:8080/"
        },
        "id": "BMA-SLxVn9oD",
        "outputId": "59558512-c35c-4e63-af1d-e6f846385af8"
      },
      "execution_count": 37,
      "outputs": [
        {
          "output_type": "execute_result",
          "data": {
            "text/plain": [
              "25.573423705088842"
            ]
          },
          "metadata": {},
          "execution_count": 37
        }
      ]
    },
    {
      "cell_type": "markdown",
      "source": [
        "So if units in this 3-dimensional vector space are meters, then the vector $x$ has a length of 25.6m"
      ],
      "metadata": {
        "id": "jsW7-mLAoAeB"
      }
    },
    {
      "cell_type": "markdown",
      "source": [
        "# Unit Vectors\n",
        "\n",
        "* Special case of vector where it's length is equal to one\n",
        "* Technically, $x$ is a unit vecotr with \"unit norm\", i.e.: $\\lVert x \\rVert = 1$"
      ],
      "metadata": {
        "id": "5SpwcmRToMtx"
      }
    },
    {
      "cell_type": "markdown",
      "source": [
        "# Beyond the $L^2$ Norm"
      ],
      "metadata": {
        "id": "SHwSmA6iokF1"
      }
    },
    {
      "cell_type": "markdown",
      "source": [
        "## $L^2$ Norm\n",
        "\n",
        "* Described by:\n",
        "$\\lVert x \\rVert = \\sum\\limits_{i} \\vert x_i \\vert $\n",
        "\n",
        "* Another common norm in machine learning\n",
        "* Varias linearly at all locations whether near or far from origin\n",
        "* Used whenever differences between zero and non-zero is key"
      ],
      "metadata": {
        "id": "tUg0aVC5oxIK"
      }
    },
    {
      "cell_type": "code",
      "source": [
        "np.abs(25) + np.abs(2) + np.abs(5) # L1 of vector x"
      ],
      "metadata": {
        "colab": {
          "base_uri": "https://localhost:8080/"
        },
        "id": "q25Lz9NapfGi",
        "outputId": "05e36139-44c9-468d-a64e-bbd3129c5f43"
      },
      "execution_count": 38,
      "outputs": [
        {
          "output_type": "execute_result",
          "data": {
            "text/plain": [
              "32"
            ]
          },
          "metadata": {},
          "execution_count": 38
        }
      ]
    },
    {
      "cell_type": "code",
      "source": [
        "np.linalg.norm(x, 1)"
      ],
      "metadata": {
        "colab": {
          "base_uri": "https://localhost:8080/"
        },
        "id": "D1L42sPBpmHp",
        "outputId": "1a8fce49-4a44-4fce-8084-f2a5b64089a2"
      },
      "execution_count": 39,
      "outputs": [
        {
          "output_type": "execute_result",
          "data": {
            "text/plain": [
              "32.0"
            ]
          },
          "metadata": {},
          "execution_count": 39
        }
      ]
    },
    {
      "cell_type": "markdown",
      "source": [
        "## Squared $L^2$ Norm\n",
        "\n",
        "* Described by:\n",
        "$\\lVert x \\rVert = \\sum\\limits_{i} x_i^2 $\n",
        "\n",
        "Like the L2 Norm, but without the square root.\n",
        "\n",
        "* Computationally cheaper than the L2 norm.\n",
        "  * Squared $L^2$ norm equals simply $x^\\mathsf{T}x$\n",
        "  * Derivative (used to train many ML algorithms) of element $x$ rquires that element alone, whereas $L^2$ norm requires $x$ vector\n",
        "* Downside is it grows slowly near origin so it can't be used if distinguishing between zero and near-zero is important. https://towardsdatascience.com/visualizing-regularization-and-the-l1-and-l2-norms-d962aa769932\n"
      ],
      "metadata": {
        "id": "8BQsEUzVpq2Q"
      }
    },
    {
      "cell_type": "code",
      "source": [
        "x"
      ],
      "metadata": {
        "colab": {
          "base_uri": "https://localhost:8080/"
        },
        "id": "tXWKv8diUlbL",
        "outputId": "a689e683-bb24-4446-cf3e-09299f5eebee"
      },
      "execution_count": 40,
      "outputs": [
        {
          "output_type": "execute_result",
          "data": {
            "text/plain": [
              "array([25,  2,  5])"
            ]
          },
          "metadata": {},
          "execution_count": 40
        }
      ]
    },
    {
      "cell_type": "code",
      "source": [
        "(25 ** 2 + 2 ** 2 + 5 ** 2)"
      ],
      "metadata": {
        "colab": {
          "base_uri": "https://localhost:8080/"
        },
        "id": "VdIuNdIjUnV5",
        "outputId": "bc087824-49e6-4311-c3c8-60e8a110812c"
      },
      "execution_count": 41,
      "outputs": [
        {
          "output_type": "execute_result",
          "data": {
            "text/plain": [
              "654"
            ]
          },
          "metadata": {},
          "execution_count": 41
        }
      ]
    },
    {
      "cell_type": "code",
      "source": [
        "# we'll cover tensor multiplication soon but:\n",
        "np.dot(x, x)"
      ],
      "metadata": {
        "colab": {
          "base_uri": "https://localhost:8080/"
        },
        "id": "EztOmSWCUr6x",
        "outputId": "2ad1fe5e-84df-4d91-f0d1-2c8619b3cc76"
      },
      "execution_count": 42,
      "outputs": [
        {
          "output_type": "execute_result",
          "data": {
            "text/plain": [
              "654"
            ]
          },
          "metadata": {},
          "execution_count": 42
        }
      ]
    },
    {
      "cell_type": "markdown",
      "source": [
        "# Max Norm (or $L^∞$ Norm)\n",
        "\n",
        "* Described by\n",
        "$\\lVert x \\rVert_\\infty = \\max\\limits_{i} \\vert x_i \\vert $\n",
        "* Final norm we'll discuss; also occurs frequently in ML\n",
        "* Returns the absolute value of the largest-magnitude element"
      ],
      "metadata": {
        "id": "US_FOKVgUxIs"
      }
    },
    {
      "cell_type": "code",
      "source": [
        "x"
      ],
      "metadata": {
        "colab": {
          "base_uri": "https://localhost:8080/"
        },
        "id": "AHqR3QafVoGM",
        "outputId": "57a9c2c0-867e-4f31-a9f6-b63a3150a648"
      },
      "execution_count": 43,
      "outputs": [
        {
          "output_type": "execute_result",
          "data": {
            "text/plain": [
              "array([25,  2,  5])"
            ]
          },
          "metadata": {},
          "execution_count": 43
        }
      ]
    },
    {
      "cell_type": "code",
      "source": [
        "np.max([np.abs(25), np.abs(2), np.abs(5)])"
      ],
      "metadata": {
        "colab": {
          "base_uri": "https://localhost:8080/"
        },
        "id": "wmPFKll8VqLv",
        "outputId": "6aae0013-f522-4110-a260-23fed4cfa3ee"
      },
      "execution_count": 44,
      "outputs": [
        {
          "output_type": "execute_result",
          "data": {
            "text/plain": [
              "25"
            ]
          },
          "metadata": {},
          "execution_count": 44
        }
      ]
    },
    {
      "cell_type": "markdown",
      "source": [
        "# Generalized $L^p$ Norm\n",
        "\n",
        "* Described by:\n",
        "$\\lVert x \\rVert_p = \\begin{pmatrix} \\sum\\limits_{i} | x_i |^p \\end{pmatrix}^\\frac{1}{p}$\n",
        "\n",
        "* Formula for all norms (i.e., $L^2$ subs 2 for $p$)\n",
        "* $p$ must be a real number\n",
        "* $p$ must be $>=1$\n",
        "* Norms, particularly $L^1$ and $L^2$, used to regularize objective functions\n"
      ],
      "metadata": {
        "id": "42ggKuzZVv9d"
      }
    },
    {
      "cell_type": "markdown",
      "source": [
        "# Basis Vectors\n",
        "\n",
        "* Can be scaled to represent *any* vector in a given vector space.\n",
        "\n",
        "So if you have a unit vector defined by $i (1, 0), j (0, 1)$ as the *basis vector* and you want to scale it to $ (1.5, 0), (0, 2) $ you could just do: $v = 1.5i + 2$"
      ],
      "metadata": {
        "id": "6oN4HdbhV5eB"
      }
    },
    {
      "cell_type": "markdown",
      "source": [
        "# Orthogonal Vectors\n",
        "\n",
        "* $x$ and $y$ are orthagonal vectors if $x^\\mathsf{T}y = 0$\n",
        "* Are at $90^{\\circ}$ angle to each other (assuming non-zero norms)\n",
        "* *n*-dimensional space has max *n* mutually orthoganal vectors (again assuming non-zero norms)\n",
        "* **Orthonormal** vectors are orthoganal *and* all have unit norm.\n",
        "  * Basis vectors are an example"
      ],
      "metadata": {
        "id": "FhJnuLhU4uTg"
      }
    },
    {
      "cell_type": "code",
      "source": [
        "i = np.array([1, 0])\n",
        "j = np.array([0, 1])\n",
        "i, j"
      ],
      "metadata": {
        "colab": {
          "base_uri": "https://localhost:8080/"
        },
        "id": "IiD18mzz5oRl",
        "outputId": "fdf1f196-8638-44da-f609-90a19f04b248"
      },
      "execution_count": 45,
      "outputs": [
        {
          "output_type": "execute_result",
          "data": {
            "text/plain": [
              "(array([1, 0]), array([0, 1]))"
            ]
          },
          "metadata": {},
          "execution_count": 45
        }
      ]
    },
    {
      "cell_type": "code",
      "source": [
        "np.dot(i, j)"
      ],
      "metadata": {
        "colab": {
          "base_uri": "https://localhost:8080/"
        },
        "id": "qGQoho3p5u5N",
        "outputId": "e29dfbc8-1ddd-45c1-89e0-b4bf42a4eaf0"
      },
      "execution_count": 46,
      "outputs": [
        {
          "output_type": "execute_result",
          "data": {
            "text/plain": [
              "0"
            ]
          },
          "metadata": {},
          "execution_count": 46
        }
      ]
    },
    {
      "cell_type": "markdown",
      "source": [
        "# Matrices (Rank 2 Tensors)\n",
        "\n",
        "* Two-dimensional array of numbers\n",
        "* Denoted in uppercase, italics, bold, eg: $X$\n",
        "* Height given priority ahead of width in notation, i.e.: $(n_{row}, n_{col})$\n",
        "  * if $X$ has three rows and two columns, its shape is (3, 2)\n",
        "* Individual scalar elements denoted in uppercase, italics only\n",
        "  * Element in top-right corner of matrix $X$ above would be $X_{1,2}$\n",
        "* Colon represents an entire row or column:\n",
        "  * Left column of matrix $X$ is $X_{:,1}$\n",
        "  * Middle row of matrix $X$ is $X_{2,:}$\n"
      ],
      "metadata": {
        "id": "6ScsOVOY5yu2"
      }
    },
    {
      "cell_type": "code",
      "source": [
        "X = np.array([[25, 2], [5, 26], [3, 7]])\n",
        "X"
      ],
      "metadata": {
        "id": "Q2C6VSaW6A8h",
        "colab": {
          "base_uri": "https://localhost:8080/"
        },
        "outputId": "90b70075-8278-4eb7-cece-0fcfc05f2cff"
      },
      "execution_count": 47,
      "outputs": [
        {
          "output_type": "execute_result",
          "data": {
            "text/plain": [
              "array([[25,  2],\n",
              "       [ 5, 26],\n",
              "       [ 3,  7]])"
            ]
          },
          "metadata": {},
          "execution_count": 47
        }
      ]
    },
    {
      "cell_type": "code",
      "source": [
        "X.shape"
      ],
      "metadata": {
        "colab": {
          "base_uri": "https://localhost:8080/"
        },
        "id": "uo37lPfiO88o",
        "outputId": "efacc507-e357-4ccc-efda-0e7cae959eab"
      },
      "execution_count": 48,
      "outputs": [
        {
          "output_type": "execute_result",
          "data": {
            "text/plain": [
              "(3, 2)"
            ]
          },
          "metadata": {},
          "execution_count": 48
        }
      ]
    },
    {
      "cell_type": "code",
      "source": [
        "X.size"
      ],
      "metadata": {
        "colab": {
          "base_uri": "https://localhost:8080/"
        },
        "id": "Cw-l03L9PGKd",
        "outputId": "bbf1c166-e262-49b0-af1c-67c61fc34056"
      },
      "execution_count": 49,
      "outputs": [
        {
          "output_type": "execute_result",
          "data": {
            "text/plain": [
              "6"
            ]
          },
          "metadata": {},
          "execution_count": 49
        }
      ]
    },
    {
      "cell_type": "code",
      "source": [
        "# Select left column of matrix X (math notation starts at 1,\n",
        "# unlike 0 the way the good lord intended:\n",
        "X[:, 0]"
      ],
      "metadata": {
        "colab": {
          "base_uri": "https://localhost:8080/"
        },
        "id": "tHy1gsshPG-a",
        "outputId": "2a2d8365-fa0a-4bce-a71e-0e65bb6a1dad"
      },
      "execution_count": 50,
      "outputs": [
        {
          "output_type": "execute_result",
          "data": {
            "text/plain": [
              "array([25,  5,  3])"
            ]
          },
          "metadata": {},
          "execution_count": 50
        }
      ]
    },
    {
      "cell_type": "code",
      "source": [
        "# Select middle row of matrix X:\n",
        "X[1,:]"
      ],
      "metadata": {
        "colab": {
          "base_uri": "https://localhost:8080/"
        },
        "id": "5HwRCtdYPQXN",
        "outputId": "4812ec22-88e1-4666-9a3a-2b2eea467811"
      },
      "execution_count": 51,
      "outputs": [
        {
          "output_type": "execute_result",
          "data": {
            "text/plain": [
              "array([ 5, 26])"
            ]
          },
          "metadata": {},
          "execution_count": 51
        }
      ]
    },
    {
      "cell_type": "code",
      "source": [
        "# Another slicing-by-index example:\n",
        "X[0:2, 0:2]"
      ],
      "metadata": {
        "colab": {
          "base_uri": "https://localhost:8080/"
        },
        "id": "Vyklx-pePd-q",
        "outputId": "fec41c42-7bcd-4d2c-a94a-dc9d99144adb"
      },
      "execution_count": 52,
      "outputs": [
        {
          "output_type": "execute_result",
          "data": {
            "text/plain": [
              "array([[25,  2],\n",
              "       [ 5, 26]])"
            ]
          },
          "metadata": {},
          "execution_count": 52
        }
      ]
    },
    {
      "cell_type": "markdown",
      "source": [
        "## Matrices in PyTorch\n"
      ],
      "metadata": {
        "id": "jZ0b-UcDPmO8"
      }
    },
    {
      "cell_type": "code",
      "source": [
        "X_pt = torch.tensor([[25, 2], [5, 26], [3, 7]])\n",
        "X_pt"
      ],
      "metadata": {
        "colab": {
          "base_uri": "https://localhost:8080/"
        },
        "id": "8T4WEfjOQC95",
        "outputId": "33b9f40d-8ee1-4bd8-d249-46688f6b1031"
      },
      "execution_count": 53,
      "outputs": [
        {
          "output_type": "execute_result",
          "data": {
            "text/plain": [
              "tensor([[25,  2],\n",
              "        [ 5, 26],\n",
              "        [ 3,  7]])"
            ]
          },
          "metadata": {},
          "execution_count": 53
        }
      ]
    },
    {
      "cell_type": "markdown",
      "source": [
        "## Matrices in TensorFlow"
      ],
      "metadata": {
        "id": "OBYHaYG1QIVY"
      }
    },
    {
      "cell_type": "code",
      "source": [
        "X_tf = tf.Variable([[25, 2], [5, 26], [3, 7]])\n",
        "X_tf"
      ],
      "metadata": {
        "colab": {
          "base_uri": "https://localhost:8080/"
        },
        "id": "OdYym7bBQMf3",
        "outputId": "a8a5a096-4016-4f0b-b3c4-c8c23080e6f5"
      },
      "execution_count": 54,
      "outputs": [
        {
          "output_type": "execute_result",
          "data": {
            "text/plain": [
              "<tf.Variable 'Variable:0' shape=(3, 2) dtype=int32, numpy=\n",
              "array([[25,  2],\n",
              "       [ 5, 26],\n",
              "       [ 3,  7]], dtype=int32)>"
            ]
          },
          "metadata": {},
          "execution_count": 54
        }
      ]
    },
    {
      "cell_type": "code",
      "source": [
        "tf.rank(X_tf)"
      ],
      "metadata": {
        "colab": {
          "base_uri": "https://localhost:8080/"
        },
        "id": "fmSfsm69QQIp",
        "outputId": "e0d78b10-b6d0-4f8d-bd56-9953e55a29d2"
      },
      "execution_count": 55,
      "outputs": [
        {
          "output_type": "execute_result",
          "data": {
            "text/plain": [
              "<tf.Tensor: shape=(), dtype=int32, numpy=2>"
            ]
          },
          "metadata": {},
          "execution_count": 55
        }
      ]
    },
    {
      "cell_type": "code",
      "source": [
        "tf.shape(X_tf)"
      ],
      "metadata": {
        "colab": {
          "base_uri": "https://localhost:8080/"
        },
        "id": "isPjoETXQTXU",
        "outputId": "6e9436ce-74a9-417c-d3c2-e413eeed0933"
      },
      "execution_count": 56,
      "outputs": [
        {
          "output_type": "execute_result",
          "data": {
            "text/plain": [
              "<tf.Tensor: shape=(2,), dtype=int32, numpy=array([3, 2], dtype=int32)>"
            ]
          },
          "metadata": {},
          "execution_count": 56
        }
      ]
    },
    {
      "cell_type": "code",
      "source": [
        "x_tf[1:]"
      ],
      "metadata": {
        "colab": {
          "base_uri": "https://localhost:8080/"
        },
        "id": "3ao-2L61QV8m",
        "outputId": "492f3c6f-11c6-4a1c-947c-8b716bf20d43"
      },
      "execution_count": 57,
      "outputs": [
        {
          "output_type": "execute_result",
          "data": {
            "text/plain": [
              "<tf.Tensor: shape=(2,), dtype=int32, numpy=array([2, 5], dtype=int32)>"
            ]
          },
          "metadata": {},
          "execution_count": 57
        }
      ]
    },
    {
      "cell_type": "markdown",
      "source": [
        "# Generic Tensor Notation\n",
        "\n",
        "* Upper-case, bold, italics, sans serif: ***X***\n",
        "* In a 4-tensor ***X***, element at position $(i,j,k,l)$ denoted as ***X***$_{(i,j,k,l)}$\n"
      ],
      "metadata": {
        "id": "8298zVPvQl0R"
      }
    },
    {
      "cell_type": "markdown",
      "source": [
        "## Higher-Rank Tensors\n",
        "\n",
        "As an example, rank 4 tensors are common for images, where each dimension correxponds to:\n",
        "1. Number of images in training batch (32)\n",
        "2. Image height in pixels (28 for MNIST)\n",
        "3. Image width in pixels\n",
        "4. Number of color channels (3)"
      ],
      "metadata": {
        "id": "Oa7uyCQ-Ubuu"
      }
    },
    {
      "cell_type": "code",
      "source": [
        "images_pt = torch.zeros([32, 28, 28, 3]) # same for tf.zeros"
      ],
      "metadata": {
        "id": "kapyhS-iUBjw"
      },
      "execution_count": 58,
      "outputs": []
    },
    {
      "cell_type": "code",
      "source": [
        "images_pt.shape"
      ],
      "metadata": {
        "colab": {
          "base_uri": "https://localhost:8080/"
        },
        "id": "qE9NBnDOUGZr",
        "outputId": "d750f11e-ade3-432c-bba7-d3a4cc385974"
      },
      "execution_count": 59,
      "outputs": [
        {
          "output_type": "execute_result",
          "data": {
            "text/plain": [
              "torch.Size([32, 28, 28, 3])"
            ]
          },
          "metadata": {},
          "execution_count": 59
        }
      ]
    },
    {
      "cell_type": "code",
      "source": [
        "images_pt.T.shape"
      ],
      "metadata": {
        "colab": {
          "base_uri": "https://localhost:8080/"
        },
        "id": "iRbiXVeXUMjE",
        "outputId": "30b319cc-9157-4912-a4fa-7907522008b1"
      },
      "execution_count": 60,
      "outputs": [
        {
          "output_type": "stream",
          "name": "stderr",
          "text": [
            "<ipython-input-60-9e18ab83c4f3>:1: UserWarning: The use of `x.T` on tensors of dimension other than 2 to reverse their shape is deprecated and it will throw an error in a future release. Consider `x.mT` to transpose batches of matrices or `x.permute(*torch.arange(x.ndim - 1, -1, -1))` to reverse the dimensions of a tensor. (Triggered internally at ../aten/src/ATen/native/TensorShape.cpp:3277.)\n",
            "  images_pt.T.shape\n"
          ]
        },
        {
          "output_type": "execute_result",
          "data": {
            "text/plain": [
              "torch.Size([3, 28, 28, 32])"
            ]
          },
          "metadata": {},
          "execution_count": 60
        }
      ]
    },
    {
      "cell_type": "markdown",
      "source": [
        "# Exercises"
      ],
      "metadata": {
        "id": "ADGXTwoGVNDw"
      }
    },
    {
      "cell_type": "code",
      "source": [
        "# Transpose of \n",
        "v = torch.tensor([25, 2, -3, 23])\n",
        "# same as v:\n",
        "v.T, v.shape, v.T.shape"
      ],
      "metadata": {
        "colab": {
          "base_uri": "https://localhost:8080/"
        },
        "id": "W190eJIeL4ZZ",
        "outputId": "f556212e-df0c-4939-deaa-c4ffbf4520b4"
      },
      "execution_count": 61,
      "outputs": [
        {
          "output_type": "execute_result",
          "data": {
            "text/plain": [
              "(tensor([25,  2, -3, 23]), torch.Size([4]), torch.Size([4]))"
            ]
          },
          "metadata": {},
          "execution_count": 61
        }
      ]
    },
    {
      "cell_type": "code",
      "source": [
        "# Transpose of\n",
        "y = [\n",
        "      [42, 4, 7, 99],\n",
        "      [-99, -3, 17, 22]\n",
        "     ]\n",
        "# [[42, -99]...\n",
        "torch.tensor(y).T"
      ],
      "metadata": {
        "colab": {
          "base_uri": "https://localhost:8080/"
        },
        "id": "-Y38UYFcL_Tm",
        "outputId": "7f4f5722-7a6a-491b-a1d4-e4801c3fd48a"
      },
      "execution_count": 62,
      "outputs": [
        {
          "output_type": "execute_result",
          "data": {
            "text/plain": [
              "tensor([[ 42, -99],\n",
              "        [  4,  -3],\n",
              "        [  7,  17],\n",
              "        [ 99,  22]])"
            ]
          },
          "metadata": {},
          "execution_count": 62
        }
      ]
    },
    {
      "cell_type": "markdown",
      "source": [
        "## Algebraic shape of y:\n",
        "$ {(2, 4)} $\n",
        "\n",
        "Note, it's *ROW COUNT* first"
      ],
      "metadata": {
        "id": "PF88rZ_cMfRU"
      }
    },
    {
      "cell_type": "markdown",
      "source": [
        "Notation for the position of the element in ***Y*** with the value 17\n",
        "\n",
        "$ \\textbf{Y}_{2, 3} $\n",
        "\n",
        "Remember, these are indexed starting at 1!"
      ],
      "metadata": {
        "id": "qyCb27vGNOOo"
      }
    },
    {
      "cell_type": "markdown",
      "source": [
        "# Tensor Transposition\n",
        "\n",
        "* Transpose of scalar is itself, e.g.: $ x^T = x $\n",
        "* Transpose of a vector converts column to row (and vice versa)\n",
        "* Scalar and vector transposition are special cases of **matrix transposition**:\n",
        "  * Flip of axes over **main diagonal** such that:\n",
        "$ (X^T)_{i, j} = X_{j, i} $"
      ],
      "metadata": {
        "id": "7qLrvA9mPVtW"
      }
    },
    {
      "cell_type": "code",
      "source": [
        "print(f'X:\\n{X}\\nX.T:\\n{X.T}') # Numpy, but pytorch is the same"
      ],
      "metadata": {
        "colab": {
          "base_uri": "https://localhost:8080/"
        },
        "id": "LLS_Kjr0Qome",
        "outputId": "9398c4fd-0803-4cf9-83c5-d6a8f067db96"
      },
      "execution_count": 63,
      "outputs": [
        {
          "output_type": "stream",
          "name": "stdout",
          "text": [
            "X:\n",
            "[[25  2]\n",
            " [ 5 26]\n",
            " [ 3  7]]\n",
            "X.T:\n",
            "[[25  5  3]\n",
            " [ 2 26  7]]\n"
          ]
        }
      ]
    },
    {
      "cell_type": "code",
      "source": [
        "# In TensorFlow\n",
        "X_tf = tf.Variable(X)\n",
        "print(f'X_tf:\\n{X_tf}\\nX.T:\\n{tf.transpose(X_tf)}')"
      ],
      "metadata": {
        "colab": {
          "base_uri": "https://localhost:8080/"
        },
        "id": "kQ6NIUrxQqRr",
        "outputId": "5d684b41-47d3-4445-815a-a89ff8d1fe80"
      },
      "execution_count": 64,
      "outputs": [
        {
          "output_type": "stream",
          "name": "stdout",
          "text": [
            "X_tf:\n",
            "<tf.Variable 'Variable:0' shape=(3, 2) dtype=int64, numpy=\n",
            "array([[25,  2],\n",
            "       [ 5, 26],\n",
            "       [ 3,  7]])>\n",
            "X.T:\n",
            "[[25  5  3]\n",
            " [ 2 26  7]]\n"
          ]
        }
      ]
    },
    {
      "cell_type": "markdown",
      "source": [
        "# Basic Tensor Arithmetic\n",
        "\n",
        "Adding or multiplying with scalar applies operation to all elements and the shape is retained"
      ],
      "metadata": {
        "id": "kR6jOM2ZRMlb"
      }
    },
    {
      "cell_type": "code",
      "source": [
        "X"
      ],
      "metadata": {
        "colab": {
          "base_uri": "https://localhost:8080/"
        },
        "id": "KzprH9SnSA34",
        "outputId": "b18b4e77-152c-411b-e493-860e2bd17358"
      },
      "execution_count": 65,
      "outputs": [
        {
          "output_type": "execute_result",
          "data": {
            "text/plain": [
              "array([[25,  2],\n",
              "       [ 5, 26],\n",
              "       [ 3,  7]])"
            ]
          },
          "metadata": {},
          "execution_count": 65
        }
      ]
    },
    {
      "cell_type": "code",
      "source": [
        "X * 2"
      ],
      "metadata": {
        "colab": {
          "base_uri": "https://localhost:8080/"
        },
        "id": "yW5Iumj6SBPz",
        "outputId": "bcade4cd-0991-4337-ccd5-7ae6ad5489bc"
      },
      "execution_count": 66,
      "outputs": [
        {
          "output_type": "execute_result",
          "data": {
            "text/plain": [
              "array([[50,  4],\n",
              "       [10, 52],\n",
              "       [ 6, 14]])"
            ]
          },
          "metadata": {},
          "execution_count": 66
        }
      ]
    },
    {
      "cell_type": "code",
      "source": [
        "x + 2"
      ],
      "metadata": {
        "colab": {
          "base_uri": "https://localhost:8080/"
        },
        "id": "kWU5sIsOSC_J",
        "outputId": "da2d3fb7-3aae-48b5-cedc-e355231b2928"
      },
      "execution_count": 67,
      "outputs": [
        {
          "output_type": "execute_result",
          "data": {
            "text/plain": [
              "array([27,  4,  7])"
            ]
          },
          "metadata": {},
          "execution_count": 67
        }
      ]
    },
    {
      "cell_type": "code",
      "source": [
        "X * 2 + 1"
      ],
      "metadata": {
        "colab": {
          "base_uri": "https://localhost:8080/"
        },
        "id": "AJvIq_kWSFqA",
        "outputId": "adffa9c5-21fc-4e0f-ae7b-223818b6eabf"
      },
      "execution_count": 68,
      "outputs": [
        {
          "output_type": "execute_result",
          "data": {
            "text/plain": [
              "array([[51,  5],\n",
              "       [11, 53],\n",
              "       [ 7, 15]])"
            ]
          },
          "metadata": {},
          "execution_count": 68
        }
      ]
    },
    {
      "cell_type": "code",
      "source": [
        "# Same in PyTorch. Operators are overloaded. Uses torch.mul() or torch.add()\n",
        "X_pt * 2 + 1"
      ],
      "metadata": {
        "colab": {
          "base_uri": "https://localhost:8080/"
        },
        "id": "20I9Zv8nSJ7n",
        "outputId": "b7afca77-8496-40c5-8da0-8b5efcdcc2e5"
      },
      "execution_count": 69,
      "outputs": [
        {
          "output_type": "execute_result",
          "data": {
            "text/plain": [
              "tensor([[51,  5],\n",
              "        [11, 53],\n",
              "        [ 7, 15]])"
            ]
          },
          "metadata": {},
          "execution_count": 69
        }
      ]
    },
    {
      "cell_type": "markdown",
      "source": [
        "If two tensors have the same size, operations are often by default applied element-wise. This is **not matrix multiplication**, which we'll cover later, it is rather called the **Hademard product** or simply the **element-wise product**.\n",
        "\n",
        "The mathematical notation is $ A \\odot X $"
      ],
      "metadata": {
        "id": "Bxy95SbxSSMD"
      }
    },
    {
      "cell_type": "markdown",
      "source": [
        "# Tensor Reduction\n",
        "\n",
        "Calculating the sum across all elements of a tensor is a common operation. For example:\n",
        "* For vector $x$ of length $n$, we calculate $\\sum^n_{i=1} x_i$\n",
        "* For a matrix $X$ with $m$ by $n$ dimensions, we calculate $\\sum^n_{i=1} x_i \\sum^n_{j=1} x_{i, j} $"
      ],
      "metadata": {
        "id": "nLd73ZgLPD5u"
      }
    },
    {
      "cell_type": "code",
      "source": [
        "X"
      ],
      "metadata": {
        "colab": {
          "base_uri": "https://localhost:8080/"
        },
        "id": "umdIaIoNPG51",
        "outputId": "6ea343b6-a8ef-45f2-b5d3-cb71d923a234"
      },
      "execution_count": 70,
      "outputs": [
        {
          "output_type": "execute_result",
          "data": {
            "text/plain": [
              "array([[25,  2],\n",
              "       [ 5, 26],\n",
              "       [ 3,  7]])"
            ]
          },
          "metadata": {},
          "execution_count": 70
        }
      ]
    },
    {
      "cell_type": "code",
      "source": [
        "X.sum()"
      ],
      "metadata": {
        "colab": {
          "base_uri": "https://localhost:8080/"
        },
        "id": "On65buiPQsE5",
        "outputId": "c330ca87-00b9-4449-91d0-66b58bd88c41"
      },
      "execution_count": 71,
      "outputs": [
        {
          "output_type": "execute_result",
          "data": {
            "text/plain": [
              "68"
            ]
          },
          "metadata": {},
          "execution_count": 71
        }
      ]
    },
    {
      "cell_type": "code",
      "source": [
        "torch.sum(X_pt)"
      ],
      "metadata": {
        "colab": {
          "base_uri": "https://localhost:8080/"
        },
        "id": "Ckn947BMQtlz",
        "outputId": "b5c33eac-cecd-4335-b239-5b066edb6af8"
      },
      "execution_count": 72,
      "outputs": [
        {
          "output_type": "execute_result",
          "data": {
            "text/plain": [
              "tensor(68)"
            ]
          },
          "metadata": {},
          "execution_count": 72
        }
      ]
    },
    {
      "cell_type": "code",
      "source": [
        "tf.reduce_sum(X_tf)"
      ],
      "metadata": {
        "colab": {
          "base_uri": "https://localhost:8080/"
        },
        "id": "M92xNnYtQwFX",
        "outputId": "e6199b9a-1dd5-478e-f931-2da0e3e81c12"
      },
      "execution_count": 73,
      "outputs": [
        {
          "output_type": "execute_result",
          "data": {
            "text/plain": [
              "<tf.Tensor: shape=(), dtype=int64, numpy=68>"
            ]
          },
          "metadata": {},
          "execution_count": 73
        }
      ]
    },
    {
      "cell_type": "code",
      "source": [
        "# Can also e done along one specific axis alone\n",
        "X.sum(axis=0)"
      ],
      "metadata": {
        "colab": {
          "base_uri": "https://localhost:8080/"
        },
        "id": "al5hqrvrQzQk",
        "outputId": "d7dfff04-cf99-4dc8-e601-0a76473cd2de"
      },
      "execution_count": 74,
      "outputs": [
        {
          "output_type": "execute_result",
          "data": {
            "text/plain": [
              "array([33, 35])"
            ]
          },
          "metadata": {},
          "execution_count": 74
        }
      ]
    },
    {
      "cell_type": "code",
      "source": [
        "X.sum(axis=1)"
      ],
      "metadata": {
        "colab": {
          "base_uri": "https://localhost:8080/"
        },
        "id": "c1Lmy8EPQ-Zw",
        "outputId": "ef3fa073-1343-4282-d86f-c8407216ad99"
      },
      "execution_count": 75,
      "outputs": [
        {
          "output_type": "execute_result",
          "data": {
            "text/plain": [
              "array([27, 31, 10])"
            ]
          },
          "metadata": {},
          "execution_count": 75
        }
      ]
    },
    {
      "cell_type": "code",
      "source": [
        "torch.sum(X_pt, 0)"
      ],
      "metadata": {
        "colab": {
          "base_uri": "https://localhost:8080/"
        },
        "id": "jAmaSdU0RDQt",
        "outputId": "835d7567-59f8-4704-e12a-42b41da87615"
      },
      "execution_count": 76,
      "outputs": [
        {
          "output_type": "execute_result",
          "data": {
            "text/plain": [
              "tensor([33, 35])"
            ]
          },
          "metadata": {},
          "execution_count": 76
        }
      ]
    },
    {
      "cell_type": "code",
      "source": [
        "tf.reduce_sum(X_tf, 1)"
      ],
      "metadata": {
        "colab": {
          "base_uri": "https://localhost:8080/"
        },
        "id": "3ewa3WRTRG1H",
        "outputId": "cb565906-86c9-47b9-d084-ac0e2e0c062a"
      },
      "execution_count": 77,
      "outputs": [
        {
          "output_type": "execute_result",
          "data": {
            "text/plain": [
              "<tf.Tensor: shape=(3,), dtype=int64, numpy=array([27, 31, 10])>"
            ]
          },
          "metadata": {},
          "execution_count": 77
        }
      ]
    },
    {
      "cell_type": "markdown",
      "source": [
        "Many other operations can be applied with reduction along all or a selection of axes:\n",
        "\n",
        "* maxiumum\n",
        "* minimum\n",
        "* mean\n",
        "* product\n",
        "\n",
        "They're fairly straightforward and used less often than summation, so RTFM."
      ],
      "metadata": {
        "id": "si68-1RVRMxx"
      }
    },
    {
      "cell_type": "markdown",
      "source": [
        "# The Dot Product\n",
        "\n",
        "If we have two vectors ($x$ and $y$) with the same length $n$, we can calculate the dot product between them. This is annotated several different ways, including the following:\n",
        "\n",
        "* $x \\cdot y$\n",
        "* $x^Ty$\n",
        "* $\\langle x, y \\rangle $\n",
        "\n",
        "Regardless which notation you use, the calculation is the same: we calculate products in an element-wise fashion and then sum reductively across the products to a scalar value. That is, $x \\cdot y = \\sum^n_{i=1} x_i y_i $\n",
        "\n",
        "The dot product is ubiquitous in deep learning: it is performed at every artificial neuron in a deep neural network, which may be made up of millions (or orders of magnitude more) of these neurons."
      ],
      "metadata": {
        "id": "_8yodubtRn9Y"
      }
    },
    {
      "cell_type": "code",
      "source": [
        "x"
      ],
      "metadata": {
        "colab": {
          "base_uri": "https://localhost:8080/"
        },
        "id": "aw8-AB26UJJH",
        "outputId": "7ace1f11-c0e6-4a74-861d-2658c5837224"
      },
      "execution_count": 78,
      "outputs": [
        {
          "output_type": "execute_result",
          "data": {
            "text/plain": [
              "array([25,  2,  5])"
            ]
          },
          "metadata": {},
          "execution_count": 78
        }
      ]
    },
    {
      "cell_type": "code",
      "source": [
        "y = np.array([0, 1, 2])\n",
        "y"
      ],
      "metadata": {
        "colab": {
          "base_uri": "https://localhost:8080/"
        },
        "id": "Xgrm4A4zULEt",
        "outputId": "89ba4961-023f-4ea0-e632-061183e96c87"
      },
      "execution_count": 79,
      "outputs": [
        {
          "output_type": "execute_result",
          "data": {
            "text/plain": [
              "array([0, 1, 2])"
            ]
          },
          "metadata": {},
          "execution_count": 79
        }
      ]
    },
    {
      "cell_type": "code",
      "source": [
        "25 * 0 + 2 * 1 + 5 * 2"
      ],
      "metadata": {
        "colab": {
          "base_uri": "https://localhost:8080/"
        },
        "id": "Kvs4MFt1UOpJ",
        "outputId": "80306d2c-def9-4e86-a714-ac5bbf313803"
      },
      "execution_count": 80,
      "outputs": [
        {
          "output_type": "execute_result",
          "data": {
            "text/plain": [
              "12"
            ]
          },
          "metadata": {},
          "execution_count": 80
        }
      ]
    },
    {
      "cell_type": "code",
      "source": [
        "np.dot(x, y)"
      ],
      "metadata": {
        "colab": {
          "base_uri": "https://localhost:8080/"
        },
        "id": "f81yjVchUUdL",
        "outputId": "46995412-35e8-43d1-d763-410aca00dcfa"
      },
      "execution_count": 81,
      "outputs": [
        {
          "output_type": "execute_result",
          "data": {
            "text/plain": [
              "12"
            ]
          },
          "metadata": {},
          "execution_count": 81
        }
      ]
    },
    {
      "cell_type": "code",
      "source": [
        "x_pt"
      ],
      "metadata": {
        "colab": {
          "base_uri": "https://localhost:8080/"
        },
        "id": "XdEmEfrxUW_3",
        "outputId": "3891c363-6e43-4a6d-d249-a025d896bf8a"
      },
      "execution_count": 82,
      "outputs": [
        {
          "output_type": "execute_result",
          "data": {
            "text/plain": [
              "tensor([25,  2,  5])"
            ]
          },
          "metadata": {},
          "execution_count": 82
        }
      ]
    },
    {
      "cell_type": "code",
      "source": [
        "y_pt = torch.tensor(y)\n",
        "y_pt"
      ],
      "metadata": {
        "colab": {
          "base_uri": "https://localhost:8080/"
        },
        "id": "XC4C96VMUf0Z",
        "outputId": "3d9098ee-e5a6-48f4-f9a7-37c6a8cb17b7"
      },
      "execution_count": 83,
      "outputs": [
        {
          "output_type": "execute_result",
          "data": {
            "text/plain": [
              "tensor([0, 1, 2])"
            ]
          },
          "metadata": {},
          "execution_count": 83
        }
      ]
    },
    {
      "cell_type": "code",
      "source": [
        "torch.dot(x_pt, y_pt) # May have to be float tensors?"
      ],
      "metadata": {
        "colab": {
          "base_uri": "https://localhost:8080/"
        },
        "id": "PvyNI012Uhk1",
        "outputId": "40dc1281-79f8-4350-83fb-3e8b3ecbe35c"
      },
      "execution_count": 84,
      "outputs": [
        {
          "output_type": "execute_result",
          "data": {
            "text/plain": [
              "tensor(12)"
            ]
          },
          "metadata": {},
          "execution_count": 84
        }
      ]
    },
    {
      "cell_type": "code",
      "source": [
        "x_tf"
      ],
      "metadata": {
        "colab": {
          "base_uri": "https://localhost:8080/"
        },
        "id": "dAG0zUlBUnl3",
        "outputId": "b831f9fe-ebb0-45e7-953b-0ebf01ff78a5"
      },
      "execution_count": 85,
      "outputs": [
        {
          "output_type": "execute_result",
          "data": {
            "text/plain": [
              "<tf.Variable 'Variable:0' shape=(3,) dtype=int32, numpy=array([25,  2,  5], dtype=int32)>"
            ]
          },
          "metadata": {},
          "execution_count": 85
        }
      ]
    },
    {
      "cell_type": "code",
      "source": [
        "y_tf = tf.Variable(y, dtype=tf.int32)\n",
        "y_tf"
      ],
      "metadata": {
        "colab": {
          "base_uri": "https://localhost:8080/"
        },
        "id": "SdV9KUVtUpJl",
        "outputId": "80e543ab-d2c5-4bc8-c146-eaf68b55a55a"
      },
      "execution_count": 86,
      "outputs": [
        {
          "output_type": "execute_result",
          "data": {
            "text/plain": [
              "<tf.Variable 'Variable:0' shape=(3,) dtype=int32, numpy=array([0, 1, 2], dtype=int32)>"
            ]
          },
          "metadata": {},
          "execution_count": 86
        }
      ]
    },
    {
      "cell_type": "code",
      "source": [
        "tf.reduce_sum(tf.multiply(x_tf, y_tf))"
      ],
      "metadata": {
        "colab": {
          "base_uri": "https://localhost:8080/"
        },
        "id": "ZTYBGEPcUuCL",
        "outputId": "b0e727c7-f6d1-4179-cdba-86a2c4e27ce9"
      },
      "execution_count": 87,
      "outputs": [
        {
          "output_type": "execute_result",
          "data": {
            "text/plain": [
              "<tf.Tensor: shape=(), dtype=int32, numpy=12>"
            ]
          },
          "metadata": {},
          "execution_count": 87
        }
      ]
    },
    {
      "cell_type": "markdown",
      "source": [
        "# Segment 3: Matrix Properties"
      ],
      "metadata": {
        "id": "-Q4vwQWHVUvT"
      }
    },
    {
      "cell_type": "markdown",
      "source": [
        "## Exercises:\n",
        "\n",
        "### Transposition\n",
        "$\\begin{equation*}\n",
        "y = \\begin{bmatrix} 42 & 4 & 7 & 99 \\\\\n",
        "-99 & -3 & 17 & 22\n",
        "\\end{bmatrix}\n",
        "\\end{equation*} $\n",
        "\n",
        "$\\begin{equation*}\n",
        "y^T = \\begin{bmatrix} 42 & -99 \\\\\n",
        "4 & -3 \\\\\n",
        "7 & 17 \\\\\n",
        "99 & 22\n",
        "\\end{bmatrix}\n",
        "\\end{equation*} $\n",
        "\n",
        "## Hademard Product\n",
        "$\n",
        "\\begin{equation*}\n",
        "\\begin{bmatrix}\n",
        "25 & 10 \\\\\n",
        "-2 & 1\n",
        "\\end{bmatrix} \\odot\n",
        "\\begin{bmatrix}\n",
        "-1 & 7 \\\\\n",
        "10 & 8\n",
        "\\end{bmatrix}\n",
        "= \n",
        "\\begin{bmatrix}\n",
        "-25 & 70 \\\\\n",
        "-20 & 8\n",
        "\\end{bmatrix}\n",
        "\\end{equation*} $\n",
        "\n",
        "## Dot Product of tensors $w$ and $x$\n",
        "\n",
        "$ \n",
        "\\begin{equation*}\n",
        "w = \\begin{bmatrix}\n",
        "-1 & 2 & -2\n",
        "\\end{bmatrix} \\\\\n",
        "x = \\begin{bmatrix}\n",
        "5 & 10 & 0\n",
        "\\end{bmatrix}\n",
        "\\end{equation*} \\\\\n",
        "w \\cdot x = 15 $\n",
        "\n"
      ],
      "metadata": {
        "id": "rs8FO0ZaVsSp"
      }
    },
    {
      "cell_type": "markdown",
      "source": [
        "# Solving Linear Systems\n",
        "\n",
        "## Method 1: Substitution\n",
        "* Use whenever there's a variable in the system with a coefficient of 1\n",
        "\n",
        "For example, when solving for $x$ and $y$ in the following system:\n",
        "\n",
        "$\n",
        "\\begin{equation*}\n",
        "y = 3x \\\\\n",
        "-5x + 2y = 2\n",
        "\\end{equation*}\n",
        "$\n",
        "\n",
        "... we can substitute $y$ with $3x$ in the second equation.\n",
        "\n",
        "$\\therefore (x,y) = (2, 6)$"
      ],
      "metadata": {
        "id": "N3CRKRh7juAX"
      }
    },
    {
      "cell_type": "markdown",
      "source": [
        "# Exercises\n",
        "\n",
        "Solve for the unknowns in the following systems of equations:\n",
        "\n",
        "1. $x + y = 6, \\ 2x + 3y = 16$\n",
        "2. $-x + 4y = 0, \\ 2x - 5y = -6$\n",
        "3. $y = 4x + 1, \\ -4x + y = 2$"
      ],
      "metadata": {
        "id": "THdhj5BjmHSs"
      }
    },
    {
      "cell_type": "markdown",
      "source": [
        "1.\n",
        "\n",
        "$\n",
        "x = 6 - y \\\\\n",
        "or \\\\\n",
        "y = 6 - x \\\\\n",
        "substitute: \\\\\n",
        "2x + 3y = 16\n",
        "2x + 3(6 - x) = 16 \\\\\n",
        "2x + 18 - 3x = 16 \\\\\n",
        "2x - 3x = -2 \\\\\n",
        "-x = -2 \\\\\n",
        "x = 2 \\\\\n",
        "y = 6 - 2 = 4 \\\\\n",
        "\\therefore (x, y) = (2, 4)\n",
        "$"
      ],
      "metadata": {
        "id": "IvJXIshanDxj"
      }
    },
    {
      "cell_type": "markdown",
      "source": [
        "2. $-x + 4y = 0, \\ 2x - 5y = -6$\n",
        "\n",
        "$\n",
        "x - 4y = 0 \\\\\n",
        "x = 4y \\\\\n",
        "8y - 5y = -6 \\\\\n",
        "3y = -6 \\\\\n",
        "y = -2  \\\\\n",
        "so: \\\\\n",
        "-x - 8 = 0 \\\\\n",
        "-x = 8 \\\\\n",
        "x = -8 \\\\\n",
        "\\therefore (x,y) = (-8, -2)\n",
        "$"
      ],
      "metadata": {
        "id": "P9yAVGJT3WYE"
      }
    },
    {
      "cell_type": "markdown",
      "source": [
        "3. $y = 4x + 1, \\ -4x + y = 2$\n",
        "\n",
        "$\n",
        "-4x + 4x + 1 = 2 \\\\\n",
        "0 = 1 \\\\\n",
        "\\therefore no \\ solution\n",
        "$"
      ],
      "metadata": {
        "id": "97XXaQ7146B4"
      }
    },
    {
      "cell_type": "markdown",
      "source": [
        "# Solving Systems of Linear Equations with Elimination\n",
        "\n",
        "* Typically best option if no variable in system has a coefficient of 1\n",
        "* Use *addition property* of equations to eliminate variables\n",
        "  * If necessary, multiply one or both equations to make elimination of a variable possible\n",
        "\n",
        "For example, solve for the unknowns in the following system:\n",
        "\n",
        "$\n",
        "2x - 3y = 15 \\\\\n",
        "4x + 10y = 14\n",
        "$\n",
        "\n",
        "... by multiplying the first equation by $-2$ and adding the equations.\n",
        "\n",
        "\n",
        "ADD the two equations:\n",
        "\n",
        "$\n",
        "-4x + 6y = -30 \\ + \\\\\n",
        "-4x + 10y = 14 \\\\\n",
        "\\\\ Result: \\\\\n",
        "16y = -16 \\\\\n",
        "y = -1\n",
        "$\n",
        "\n",
        "And then substitute:\n",
        "\n",
        "$\n",
        "4x - 10 = 14 \\\\\n",
        "4x = 24 \\\\\n",
        "x = 6 \\\\\n",
        "\\therefore (x,y) = (6, -1)\n",
        "$"
      ],
      "metadata": {
        "id": "vspc1VYy45sP"
      }
    },
    {
      "cell_type": "markdown",
      "source": [
        "# Elimination Exercises:"
      ],
      "metadata": {
        "id": "TPWx7cBS6uc6"
      }
    },
    {
      "cell_type": "markdown",
      "source": [
        "$4x - 3y = 25 \\\\\n",
        "-3x + 8y = 10$\n",
        "\n",
        "\n",
        "$12x - 9y = 75$ (multiply first equation by 3)\n",
        "\n",
        "$-12x + 32y = 40$ (multiply second equation by 4)\n",
        "\n",
        "$23y = 115$ (add the equations)\n",
        "\n",
        "$y = 5$\n",
        "\n",
        "Then substitute:\n",
        "\n",
        "$\n",
        "4x - 15 = 25 \\\\\n",
        "4x = 40 \\\\\n",
        "x = 10 \\\\\n",
        "\\therefore (x,y) = (10, 5)$"
      ],
      "metadata": {
        "id": "rcROwY5A-n1o"
      }
    },
    {
      "cell_type": "markdown",
      "source": [
        "$\n",
        "4x + 2y = 4 \\\\\n",
        "-5x -3y = -7\n",
        "$\n",
        "\n",
        "Aha! Can divide top equation by 2:\n",
        "\n",
        "$\n",
        "2x + y = 2 \\\\\n",
        "y = 2 - 2x\n",
        "$\n",
        "\n",
        "And substitute:\n",
        "\n",
        "$\n",
        "-5x + 6 - 6x = -7 \\\\\n",
        "-x = 1 \\\\\n",
        "x = -1 \\\\\n",
        "y = 2 + 2 \\\\\n",
        "y = 4 \\\\\n",
        "\\therefore (x,y) = (-1, 4)\n",
        "$\n",
        "\n"
      ],
      "metadata": {
        "id": "5-tymgz2AUFD"
      }
    },
    {
      "cell_type": "markdown",
      "source": [
        "# Plotting\n",
        "\n",
        "Given\n",
        "\n",
        "$\n",
        "\\begin{equation*}\n",
        "y = 3x \\\\\n",
        "-5x + 2y = 2\n",
        "\\end{equation*}\n",
        "$\n",
        "\n",
        "The second equation to be rearranged to isolate $y$:\n",
        "\n",
        "$\n",
        "-5x + 2y = 2 \\\\\n",
        "y = \\frac{2 + 5x}{2} = 1 + \\frac{5x}{2}\n",
        "$"
      ],
      "metadata": {
        "id": "mX4yqMHUCUvP"
      }
    },
    {
      "cell_type": "code",
      "source": [
        "x = np.linspace(-10, 10, 1000) # start, finish, n points"
      ],
      "metadata": {
        "id": "wjRpJHH-G9V6"
      },
      "execution_count": 88,
      "outputs": []
    },
    {
      "cell_type": "code",
      "source": [
        "y1 = 3 * x"
      ],
      "metadata": {
        "id": "_mAo4-xJHDQB"
      },
      "execution_count": 89,
      "outputs": []
    },
    {
      "cell_type": "code",
      "source": [
        "y2 = 1 + (5*x)/2"
      ],
      "metadata": {
        "id": "EdqeuMBtHEos"
      },
      "execution_count": 90,
      "outputs": []
    },
    {
      "cell_type": "code",
      "source": [
        "fig, ax = plt.subplots()\n",
        "plt.xlabel('x')\n",
        "plt.ylabel('y')\n",
        "ax.set_xlim([0, 3])\n",
        "ax.set_ylim([0, 8])\n",
        "ax.plot(x, y1, c='green')\n",
        "ax.plot(x, y2, c='brown')\n",
        "plt.axvline(x=2, color='purple', linestyle='--')\n",
        "_ = plt.axhline(y=6, color='purple', linestyle='--')"
      ],
      "metadata": {
        "colab": {
          "base_uri": "https://localhost:8080/",
          "height": 283
        },
        "id": "noL2QWghHLNN",
        "outputId": "3729c3d5-5b1c-4b8f-bef5-5a3d7bc6001f"
      },
      "execution_count": 91,
      "outputs": [
        {
          "output_type": "display_data",
          "data": {
            "text/plain": [
              "<Figure size 432x288 with 1 Axes>"
            ],
            "image/png": "[encoded data removed]"
          },
          "metadata": {
            "needs_background": "light"
          }
        }
      ]
    },
    {
      "cell_type": "markdown",
      "source": [
        "In the **Elimination** example, the two equations in the system are:\n",
        "\n",
        "$\n",
        "2x - 3y = 15 \\\\\n",
        "4x + 10y = 14\n",
        "$\n",
        "\n",
        "Both equations can be rearranged to isolate $y$, starting with the first equation:\n",
        "\n",
        "$\n",
        "-3y = 15 - 2x \\\\\n",
        "y = \\frac{15=2x}{-3} = -5 + \\frac{2x}{3}\n",
        "$\n",
        "\n",
        "Then for the second equation:\n",
        "\n",
        "$\n",
        "4x + 10y = 14 \\\\\n",
        "2x + 5y = 7 \\\\\n",
        "5y = 7 - 2x \\\\\n",
        "y = \\frac{7 - 2x}{5}\n",
        "$"
      ],
      "metadata": {
        "id": "TwHUjFC4Iuqb"
      }
    },
    {
      "cell_type": "code",
      "source": [
        "y1 = -5 + (2 * x) / 3"
      ],
      "metadata": {
        "id": "VGCOVjRROzn2"
      },
      "execution_count": 92,
      "outputs": []
    },
    {
      "cell_type": "code",
      "source": [
        "y2 = (7 - 2 * x) / 5"
      ],
      "metadata": {
        "id": "byKQpl9CP6-v"
      },
      "execution_count": 93,
      "outputs": []
    },
    {
      "cell_type": "code",
      "source": [
        "fig, ax = plt.subplots()\n",
        "plt.xlabel('x')\n",
        "plt.ylabel('y')\n",
        "# Add x and y axes:\n",
        "plt.axvline(x=0, color='lightgray')\n",
        "plt.axhline(y=0, color='lightgray')\n",
        "\n",
        "ax.set_xlim([-2, 10])\n",
        "ax.set_ylim([-6, 4])\n",
        "ax.plot(x, y1, c='green')\n",
        "ax.plot(x, y2, c='brown')\n",
        "plt.axvline(x=6, color='purple', linestyle='--')\n",
        "_ = plt.axhline(y=-1, color='purple', linestyle='--')"
      ],
      "metadata": {
        "colab": {
          "base_uri": "https://localhost:8080/",
          "height": 283
        },
        "id": "TsnEfPtQP-Nx",
        "outputId": "04cec3e1-256a-4d91-8262-ecac141e8f39"
      },
      "execution_count": 94,
      "outputs": [
        {
          "output_type": "display_data",
          "data": {
            "text/plain": [
              "<Figure size 432x288 with 1 Axes>"
            ],
            "image/png": "[encoded data removed]"
          },
          "metadata": {
            "needs_background": "light"
          }
        }
      ]
    },
    {
      "cell_type": "markdown",
      "source": [
        "# Matrix Properties\n",
        "\n",
        "* The Frobenius Norm\n",
        "* Matrix Multiplication\n",
        "* Symmetric and Identity Matrices\n",
        "* Matrix Inversion\n",
        "* Diagonal Matrices\n",
        "* Orthoganol Matrices"
      ],
      "metadata": {
        "id": "ScE7A468Vjiw"
      }
    },
    {
      "cell_type": "markdown",
      "source": [
        "## The Frobenius Norm\n",
        "\n",
        "Quantifies the size of a matrix:\n",
        "\n",
        "* Described by: $ \\lVert X \\rVert_F = \\sqrt{\\sum\\limits_{i, j} X^2_{i,j}} $\n",
        "\n",
        "* Analogous to $L^2$ norm of a vector\n",
        "* Measures the size of matrix in terms of Euclidean distance\n",
        "  * It's the sum of the [magnitude](https://mathinsight.org/definition/magnitude_vector#:~:text=The%20magnitude%20of%20a%20vector,denoted%20as%20%E2%88%A5a%E2%88%A5.) of all the vectors in $\\boldsymbol{X}$\n",
        "\n"
      ],
      "metadata": {
        "id": "jRmG-uPRQA1H"
      }
    },
    {
      "cell_type": "code",
      "source": [
        "X = np.array([\n",
        "    [1, 2],\n",
        "    [3, 4]\n",
        "])\n",
        "X"
      ],
      "metadata": {
        "colab": {
          "base_uri": "https://localhost:8080/"
        },
        "id": "-ycf5Z3aViLp",
        "outputId": "674eddca-1f7d-48c4-8037-35786d9dddc3"
      },
      "execution_count": 95,
      "outputs": [
        {
          "output_type": "execute_result",
          "data": {
            "text/plain": [
              "array([[1, 2],\n",
              "       [3, 4]])"
            ]
          },
          "metadata": {},
          "execution_count": 95
        }
      ]
    },
    {
      "cell_type": "code",
      "source": [
        "((1 ** 2) + ( 2 ** 2) + ( 3 ** 2) + (4 ** 2))**(1/2)"
      ],
      "metadata": {
        "colab": {
          "base_uri": "https://localhost:8080/"
        },
        "id": "yQNWH1OXZZ9E",
        "outputId": "0f199802-d600-4579-e6a1-69dccda184bc"
      },
      "execution_count": 96,
      "outputs": [
        {
          "output_type": "execute_result",
          "data": {
            "text/plain": [
              "5.477225575051661"
            ]
          },
          "metadata": {},
          "execution_count": 96
        }
      ]
    },
    {
      "cell_type": "code",
      "source": [
        "np.linalg.norm(X) # same function as for vector L2 norm; works on integers in numpy"
      ],
      "metadata": {
        "colab": {
          "base_uri": "https://localhost:8080/"
        },
        "id": "OmgM04EmZnCT",
        "outputId": "0c5355b1-6ebb-4ba3-dcee-25498580b37c"
      },
      "execution_count": 97,
      "outputs": [
        {
          "output_type": "execute_result",
          "data": {
            "text/plain": [
              "5.477225575051661"
            ]
          },
          "metadata": {},
          "execution_count": 97
        }
      ]
    },
    {
      "cell_type": "code",
      "source": [
        "X_pt = torch.tensor(X, dtype=float) # has to be float type for PyTorch and Tensorflow\n",
        "X_pt"
      ],
      "metadata": {
        "colab": {
          "base_uri": "https://localhost:8080/"
        },
        "id": "TuwUKHgbZrwu",
        "outputId": "10f4dee0-c06c-43fe-8010-69549708d6b8"
      },
      "execution_count": 98,
      "outputs": [
        {
          "output_type": "execute_result",
          "data": {
            "text/plain": [
              "tensor([[1., 2.],\n",
              "        [3., 4.]], dtype=torch.float64)"
            ]
          },
          "metadata": {},
          "execution_count": 98
        }
      ]
    },
    {
      "cell_type": "code",
      "source": [
        "torch.norm(X_pt)"
      ],
      "metadata": {
        "colab": {
          "base_uri": "https://localhost:8080/"
        },
        "id": "G4cDB8qFb9lQ",
        "outputId": "dacdc270-d76e-48ca-a977-74851df5df51"
      },
      "execution_count": 99,
      "outputs": [
        {
          "output_type": "execute_result",
          "data": {
            "text/plain": [
              "tensor(5.4772, dtype=torch.float64)"
            ]
          },
          "metadata": {},
          "execution_count": 99
        }
      ]
    },
    {
      "cell_type": "code",
      "source": [
        "X_tf = tf.Variable(X, dtype=float)\n",
        "X_tf"
      ],
      "metadata": {
        "colab": {
          "base_uri": "https://localhost:8080/"
        },
        "id": "Em2oyzswcAWd",
        "outputId": "8c589605-8c8f-4244-8a22-5dcf42952411"
      },
      "execution_count": 100,
      "outputs": [
        {
          "output_type": "execute_result",
          "data": {
            "text/plain": [
              "<tf.Variable 'Variable:0' shape=(2, 2) dtype=float32, numpy=\n",
              "array([[1., 2.],\n",
              "       [3., 4.]], dtype=float32)>"
            ]
          },
          "metadata": {},
          "execution_count": 100
        }
      ]
    },
    {
      "cell_type": "code",
      "source": [
        "tf.norm(X_tf)"
      ],
      "metadata": {
        "colab": {
          "base_uri": "https://localhost:8080/"
        },
        "id": "zZxcDoXmcQzT",
        "outputId": "ffc2f5fc-16f4-47fd-960c-c51e6ab8e414"
      },
      "execution_count": 101,
      "outputs": [
        {
          "output_type": "execute_result",
          "data": {
            "text/plain": [
              "<tf.Tensor: shape=(), dtype=float32, numpy=5.477226>"
            ]
          },
          "metadata": {},
          "execution_count": 101
        }
      ]
    },
    {
      "cell_type": "markdown",
      "source": [
        "## Matrix Multiplication\n",
        "\n",
        "The number of columns in the first matrix must match the number of rows in the second matrix.\n",
        "\n",
        "$\n",
        "{m\\begin{bmatrix}\n",
        "\\\\\n",
        "C\n",
        "\\\\\n",
        "\\\\\n",
        "\\end{bmatrix} \\\\\n",
        " \\ \\ \\ \\ \\ \\ \\ p} = \n",
        "   {m\\begin{bmatrix}\n",
        "\\\\\n",
        "A\n",
        "\\\\\n",
        "\\\\\n",
        "\\end{bmatrix} \\\\\n",
        " \\ \\ \\ \\ \\ \\ \\ n\n",
        " } \\\n",
        " {n\\begin{bmatrix}\n",
        "\\\\\n",
        "B\n",
        "\\\\\n",
        "\\\\\n",
        "\\end{bmatrix} \\\\\n",
        " \\ \\ \\ \\ \\ \\ p\n",
        " }\n",
        "$\n",
        "\n",
        "$\n",
        "C_{i,k} = \\sum\\limits_{j} A_{i,j}B_{j,k}\n",
        "$"
      ],
      "metadata": {
        "id": "2e9s5gA6cTjb"
      }
    },
    {
      "cell_type": "markdown",
      "source": [
        "$\n",
        "{\\begin{bmatrix}\n",
        "3 \\ \\ 4 \\\\\n",
        "5 \\ \\ 6 \\\\\n",
        "7 \\ \\ 8 \\\\\n",
        "\\end{bmatrix}}\n",
        "{\\begin{bmatrix}\n",
        "1 \\\\\n",
        "2 \\\\\n",
        "\\end{bmatrix}} = \n",
        "{\\begin{bmatrix}\n",
        "3 \\cdot 1 \\ + \\ 4 \\cdot 2 \\\\\n",
        "5 \\cdot 1 \\ + \\ 6 \\cdot 2 \\\\\n",
        "7 \\cdot 1 \\ + \\ 8 \\cdot 2 \\\\\n",
        "\\end{bmatrix}} = \n",
        "{\\begin{bmatrix}\n",
        "3 + 8 \\\\\n",
        "5 + 12 \\\\\n",
        "7 + 16 \\\\\n",
        "\\end{bmatrix}}= \n",
        "{\\begin{bmatrix}\n",
        "11 \\\\\n",
        "17 \\\\\n",
        "23 \\\\\n",
        "\\end{bmatrix}}\n",
        "$"
      ],
      "metadata": {
        "id": "nApkeGxehASN"
      }
    },
    {
      "cell_type": "code",
      "source": [
        "A = np.array([[3, 4], [5, 6], [7, 8]])\n",
        "A"
      ],
      "metadata": {
        "colab": {
          "base_uri": "https://localhost:8080/"
        },
        "id": "dMcZ_Gqz-pKr",
        "outputId": "c5eeb01b-be50-41d8-8d69-76d78e1c27cc"
      },
      "execution_count": 102,
      "outputs": [
        {
          "output_type": "execute_result",
          "data": {
            "text/plain": [
              "array([[3, 4],\n",
              "       [5, 6],\n",
              "       [7, 8]])"
            ]
          },
          "metadata": {},
          "execution_count": 102
        }
      ]
    },
    {
      "cell_type": "code",
      "source": [
        "b = np.array([1, 2])\n",
        "b"
      ],
      "metadata": {
        "colab": {
          "base_uri": "https://localhost:8080/"
        },
        "id": "TO8MaQ6F_4sm",
        "outputId": "37979150-ede2-45b6-a1b5-87998c9b1fb6"
      },
      "execution_count": 103,
      "outputs": [
        {
          "output_type": "execute_result",
          "data": {
            "text/plain": [
              "array([1, 2])"
            ]
          },
          "metadata": {},
          "execution_count": 103
        }
      ]
    },
    {
      "cell_type": "code",
      "source": [
        "np.dot(A, b) # even though dot products are between vectors only in MATH"
      ],
      "metadata": {
        "colab": {
          "base_uri": "https://localhost:8080/"
        },
        "id": "UZRaEkgr_-n1",
        "outputId": "c946e522-80da-4e81-8e2c-7a153c2ac0a6"
      },
      "execution_count": 104,
      "outputs": [
        {
          "output_type": "execute_result",
          "data": {
            "text/plain": [
              "array([11, 17, 23])"
            ]
          },
          "metadata": {},
          "execution_count": 104
        }
      ]
    },
    {
      "cell_type": "code",
      "source": [
        "np.matmul(A, b)"
      ],
      "metadata": {
        "colab": {
          "base_uri": "https://localhost:8080/"
        },
        "id": "cO3DJ8r4Aiv5",
        "outputId": "8e2b7ee5-6377-4aae-a495-3a0656c34ca2"
      },
      "execution_count": 105,
      "outputs": [
        {
          "output_type": "execute_result",
          "data": {
            "text/plain": [
              "array([11, 17, 23])"
            ]
          },
          "metadata": {},
          "execution_count": 105
        }
      ]
    },
    {
      "cell_type": "code",
      "source": [
        "A_pt = torch.tensor(A)\n",
        "A_pt"
      ],
      "metadata": {
        "colab": {
          "base_uri": "https://localhost:8080/"
        },
        "id": "KJowisUiAD7L",
        "outputId": "1696bbba-1373-4df1-8558-f076c8f0e267"
      },
      "execution_count": 106,
      "outputs": [
        {
          "output_type": "execute_result",
          "data": {
            "text/plain": [
              "tensor([[3, 4],\n",
              "        [5, 6],\n",
              "        [7, 8]])"
            ]
          },
          "metadata": {},
          "execution_count": 106
        }
      ]
    },
    {
      "cell_type": "code",
      "source": [
        "b_pt = torch.tensor(b)\n",
        "b"
      ],
      "metadata": {
        "colab": {
          "base_uri": "https://localhost:8080/"
        },
        "id": "e6m55jzLAGH_",
        "outputId": "da8b52a0-7da3-4815-da39-f5e686d074f0"
      },
      "execution_count": 107,
      "outputs": [
        {
          "output_type": "execute_result",
          "data": {
            "text/plain": [
              "array([1, 2])"
            ]
          },
          "metadata": {},
          "execution_count": 107
        }
      ]
    },
    {
      "cell_type": "code",
      "source": [
        "torch.matmul(A_pt, b_pt), A_pt.matmul(b_pt)"
      ],
      "metadata": {
        "colab": {
          "base_uri": "https://localhost:8080/"
        },
        "id": "pdT93WWdAREM",
        "outputId": "1e6dfc5d-6bbb-4684-c920-9e62478028a3"
      },
      "execution_count": 108,
      "outputs": [
        {
          "output_type": "execute_result",
          "data": {
            "text/plain": [
              "(tensor([11, 17, 23]), tensor([11, 17, 23]))"
            ]
          },
          "metadata": {},
          "execution_count": 108
        }
      ]
    },
    {
      "cell_type": "code",
      "source": [
        "A_tf = tf.Variable(A)\n",
        "b_tf = tf.Variable(b)\n",
        "tf.linalg.matvec(A_tf, b_tf) # must specifically be matrix by vector or matrix by matrix"
      ],
      "metadata": {
        "colab": {
          "base_uri": "https://localhost:8080/"
        },
        "id": "y0wvgB_7AULq",
        "outputId": "05d17124-e754-45e9-af96-ebd2aa1f867b"
      },
      "execution_count": 109,
      "outputs": [
        {
          "output_type": "execute_result",
          "data": {
            "text/plain": [
              "<tf.Tensor: shape=(3,), dtype=int64, numpy=array([11, 17, 23])>"
            ]
          },
          "metadata": {},
          "execution_count": 109
        }
      ]
    },
    {
      "cell_type": "markdown",
      "source": [
        "## Matrix by Matrix Multiplication"
      ],
      "metadata": {
        "id": "bCHBn5OvA140"
      }
    },
    {
      "cell_type": "markdown",
      "source": [
        "$\n",
        "{\\begin{bmatrix}\n",
        "3 \\ \\ 4 \\\\\n",
        "5 \\ \\ 6 \\\\\n",
        "7 \\ \\ 8 \\\\\n",
        "\\end{bmatrix}}\n",
        "{\\begin{bmatrix}\n",
        "1 \\ \\ 9 \\\\\n",
        "2 \\ \\ 0 \\\\\n",
        "\\end{bmatrix}} = \n",
        "{\\begin{bmatrix}\n",
        "3 \\cdot 1 \\ + \\ 4 \\cdot 2 \\ \\ \\ \\ 3 \\cdot 9 + 4 \\cdot 0 \\\\\n",
        "5 \\cdot 1 \\ + \\ 6 \\cdot 2 \\ \\ \\ \\ 5 \\cdot 9 + 6 \\cdot 0 \\\\\n",
        "7 \\cdot 1 \\ + \\ 8 \\cdot 2 \\ \\ \\ \\ 7 \\cdot 9 + 8 \\cdot 0 \\\\\n",
        "\\end{bmatrix}} = \n",
        "{\\begin{bmatrix}\n",
        "11 \\ \\ 27 \\\\\n",
        "17 \\ \\ 45 \\\\\n",
        "23 \\ \\ 63 \\\\\n",
        "\\end{bmatrix}}\n",
        "$"
      ],
      "metadata": {
        "id": "Sa-b4BHLA4cr"
      }
    },
    {
      "cell_type": "code",
      "source": [
        "B = np.array([[1, 9], [2, 0]])\n",
        "B"
      ],
      "metadata": {
        "colab": {
          "base_uri": "https://localhost:8080/"
        },
        "id": "6meylnOqCaSl",
        "outputId": "fa0c936b-aba7-43cc-d981-a62657f7c59a"
      },
      "execution_count": 110,
      "outputs": [
        {
          "output_type": "execute_result",
          "data": {
            "text/plain": [
              "array([[1, 9],\n",
              "       [2, 0]])"
            ]
          },
          "metadata": {},
          "execution_count": 110
        }
      ]
    },
    {
      "cell_type": "code",
      "source": [
        "np.dot(A, B)"
      ],
      "metadata": {
        "colab": {
          "base_uri": "https://localhost:8080/"
        },
        "id": "5uwZPoHKDaW1",
        "outputId": "eb48297b-9687-4f5e-ca39-f8622f99acec"
      },
      "execution_count": 111,
      "outputs": [
        {
          "output_type": "execute_result",
          "data": {
            "text/plain": [
              "array([[11, 27],\n",
              "       [17, 45],\n",
              "       [23, 63]])"
            ]
          },
          "metadata": {},
          "execution_count": 111
        }
      ]
    },
    {
      "cell_type": "markdown",
      "source": [
        "Not that matrix multiplication is not \"commutative\" (i.e., $AB \\ne BA$) so the following would throw a size mismatch error:\n",
        "\n",
        "```python\n",
        "np.dot(B, A)\n",
        "```"
      ],
      "metadata": {
        "id": "a5hEWyczESgD"
      }
    },
    {
      "cell_type": "code",
      "source": [
        "B_pt = torch.from_numpy(B)\n",
        "B_pt"
      ],
      "metadata": {
        "colab": {
          "base_uri": "https://localhost:8080/"
        },
        "id": "WfgXs81xDdTi",
        "outputId": "2dec0f29-6590-4575-d0cc-9ff8210be01e"
      },
      "execution_count": 112,
      "outputs": [
        {
          "output_type": "execute_result",
          "data": {
            "text/plain": [
              "tensor([[1, 9],\n",
              "        [2, 0]])"
            ]
          },
          "metadata": {},
          "execution_count": 112
        }
      ]
    },
    {
      "cell_type": "code",
      "source": [
        "# Another way to create the same tensor with transposition:\n",
        "B_pt = torch.tensor([[1, 2],[9, 0]]).T\n",
        "B_pt\n",
        "# This is cool if you want to think about the columns as independent vectors"
      ],
      "metadata": {
        "colab": {
          "base_uri": "https://localhost:8080/"
        },
        "id": "HBtmHHbYDjf-",
        "outputId": "e43c2ba5-d5ca-432e-b2c2-2d207ed31783"
      },
      "execution_count": 113,
      "outputs": [
        {
          "output_type": "execute_result",
          "data": {
            "text/plain": [
              "tensor([[1, 9],\n",
              "        [2, 0]])"
            ]
          },
          "metadata": {},
          "execution_count": 113
        }
      ]
    },
    {
      "cell_type": "code",
      "source": [
        "torch.matmul(A_pt, B_pt) # no need to change functions, unlike in TF"
      ],
      "metadata": {
        "colab": {
          "base_uri": "https://localhost:8080/"
        },
        "id": "xwq7MhRfDuCc",
        "outputId": "34587272-3cef-4c16-be63-c81529a98ecc"
      },
      "execution_count": 114,
      "outputs": [
        {
          "output_type": "execute_result",
          "data": {
            "text/plain": [
              "tensor([[11, 27],\n",
              "        [17, 45],\n",
              "        [23, 63]])"
            ]
          },
          "metadata": {},
          "execution_count": 114
        }
      ]
    },
    {
      "cell_type": "code",
      "source": [
        "B_tf = tf.convert_to_tensor(B)\n",
        "B_tf"
      ],
      "metadata": {
        "colab": {
          "base_uri": "https://localhost:8080/"
        },
        "id": "UtT_dRZ4D4QC",
        "outputId": "2d380ac1-add1-4a27-ce63-f882abfa1b2e"
      },
      "execution_count": 115,
      "outputs": [
        {
          "output_type": "execute_result",
          "data": {
            "text/plain": [
              "<tf.Tensor: shape=(2, 2), dtype=int64, numpy=\n",
              "array([[1, 9],\n",
              "       [2, 0]])>"
            ]
          },
          "metadata": {},
          "execution_count": 115
        }
      ]
    },
    {
      "cell_type": "code",
      "source": [
        "tf.matmul(A_tf, B_tf)"
      ],
      "metadata": {
        "colab": {
          "base_uri": "https://localhost:8080/"
        },
        "id": "jnV-iNPHFWzg",
        "outputId": "ead8d6c4-a862-4400-aa0c-12867946b6a2"
      },
      "execution_count": 116,
      "outputs": [
        {
          "output_type": "execute_result",
          "data": {
            "text/plain": [
              "<tf.Tensor: shape=(3, 2), dtype=int64, numpy=\n",
              "array([[11, 27],\n",
              "       [17, 45],\n",
              "       [23, 63]])>"
            ]
          },
          "metadata": {},
          "execution_count": 116
        }
      ]
    },
    {
      "cell_type": "markdown",
      "source": [
        "### A Machine Learning Example of Matrix Multiplication\n",
        "\n",
        "Say you have a data set about house prices and the associated attributes for a house ($y$ is the house price).\n",
        "\n",
        "$y = a + bx_1 + cx_2 + ... + mx_m$\n",
        "\n",
        "$\n",
        "\\left[\n",
        "\\begin{array}{c|c}\n",
        "y_1 & a + bx_{1,1} + cx_{1,2} + ... + mx_{1,m} \\\\\n",
        "y_2 & a + bx_{2,1} + cx_{2,2} + ... + mx_{2,m} \\\\\n",
        "... & ...\\\\\n",
        "y_n & a + bx_{n,1} + cx_{n,2} + ... + mx_{n,m} \\\\\n",
        "\\end{array}\n",
        "\\right]\n",
        "$\n",
        "\n",
        "For any house $i$ in the dataset, $y_i$ = price and $X_{i,1}$ to $X_{i,m}$ are its features. We solve for parameters $a, b, c$ to $m$.\n",
        "\n",
        "(Strictly speaking, $x$ extends rightward to $m-1$ not $m$ because of the presence of $a$ on the far left.)"
      ],
      "metadata": {
        "id": "mRoiRw50Fap2"
      }
    },
    {
      "cell_type": "markdown",
      "source": [
        "### Matrix Multiplication (in Regression)\n",
        "\n",
        "$\n",
        "n \\ cases \\ tall\n",
        "\\left\\{\n",
        "\\left[\n",
        "\\begin{array}{c|c}\n",
        "y_1 \\\\\n",
        "y_2 \\\\\n",
        "\\vdots \\\\\n",
        "y_n\n",
        "\\end{array}\n",
        "\\right] = \n",
        "\\left[\n",
        "\\begin{array}{ccccc}\n",
        "1 & X_{1,1} & X_{1, 2} & \\cdots & X_{1,m} \\\\\n",
        "1 & X_{2,1} & X_{2, 2} & \\cdots & X_{2,m} \\\\\n",
        "\\vdots & \\vdots & \\vdots && \\vdots \\\\\n",
        "1 & X_{n,1} & X_{n, 2} & \\cdots & X_{n,m} \\\\\n",
        "\\end{array}\n",
        "\\right]\n",
        "\\left[\n",
        "\\begin{array}{c|c}\n",
        "a \\\\\n",
        "b \\\\\n",
        "\\vdots \\\\\n",
        "m\n",
        "\\end{array}\n",
        "\\right]\n",
        "\\right.\n",
        "$\n",
        "\n",
        "Also $m$ features wide but still learning LaTeX."
      ],
      "metadata": {
        "id": "0NX_bvV8I_-X"
      }
    },
    {
      "cell_type": "markdown",
      "source": [
        "### Matrix Multiplication (in Deep Learning)\n",
        "\n",
        "Essentially lots of different matrices and vectors being multiplied across.\n",
        "\n",
        "[jonkrohn.com/deepPT](https://jonkrohn.com/deepPT)"
      ],
      "metadata": {
        "id": "dsQl_AtoPviu"
      }
    },
    {
      "cell_type": "markdown",
      "source": [
        "## Symmetric and Identity Matrices\n"
      ],
      "metadata": {
        "id": "c87AptUVRGBc"
      }
    },
    {
      "cell_type": "markdown",
      "source": [
        "### Symmetric Matrices\n",
        "\n",
        "Special matrix case with the following properties:\n",
        "\n",
        "* Square\n",
        "* $X^T = X$\n",
        "* Example:\n",
        "$\n",
        "\\left[\n",
        "\\begin{array}{ccc}\n",
        "0 & 1 & 2 \\\\\n",
        "1 & 7 & 8 \\\\\n",
        "2 & 8 & 9\n",
        "\\end{array}\n",
        "\\right]\n",
        "$"
      ],
      "metadata": {
        "id": "_Utl-OsDS3Ox"
      }
    },
    {
      "cell_type": "code",
      "source": [
        "X_sym = np.array([[0,1,2], [1,7,8], [2,8,9]])\n",
        "X_sym"
      ],
      "metadata": {
        "colab": {
          "base_uri": "https://localhost:8080/"
        },
        "id": "bFZFEVS4TWE7",
        "outputId": "99292961-2736-41cb-d991-1fc99c62ee7a"
      },
      "execution_count": 117,
      "outputs": [
        {
          "output_type": "execute_result",
          "data": {
            "text/plain": [
              "array([[0, 1, 2],\n",
              "       [1, 7, 8],\n",
              "       [2, 8, 9]])"
            ]
          },
          "metadata": {},
          "execution_count": 117
        }
      ]
    },
    {
      "cell_type": "code",
      "source": [
        "X_sym.T"
      ],
      "metadata": {
        "colab": {
          "base_uri": "https://localhost:8080/"
        },
        "id": "X6JeoHyKTh8L",
        "outputId": "9efc6ac5-36f6-4074-a22a-14ab2ea12318"
      },
      "execution_count": 118,
      "outputs": [
        {
          "output_type": "execute_result",
          "data": {
            "text/plain": [
              "array([[0, 1, 2],\n",
              "       [1, 7, 8],\n",
              "       [2, 8, 9]])"
            ]
          },
          "metadata": {},
          "execution_count": 118
        }
      ]
    },
    {
      "cell_type": "code",
      "source": [
        "X_sym.T == X_sym"
      ],
      "metadata": {
        "colab": {
          "base_uri": "https://localhost:8080/"
        },
        "id": "-HfhfXolTkwA",
        "outputId": "1deb3fbb-7fc0-4fa0-aac4-347b0b26d5bd"
      },
      "execution_count": 119,
      "outputs": [
        {
          "output_type": "execute_result",
          "data": {
            "text/plain": [
              "array([[ True,  True,  True],\n",
              "       [ True,  True,  True],\n",
              "       [ True,  True,  True]])"
            ]
          },
          "metadata": {},
          "execution_count": 119
        }
      ]
    },
    {
      "cell_type": "markdown",
      "source": [
        "### Identity Matrices\n",
        "\n",
        "Symmetric matrix where:\n",
        "* Every element along main diagonal is $1$\n",
        "* All other elements are $0$\n",
        "* Notation: $I_n$ where $n$ = height (or width)\n",
        "* $n$-length vector unchanged when multiplied by identity matrix\n",
        "\n",
        "$\n",
        "\\left[\n",
        "\\begin{array}{cccc}\n",
        "1 & 0 & 0 & 0 \\\\\n",
        "0 & 1 & 0 & 0 \\\\\n",
        "0 & 0 & 1 & 0 \\\\\n",
        "0 & 0 & 0 & 1 \\\\\n",
        "\\end{array}\n",
        "\\right]\n",
        "$"
      ],
      "metadata": {
        "id": "BC06w5AGTpI8"
      }
    },
    {
      "cell_type": "code",
      "source": [
        "I = torch.tensor([[1, 0, 0], [0, 1, 0], [0, 0, 1]])\n",
        "I"
      ],
      "metadata": {
        "colab": {
          "base_uri": "https://localhost:8080/"
        },
        "id": "H1o1BQ07UZlQ",
        "outputId": "b68fa8aa-07a9-4b18-8feb-4db992177a33"
      },
      "execution_count": 120,
      "outputs": [
        {
          "output_type": "execute_result",
          "data": {
            "text/plain": [
              "tensor([[1, 0, 0],\n",
              "        [0, 1, 0],\n",
              "        [0, 0, 1]])"
            ]
          },
          "metadata": {},
          "execution_count": 120
        }
      ]
    },
    {
      "cell_type": "code",
      "source": [
        "x_pt = torch.tensor([25, 2, 5])\n",
        "x_pt"
      ],
      "metadata": {
        "colab": {
          "base_uri": "https://localhost:8080/"
        },
        "id": "TgLJT81WU1SI",
        "outputId": "d26aecd7-9d34-4022-8db5-bd0d8a862009"
      },
      "execution_count": 121,
      "outputs": [
        {
          "output_type": "execute_result",
          "data": {
            "text/plain": [
              "tensor([25,  2,  5])"
            ]
          },
          "metadata": {},
          "execution_count": 121
        }
      ]
    },
    {
      "cell_type": "code",
      "source": [
        "torch.matmul(I, x_pt)"
      ],
      "metadata": {
        "colab": {
          "base_uri": "https://localhost:8080/"
        },
        "id": "_YKtGdaJVBWE",
        "outputId": "0abcd87f-4ba0-47c4-9ded-9e8e06103b33"
      },
      "execution_count": 122,
      "outputs": [
        {
          "output_type": "execute_result",
          "data": {
            "text/plain": [
              "tensor([25,  2,  5])"
            ]
          },
          "metadata": {},
          "execution_count": 122
        }
      ]
    },
    {
      "cell_type": "markdown",
      "source": [
        "### Exercises\n",
        "\n",
        "1. $\n",
        "\\left[\n",
        "\\begin{array}{ccc}\n",
        "0 & 1 & 2 \\\\\n",
        "3 & 4 & 5 \\\\\n",
        "6 & 7 & 8 \\\\\n",
        "\\end{array}\n",
        "\\right]\n",
        "\\left[\n",
        "\\begin{array}{c}\n",
        "-1 \\\\\n",
        "1 \\\\\n",
        "-2 \\\\\n",
        "\\end{array}\n",
        "\\right] = \\left[\n",
        "\\begin{array}{ccc}\n",
        "0 & \\ + 1 & \\ + -4 \\\\\n",
        "-3 & \\ + 4 & \\ + -10 \\\\\n",
        "-6 & \\ + 7 & \\ + -16 \\\\\n",
        "\\end{array}\n",
        "\\right] = \\left[\n",
        "\\begin{array}{c}\n",
        "-3 \\\\\n",
        "-9 \\\\\n",
        "-15 \\\\\n",
        "\\end{array}\n",
        "\\right]\n",
        "$\n",
        "\n",
        "2. Repeat 1. using the same vector but replace the martrix with $I_3$: $\n",
        "\\left[\n",
        "\\begin{array}{c}\n",
        "-1 \\\\\n",
        "1 \\\\\n",
        "-2 \\\\\n",
        "\\end{array}\n",
        "\\right]\n",
        "$\n",
        "\n",
        "3. $\n",
        "\\left[\n",
        "\\begin{array}{ccc}\n",
        "0 & 1 & 2 \\\\\n",
        "3 & 4 & 5 \\\\\n",
        "6 & 7 & 8 \\\\\n",
        "\\end{array}\n",
        "\\right]\n",
        "\\left[\n",
        "\\begin{array}{cc}\n",
        "-1 & 0 \\\\\n",
        "1 & 1 \\\\\n",
        "-2 & 2\\\\\n",
        "\\end{array}\n",
        "\\right] = \\left[\n",
        "\\begin{array}{cc}\n",
        "0 + 1 + -4 &  0 + 1 + 4\\\\\n",
        "-3 + 4 + -10 & 0 + 4 + 10\\\\\n",
        "-6 + 7 + -16 & 0 + 7 + 16\\\\\n",
        "\\end{array}\n",
        "\\right] = \\left[\n",
        "\\begin{array}{cc}\n",
        "-3 &  5\\\\\n",
        "-9 & 14\\\\\n",
        "-15 & 23\\\\\n",
        "\\end{array}\n",
        "\\right]\n",
        "$"
      ],
      "metadata": {
        "id": "zcFz_DNEVH2F"
      }
    },
    {
      "cell_type": "markdown",
      "source": [
        "## Matrix Inversion\n",
        "\n",
        "* Clever, convenient approach for solving linear equations computationally\n",
        "* An alternative to manually solving with substitution or elimination\n",
        "* **Matrix inverse** of $X$ is denoted as $X^{-1}$\n",
        "  * Satisfies: $X^{-1} = I_n$"
      ],
      "metadata": {
        "id": "npqusdgmbCSH"
      }
    },
    {
      "cell_type": "markdown",
      "source": [
        "$\n",
        "n \\ cases \\ tall\n",
        "\\left\\{\n",
        "\\left[\n",
        "\\begin{array}{c|c}\n",
        "y_1 \\\\\n",
        "y_2 \\\\\n",
        "\\vdots \\\\\n",
        "y_n\n",
        "\\end{array}\n",
        "\\right] = \n",
        "\\left[\n",
        "\\begin{array}{ccccc}\n",
        "1 & X_{1,1} & X_{1, 2} & \\cdots & X_{1,m} \\\\\n",
        "1 & X_{2,1} & X_{2, 2} & \\cdots & X_{2,m} \\\\\n",
        "\\vdots & \\vdots & \\vdots && \\vdots \\\\\n",
        "1 & X_{n,1} & X_{n, 2} & \\cdots & X_{n,m} \\\\\n",
        "\\end{array}\n",
        "\\right]\n",
        "\\left[\n",
        "\\begin{array}{c|c}\n",
        "a \\\\\n",
        "b \\\\\n",
        "\\vdots \\\\\n",
        "m\n",
        "\\end{array}\n",
        "\\right]\n",
        "\\right.\n",
        "$\n",
        "\n",
        "Regression formula can be represented as: \n",
        "$y = Xw$ ($w$ is the vector of weights $a$ through $m$)"
      ],
      "metadata": {
        "id": "PubhFUAGe3ej"
      }
    },
    {
      "cell_type": "markdown",
      "source": [
        "## Matrix Inversion\n",
        "\n",
        "In the equation $y = Xw$:\n",
        "* We know the outcomes $y$, which could be house prices\n",
        "* We know the features $X$, which are predictors like bedroom count\n",
        "* Vector $w$ contains the unknowns, the model's learnable parameters\n",
        "\n",
        "Assuming $X^{-1}$ exists, matrix inversion can solve for $w$:\n",
        "\n",
        "$Xw = y$\n",
        "\n",
        "$X^{-1}Xw = X^{-1}y $\n",
        "\n",
        "$I_nw = X^{-1}y$\n",
        "\n",
        "$w = X^{-1}y $"
      ],
      "metadata": {
        "id": "RmbbwzKFfBNx"
      }
    },
    {
      "cell_type": "markdown",
      "source": [
        "$\\left\\{\\vcenter{4b + 2c = 4 \\\\\n",
        "-5b - 3c = -7}\n",
        "\\right.$\n",
        "\n",
        "$\n",
        "X = \\left[\n",
        "\\begin{array}{cc}\n",
        "X_{1,1} & X_{1,2} \\\\\n",
        "X_{2,1} & X_{2,2}\n",
        "\\end{array}\n",
        "\\right] = \\left[\n",
        "\\begin{array}{cc}\n",
        "4 & 2 \\\\\n",
        "-5 & -3\n",
        "\\end{array}\n",
        "\\right]\n",
        "$\n",
        "\n",
        "$\n",
        "y = \n",
        "\\left[\n",
        "\\begin{array}{c}\n",
        "4 \\\\\n",
        "-7\n",
        "\\end{array}\n",
        "\\right]\n",
        "$\n",
        "\n",
        "$\n",
        "w = \\left[\n",
        "  \\begin{array}{c}\n",
        "  w_1 \\\\\n",
        "  w_2\n",
        "  \\end{array}\n",
        "\\right] = \\left[\n",
        "  \\begin{array}{c}\n",
        "  b \\\\\n",
        "  c\n",
        "  \\end{array}\n",
        "\\right] = X^{-1}y\n",
        "$"
      ],
      "metadata": {
        "id": "gcKbun-TgSj1"
      }
    },
    {
      "cell_type": "code",
      "source": [
        "X = np.array([[4, 2], [-5, -3]])\n",
        "X"
      ],
      "metadata": {
        "colab": {
          "base_uri": "https://localhost:8080/"
        },
        "id": "XnOZBQnFpiGI",
        "outputId": "0356d5a4-9bdb-44d7-ced9-de6739bf1ff5"
      },
      "execution_count": 123,
      "outputs": [
        {
          "output_type": "execute_result",
          "data": {
            "text/plain": [
              "array([[ 4,  2],\n",
              "       [-5, -3]])"
            ]
          },
          "metadata": {},
          "execution_count": 123
        }
      ]
    },
    {
      "cell_type": "code",
      "source": [
        "Xinv = np.linalg.inv(X) # MAGIC (go look it up)\n",
        "Xinv"
      ],
      "metadata": {
        "colab": {
          "base_uri": "https://localhost:8080/"
        },
        "id": "uzI3pmb4pmUk",
        "outputId": "9a79b781-4325-4f38-e632-2674071db846"
      },
      "execution_count": 124,
      "outputs": [
        {
          "output_type": "execute_result",
          "data": {
            "text/plain": [
              "array([[ 1.5,  1. ],\n",
              "       [-2.5, -2. ]])"
            ]
          },
          "metadata": {},
          "execution_count": 124
        }
      ]
    },
    {
      "cell_type": "code",
      "source": [
        "y = np.array([4, -7])\n",
        "y_pt"
      ],
      "metadata": {
        "colab": {
          "base_uri": "https://localhost:8080/"
        },
        "id": "4f0KEzsxptmz",
        "outputId": "2a081acd-216f-4855-b442-928284da675a"
      },
      "execution_count": 125,
      "outputs": [
        {
          "output_type": "execute_result",
          "data": {
            "text/plain": [
              "tensor([0, 1, 2])"
            ]
          },
          "metadata": {},
          "execution_count": 125
        }
      ]
    },
    {
      "cell_type": "code",
      "source": [
        "w = np.dot(Xinv, y)\n",
        "w"
      ],
      "metadata": {
        "colab": {
          "base_uri": "https://localhost:8080/"
        },
        "id": "8p-IQdIhp2Ml",
        "outputId": "6bd9aabf-0755-4832-d264-d8bd75113dea"
      },
      "execution_count": 126,
      "outputs": [
        {
          "output_type": "execute_result",
          "data": {
            "text/plain": [
              "array([-1.,  4.])"
            ]
          },
          "metadata": {},
          "execution_count": 126
        }
      ]
    },
    {
      "cell_type": "markdown",
      "source": [
        "Show that $y = Xw$"
      ],
      "metadata": {
        "id": "85ZynG4Ip4SR"
      }
    },
    {
      "cell_type": "code",
      "source": [
        "np.dot(X, w)"
      ],
      "metadata": {
        "colab": {
          "base_uri": "https://localhost:8080/"
        },
        "id": "0-zHW62jqbU8",
        "outputId": "9fd0ff42-a31b-4261-c035-51484911c06d"
      },
      "execution_count": 127,
      "outputs": [
        {
          "output_type": "execute_result",
          "data": {
            "text/plain": [
              "array([ 4., -7.])"
            ]
          },
          "metadata": {},
          "execution_count": 127
        }
      ]
    },
    {
      "cell_type": "markdown",
      "source": [
        "### In PyTorch and TensorFlow"
      ],
      "metadata": {
        "id": "PPfu7IM4qcnB"
      }
    },
    {
      "cell_type": "code",
      "source": [
        "torch.inverse(torch.tensor([[4, 2], [-5, -3.]])) # float type"
      ],
      "metadata": {
        "colab": {
          "base_uri": "https://localhost:8080/"
        },
        "id": "7RQMUnCOqo4D",
        "outputId": "9d21d7b3-76c5-4048-b4f8-b39ec624cc6e"
      },
      "execution_count": 128,
      "outputs": [
        {
          "output_type": "execute_result",
          "data": {
            "text/plain": [
              "tensor([[ 1.5000,  1.0000],\n",
              "        [-2.5000, -2.0000]])"
            ]
          },
          "metadata": {},
          "execution_count": 128
        }
      ]
    },
    {
      "cell_type": "code",
      "source": [
        "tf.linalg.inv(tf.Variable([[4, 2], [-5, -3.]])) # also float"
      ],
      "metadata": {
        "colab": {
          "base_uri": "https://localhost:8080/"
        },
        "id": "rbzwPXIDqx7R",
        "outputId": "cb036d72-28c1-4f8e-9121-bcdebd6ec6d2"
      },
      "execution_count": 129,
      "outputs": [
        {
          "output_type": "execute_result",
          "data": {
            "text/plain": [
              "<tf.Tensor: shape=(2, 2), dtype=float32, numpy=\n",
              "array([[ 1.4999998,  0.9999998],\n",
              "       [-2.4999995, -1.9999996]], dtype=float32)>"
            ]
          },
          "metadata": {},
          "execution_count": 129
        }
      ]
    },
    {
      "cell_type": "markdown",
      "source": [
        "### Limitations of Matrix Inversion\n",
        "\n",
        "Can only be calculated if:\n",
        "\n",
        "* Matrix isn't \"singular\"\n",
        "* That is, all columns of matrix must be linearly independent\n",
        "  * If a column is [1, 2], another can't be [2, 4] or also be [1,2]\n",
        "  * (That is there must be ONE solution rather than no or infinite solutions)\n",
        "* Matrix is square: $n_{row} = n_{col}$ (i.e. \"vector span\" = \"matrix range\")\n",
        "  * avoids **overdetermination**: $ n_{row} > n_{col}$ i.e.: $ n_{equations} > n_{dimensions} $\n",
        "  * avoids **underdetermination**: $ n_{row} < n_{col}$ i.e.: $ n_{equations} < n_{dimensions} $\n",
        "\n",
        "*Note that solving equation may still be possible by other means if matrix can't be inverted (Algebra II)*"
      ],
      "metadata": {
        "id": "aiH0Ss7Wq6uN"
      }
    },
    {
      "cell_type": "markdown",
      "source": [
        "### Matrix Inversion Where No Solution"
      ],
      "metadata": {
        "id": "tlfvEx1ps1HV"
      }
    },
    {
      "cell_type": "code",
      "source": [
        "X = np.array([[-4, 1], [-8, 2]]) # note that second row is a multiple of the first row\n",
        "X"
      ],
      "metadata": {
        "colab": {
          "base_uri": "https://localhost:8080/"
        },
        "id": "kdzxQy-OtBLr",
        "outputId": "c147deea-9805-4a3c-b5ea-0d3ae83d51c3"
      },
      "execution_count": 130,
      "outputs": [
        {
          "output_type": "execute_result",
          "data": {
            "text/plain": [
              "array([[-4,  1],\n",
              "       [-8,  2]])"
            ]
          },
          "metadata": {},
          "execution_count": 130
        }
      ]
    },
    {
      "cell_type": "code",
      "source": [
        "# Uncommented the following line results in a \"singular matrix\" error\n",
        "# Xinv = np.linalg.inv(X)"
      ],
      "metadata": {
        "id": "QQTz17xptF36"
      },
      "execution_count": 131,
      "outputs": []
    },
    {
      "cell_type": "markdown",
      "source": [
        "Feel free to try inverting a non-square matrix; this will throw an error too."
      ],
      "metadata": {
        "id": "-3_d7eIdtNyT"
      }
    },
    {
      "cell_type": "markdown",
      "source": [
        "## Diagonal Matrix\n",
        "\n",
        "* Nonzero elements along main diagonal; zeros everywhere else\n",
        "* Identity matrix is an example\n",
        "* If square, denoted as diag($x$) where $x$ is a vector of main-diagonal elements\n",
        "* Computationally efficient:\n",
        "  * Multiplication: diag($x$)$y$ = $x ⨀ y$\n",
        "  * Inversion: $diag(x)^{-1} = diag[1/x_1, …, 1/x_n]^T$\n",
        "    * Can't divide by zero so $x$ can't include zero\n",
        "* Can be non-square and computation still efficient:\n",
        "  * If $h > w$, simply add zeros to product\n",
        "  * If $h < w$, remove elements from product\n"
      ],
      "metadata": {
        "id": "nU66Zkp8tUdW"
      }
    },
    {
      "cell_type": "markdown",
      "source": [
        "## Orthogonal Matrices"
      ],
      "metadata": {
        "id": "nnkKlaXYvOiZ"
      }
    },
    {
      "cell_type": "markdown",
      "source": [
        "Recall orthonormal vectors:\n",
        "  * Orthogonal from each other AND have unit length (so [0, 1], [1, 0])\n",
        "\n",
        "In orghogonal matrices, orthonormal vectors:\n",
        "  * Make up all rows\n",
        "  * Make up all columns\n",
        "This means $A^TA = AA^T = I$\n",
        "\n",
        "Which also means: $A^T = A^{-1}I = A^{-1}$\n",
        "Calculating $A^T$ is cheap, therefore so is calculating $A^{-1}$"
      ],
      "metadata": {
        "id": "HkQ2XivCvQ3T"
      }
    },
    {
      "cell_type": "code",
      "source": [],
      "metadata": {
        "id": "x9Mc3kV5gn7i"
      },
      "execution_count": null,
      "outputs": []
    }
  ]
}
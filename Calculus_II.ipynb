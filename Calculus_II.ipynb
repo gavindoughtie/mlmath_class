{
  "nbformat": 4,
  "nbformat_minor": 0,
  "metadata": {
    "colab": {
      "provenance": [],
      "toc_visible": true,
      "mount_file_id": "1D2QCIMFH8-oo8TcEZjZgnOnSI1tXYYc8",
      "authorship_tag": "ABX9TyOOso3keBzdTs/gx/3TzSwq",
      "include_colab_link": true
    },
    "kernelspec": {
      "name": "python3",
      "display_name": "Python 3"
    },
    "language_info": {
      "name": "python"
    }
  },
  "cells": [
    {
      "cell_type": "markdown",
      "metadata": {
        "id": "view-in-github",
        "colab_type": "text"
      },
      "source": [
        "<a href=\"https://colab.research.google.com/github/gavindoughtie/mlmath_class/blob/main/Calculus_II.ipynb\" target=\"_parent\"><img src=\"https://colab.research.google.com/assets/colab-badge.svg\" alt=\"Open In Colab\"/></a>"
      ]
    },
    {
      "cell_type": "markdown",
      "source": [
        "# Segment 2: ML Gradients\n",
        "\n",
        "* Partial Derivatives of Multivariate Functions\n",
        "* The Partial-Derivative Chain Rule\n",
        "* Quadratic Cost\n",
        "* Gradients\n",
        "* Gradient Descent\n",
        "* Backpropagation\n",
        "* Higher-order Partial Derivatives"
      ],
      "metadata": {
        "id": "dTxVPITkgyFo"
      }
    },
    {
      "cell_type": "markdown",
      "source": [
        "## What Partial Derivatives Are"
      ],
      "metadata": {
        "id": "9-6u-qci6R-m"
      }
    },
    {
      "cell_type": "markdown",
      "source": [
        "### Multivariate Functions\n",
        "\n",
        "Even in a simple regression such as $y = mx + b$:\n",
        "\n",
        "  $y$ is a function of *multiple* variables\n",
        "  \n",
        "  -- in this case, $m$ and $b$.\n",
        "\n",
        "Therefore, we can't calculate the full derivative of $\\frac{dy}{dm}$ or $\\frac{dy}{db}$."
      ],
      "metadata": {
        "id": "YO04FYfO6hpY"
      }
    },
    {
      "cell_type": "markdown",
      "source": [
        "### Partial Derivatives\n",
        "\n",
        "Enable the calculation of derivatives of multivariate equations.\n",
        "\n",
        "Consider the equation $z = x^2 - y^2$\n",
        "\n",
        "Hands-on demo: [https://www.geogebra.org/3d?lang=en](https://www.geogebra.org/3d?lang=en)"
      ],
      "metadata": {
        "id": "0UVZMgYf63qQ"
      }
    },
    {
      "cell_type": "markdown",
      "source": [
        "The partial derivative of $z$ with respect to $x$ is obtained by considering $y$ to be a constant:\n",
        "\n",
        "<img src=\"https://drive.google.com/uc?id=1-60enV9kU7Gi8RuV9kpZ_HELGZDylOSc\">\n"
      ],
      "metadata": {
        "id": "a7o45ijj8ssL"
      }
    },
    {
      "cell_type": "markdown",
      "source": [
        "$z = x^2 - y^2$ Imagine $y$ is any constant, so the derivative becomes:\n",
        "\n",
        "$\\frac{\\partial z}{\\partial x} = 2x - 0 = 2x$ # NOTE: partial derivative symbol $\\partial$ instead of full derivative $d$. (pronounced \"del\" instead of \"dee\")\n",
        "\n",
        "In this example, the partial derivative slope of $z$ along the $x$ axis is *twice* the $x$ axis value."
      ],
      "metadata": {
        "id": "Anj89f41-0Gv"
      }
    },
    {
      "cell_type": "code",
      "source": [
        "from matplotlib import pyplot as plt\n",
        "import numpy as np\n",
        "import torch\n",
        "import math # for constant pi"
      ],
      "metadata": {
        "id": "7pc3IlW3AQ1o"
      },
      "execution_count": null,
      "outputs": []
    },
    {
      "cell_type": "markdown",
      "source": [
        "## Partial Derivatives of Multivariate Functions"
      ],
      "metadata": {
        "id": "_5_FMHKLCGa1"
      }
    },
    {
      "cell_type": "markdown",
      "source": [
        "Define a function $f(x, y)$ for $z = x^2 - y^2$:"
      ],
      "metadata": {
        "id": "3BioKuJVAu9z"
      }
    },
    {
      "cell_type": "code",
      "source": [
        "def f(my_x, my_y):\n",
        "  return my_x**2 - my_y**2"
      ],
      "metadata": {
        "id": "3e4B-_WvA3zM"
      },
      "execution_count": null,
      "outputs": []
    },
    {
      "cell_type": "markdown",
      "source": [
        "Plot $z$ with respect to $x$ by varying $x$:"
      ],
      "metadata": {
        "id": "tzVz6LW_A8QI"
      }
    },
    {
      "cell_type": "code",
      "source": [
        "xs = np.linspace(-3, 3, 1000)"
      ],
      "metadata": {
        "id": "PXlRIH5kBACz"
      },
      "execution_count": null,
      "outputs": []
    },
    {
      "cell_type": "markdown",
      "source": [
        "...while holding $y$ constant (at $y = 0$)"
      ],
      "metadata": {
        "id": "f0z-hrnEBDbN"
      }
    },
    {
      "cell_type": "code",
      "source": [
        "zs_wrt_x = f(xs, 0)"
      ],
      "metadata": {
        "id": "IQ1co6ZKCT1U"
      },
      "execution_count": null,
      "outputs": []
    },
    {
      "cell_type": "code",
      "source": [
        "fix, ax = plt.subplots()\n",
        "plt.axvline(x=0, color='lightgray')\n",
        "plt.axhline(y=0, color='lightgray')\n",
        "\n",
        "plt.xlabel('x')\n",
        "plt.ylabel('z', rotation=0)\n",
        "_ = ax.plot(xs, zs_wrt_x)"
      ],
      "metadata": {
        "colab": {
          "base_uri": "https://localhost:8080/",
          "height": 279
        },
        "id": "owiXMl9WCX07",
        "outputId": "81f7dc72-81c7-47bd-d1a2-09e9221b58b1"
      },
      "execution_count": null,
      "outputs": [
        {
          "output_type": "display_data",
          "data": {
            "text/plain": [
              "<Figure size 432x288 with 1 Axes>"
            ],
            "image/png": "[encoded data removed]"
          },
          "metadata": {
            "needs_background": "light"
          }
        }
      ]
    },
    {
      "cell_type": "markdown",
      "source": [
        "To determine the slope of $z$ w.r.t. $x$ at a given point along the curve we can use the partial derivative from the slides:\n",
        "\n",
        "$\\frac{\\partial z}{\\partial x} = 2x$"
      ],
      "metadata": {
        "id": "DzlPVW5yC1ly"
      }
    },
    {
      "cell_type": "code",
      "source": [
        "def delz_delx(my_x, my_y): # y isn't relevant for *this* partial derivative; it often would be\n",
        "  return 2*my_x"
      ],
      "metadata": {
        "id": "hXDJuHqgH9pz"
      },
      "execution_count": null,
      "outputs": []
    },
    {
      "cell_type": "code",
      "source": [
        "x_samples = [-2, -1, 0, 1, 2]"
      ],
      "metadata": {
        "id": "_l9T4JVTIHPb"
      },
      "execution_count": null,
      "outputs": []
    },
    {
      "cell_type": "code",
      "source": [
        "colors = ['red', 'orange', 'green', 'blue', 'purple']"
      ],
      "metadata": {
        "id": "Xg8E6HEjILQc"
      },
      "execution_count": null,
      "outputs": []
    },
    {
      "cell_type": "code",
      "source": [
        "def point_and_tangent_wrt_x(my_xs, my_x, my_y, my_f, fprime, col): # fprime is the partial derivative function\n",
        "  my_z = my_f(my_x, my_y) # z = f(x, y)\n",
        "  plt.scatter(my_x, my_z, c=col, zorder=3)\n",
        "\n",
        "  tangent_m = fprime(my_x, my_y) # slope is partial derivative of f(x, y) w.r.t. x\n",
        "  tangent_b = my_z - tangent_m*my_x # line is z=mx+b, so b=z-mx\n",
        "  tangent_line = tangent_m*my_xs + tangent_b\n",
        "\n",
        "  plt.plot(my_xs, tangent_line, c=col,\n",
        "          linestyle='dashed', linewidth=0.7, zorder=3)"
      ],
      "metadata": {
        "id": "5-D3k_RIIQf5"
      },
      "execution_count": null,
      "outputs": []
    },
    {
      "cell_type": "code",
      "source": [
        "fix, ax = plt.subplots()\n",
        "plt.axvline(x=0, color='lightgray')\n",
        "plt.axhline(y=0, color='lightgray')\n",
        "\n",
        "for i, x in enumerate(x_samples):\n",
        "  point_and_tangent_wrt_x(xs, x, 0, f, delz_delx, colors[i])\n",
        "\n",
        "plt.ylim(-1, 9)\n",
        "plt.xlabel('x')\n",
        "plt.ylabel('z', rotation=0)\n",
        "_ = ax.plot(xs, zs_wrt_x)"
      ],
      "metadata": {
        "colab": {
          "base_uri": "https://localhost:8080/",
          "height": 279
        },
        "id": "QONkrdX1I3p6",
        "outputId": "5b78596f-c5e3-4f01-a187-1f12cb66607e"
      },
      "execution_count": null,
      "outputs": [
        {
          "output_type": "display_data",
          "data": {
            "text/plain": [
              "<Figure size 432x288 with 1 Axes>"
            ],
            "image/png": "[encoded data removed]"
          },
          "metadata": {
            "needs_background": "light"
          }
        }
      ]
    },
    {
      "cell_type": "markdown",
      "source": [
        "Thereby visually demonstrating $\\frac{\\partial z}{\\partial x} = 2x$.\n",
        "\n",
        "That is, the slope of $z$ along the $x$ axis is *twice* the $x$ value."
      ],
      "metadata": {
        "id": "vfD6WCwoKJZq"
      }
    },
    {
      "cell_type": "markdown",
      "source": [
        "Reconsider $z = x^2 - y^2$ from the perspective of $z$ w.r.t. $y$\n",
        "\n",
        "The partial derivative of $z$ with respect to $y$ is obtained by considering $x$ to be a constant:\n",
        "\n",
        "<img src=\"https://drive.google.com/uc?id=1vKstg3iyrxJKbfeUhCpmMEcADOk5cqgu\">\n",
        "\n",
        "$z = x^2 - y^2$\n",
        "\n",
        "$\\frac{\\partial z}{\\partial y} = 0 -2y = -2y$\n",
        "\n",
        "The slope of $z$ along the $y$ axis is *twice* the $y$ axis value *and is inverted* (because of the negative sign)"
      ],
      "metadata": {
        "id": "NMRiYP6OLTDj"
      }
    },
    {
      "cell_type": "markdown",
      "source": [
        "Now let's plot $z$ with respect to $y$ by varying $y$"
      ],
      "metadata": {
        "id": "RAVnDSEtMbwj"
      }
    },
    {
      "cell_type": "code",
      "source": [
        "ys = np.linspace(-3, 3, 1000)"
      ],
      "metadata": {
        "id": "ot0cRdx2OhIm"
      },
      "execution_count": null,
      "outputs": []
    },
    {
      "cell_type": "markdown",
      "source": [
        "... while holding $x$ constant ($x = 0$)"
      ],
      "metadata": {
        "id": "VEWMcbZcOjUd"
      }
    },
    {
      "cell_type": "code",
      "source": [
        "zs_wrt_y = f(0, ys)"
      ],
      "metadata": {
        "id": "ian431q5Om7C"
      },
      "execution_count": null,
      "outputs": []
    },
    {
      "cell_type": "code",
      "source": [
        "fix, ax = plt.subplots()\n",
        "plt.axvline(x=0, color='lightgray')\n",
        "plt.axhline(y=0, color='lightgray')\n",
        "\n",
        "plt.xlabel('x')\n",
        "plt.ylabel('z', rotation=0)\n",
        "_ = ax.plot(xs, zs_wrt_y)"
      ],
      "metadata": {
        "colab": {
          "base_uri": "https://localhost:8080/",
          "height": 279
        },
        "id": "PgHDpY7tOot9",
        "outputId": "6f2136fa-9a2e-443a-edb5-574d13caf943"
      },
      "execution_count": null,
      "outputs": [
        {
          "output_type": "display_data",
          "data": {
            "text/plain": [
              "<Figure size 432x288 with 1 Axes>"
            ],
            "image/png": "[encoded data removed]"
          },
          "metadata": {
            "needs_background": "light"
          }
        }
      ]
    },
    {
      "cell_type": "markdown",
      "source": [
        "As in the slides, the partial derivative of $z$ w.r.t. $y$ happens to be independent of $x$ (just as we observed $x$ is independent of $y$ above), so while $z$ varies as a function of both $x$ and $y$, the slope of $z$ w.r.t. $y$ is the same no matter what $x$ is:\n",
        "\n",
        "$$\n",
        "\\frac{\\partial z}{\\partial y} = -2y\n",
        "$$\n",
        "\n",
        "So for example, holding $x$ constant at some value other than 0 increases $z$, but has no impact on the slope of $z$ w.r.t. y:"
      ],
      "metadata": {
        "id": "GOCzzlpQOyCc"
      }
    },
    {
      "cell_type": "code",
      "source": [
        "zs_wrt_y = f(2, ys)"
      ],
      "metadata": {
        "id": "K5Fxnv0APZ0L"
      },
      "execution_count": null,
      "outputs": []
    },
    {
      "cell_type": "code",
      "source": [
        "fix, ax = plt.subplots()\n",
        "plt.axvline(x=0, color='lightgray')\n",
        "plt.axhline(y=0, color='lightgray')\n",
        "\n",
        "plt.xlabel('x')\n",
        "plt.ylabel('z', rotation=0)\n",
        "_ = ax.plot(xs, zs_wrt_y)"
      ],
      "metadata": {
        "colab": {
          "base_uri": "https://localhost:8080/",
          "height": 279
        },
        "id": "9a_GzqxBPciC",
        "outputId": "8aeee2ae-9f9e-463d-88d2-70bd934b44fa"
      },
      "execution_count": null,
      "outputs": [
        {
          "output_type": "display_data",
          "data": {
            "text/plain": [
              "<Figure size 432x288 with 1 Axes>"
            ],
            "image/png": "[encoded data removed]"
          },
          "metadata": {
            "needs_background": "light"
          }
        }
      ]
    },
    {
      "cell_type": "code",
      "source": [
        "def delz_dely(my_x, my_y):\n",
        "  return -2*my_y"
      ],
      "metadata": {
        "id": "Oy_18VLsPdpA"
      },
      "execution_count": null,
      "outputs": []
    },
    {
      "cell_type": "code",
      "source": [
        "y_samples = [-2, -1, 0, 1, 2]"
      ],
      "metadata": {
        "id": "NORDYuf6PyKW"
      },
      "execution_count": null,
      "outputs": []
    },
    {
      "cell_type": "code",
      "source": [
        "def point_and_tangent_wrt_y(my_ys, my_x, my_y, my_f, fprime, col): # fprime is the partial derivative function\n",
        "  my_z = my_f(my_x, my_y) # z = f(x, y)\n",
        "  plt.scatter(my_y, my_z, c=col, zorder=3)\n",
        "\n",
        "  tangent_m = fprime(my_x, my_y) # slope is partial derivative of f(x, y) w.r.t. x\n",
        "  tangent_b = my_z - tangent_m*my_y # line is z=mx+b, so b=z-mx\n",
        "  tangent_line = tangent_m*my_ys + tangent_b\n",
        "\n",
        "  plt.plot(my_ys, tangent_line, c=col,\n",
        "          linestyle='dashed', linewidth=0.7, zorder=3)"
      ],
      "metadata": {
        "id": "qoJKI94lP0rm"
      },
      "execution_count": null,
      "outputs": []
    },
    {
      "cell_type": "code",
      "source": [
        "fix, ax = plt.subplots()\n",
        "plt.axvline(x=0, color='lightgray')\n",
        "plt.axhline(y=0, color='lightgray')\n",
        "\n",
        "for i, y in enumerate(y_samples):\n",
        "  point_and_tangent_wrt_y(ys, 2, y, f, delz_dely, colors[i])\n",
        "\n",
        "plt.ylim(-5, 5)\n",
        "plt.xlabel('y')\n",
        "plt.ylabel('z', rotation=0)\n",
        "_ = ax.plot(xs, zs_wrt_y)"
      ],
      "metadata": {
        "colab": {
          "base_uri": "https://localhost:8080/",
          "height": 279
        },
        "id": "9-2Qf9CpQGAo",
        "outputId": "2a3a0c46-f353-4a50-d454-21b27c976d23"
      },
      "execution_count": null,
      "outputs": [
        {
          "output_type": "display_data",
          "data": {
            "text/plain": [
              "<Figure size 432x288 with 1 Axes>"
            ],
            "image/png": "[encoded data removed]"
          },
          "metadata": {
            "needs_background": "light"
          }
        }
      ]
    },
    {
      "cell_type": "markdown",
      "source": [
        "Thereby visually demonstrating $\\frac{\\partial z}{\\partial y} = -2y$.\n",
        "\n",
        "That is, the slope of $z$ along the $y$ axis is *twice* the $y$ value and *inverted*, resulting in the parabolic curve opening downward."
      ],
      "metadata": {
        "id": "WQTj_T-gQPMU"
      }
    },
    {
      "cell_type": "markdown",
      "source": [
        "### Partial Derivatives Exercieses\n",
        "\n",
        "for $z = x^2 - y^2$ calculate:\n",
        "\n",
        "* The value of $z$\n",
        "* The slope of $z$ with respect to $x$\n",
        "* And the slope of $z$ with respect to $y$\n",
        "\n",
        "At the points where:\n",
        "\n",
        "1. $x = 3$, $y = 0$\n",
        "2. $x = 2$, $y = 3$\n",
        "3. $x = -2$, $y = -3$"
      ],
      "metadata": {
        "id": "Bq3Rg7GvSbUE"
      }
    },
    {
      "cell_type": "markdown",
      "source": [
        "Determining partial derivatives by hand using rules is helpful for understanding how calculus works. In practice, however, autodiff enables us to do so more easily (especially if there are a large number of variables). For example, let's use the PyTorch automatic differentiation libary to calculate the slope of $z$ with respect to both $x$ and $y$ at any given point ($x$, $y$, $z$):"
      ],
      "metadata": {
        "id": "gvd-eYtjTCtv"
      }
    },
    {
      "cell_type": "markdown",
      "source": [
        "### Solutions for\n",
        "\n",
        "$$z = x^2 - y^2$$ \n",
        "\n",
        "1. **where $x = 3$, $y = 0$**\n",
        "\n",
        "value: $z = 3^2 - 0 = 9$\n",
        "\n",
        "$\\frac{\\partial z}{\\partial x} = 2(3) - 0 = 6 - 0 = 6$\n",
        "\n",
        "$\\frac{\\partial z}{\\partial y} = 0 - 0 = 0$\n",
        "\n",
        "2. **where $x = 2$, $y = 3$**\n",
        "\n",
        "value: $z = 2^2 - 3^2 = 4 -9 = -5$\n",
        "\n",
        "$\\frac{\\partial z}{\\partial x} = 2(2) - 0 = 4 - 0 = 4$\n",
        "\n",
        "$\\frac{\\partial z}{\\partial y} = 0 - 2(3) = -6$\n",
        "\n",
        "3. $x = -2$, $y = -3$\n",
        "\n",
        "value: $z = -2^2 - -3^2 = 4 - 9 = -5$\n",
        "\n",
        "$\\frac{\\partial z}{\\partial x} = 2(-2) - 0 = -4$\n",
        "\n",
        "$\\frac{\\partial z}{\\partial y} = 0 - 2(-3) = 0 - -6 = 6$\n"
      ],
      "metadata": {
        "id": "rXsb1NKHTZxd"
      }
    },
    {
      "cell_type": "markdown",
      "source": [
        "## Calculating Partial Derivatives with Autodiff\n",
        "\n",
        "Determining partial derivatives by hand is helpful for understanding, but in practice autodiff is the way to go. Here's the PyTorch code:"
      ],
      "metadata": {
        "id": "gp5Pg6tfifkC"
      }
    },
    {
      "cell_type": "code",
      "source": [
        "x = torch.tensor(0.).requires_grad_()\n",
        "x"
      ],
      "metadata": {
        "colab": {
          "base_uri": "https://localhost:8080/"
        },
        "id": "mZuKNSNvlBSI",
        "outputId": "3537c68c-d430-4154-88d4-0efacbd697c4"
      },
      "execution_count": null,
      "outputs": [
        {
          "output_type": "execute_result",
          "data": {
            "text/plain": [
              "tensor(0., requires_grad=True)"
            ]
          },
          "metadata": {},
          "execution_count": 55
        }
      ]
    },
    {
      "cell_type": "code",
      "source": [
        "y = torch.tensor(0.).requires_grad_()\n",
        "y"
      ],
      "metadata": {
        "colab": {
          "base_uri": "https://localhost:8080/"
        },
        "id": "5tCwEl1xlD6f",
        "outputId": "7656fb6f-4192-4b02-99b9-d06420df0024"
      },
      "execution_count": null,
      "outputs": [
        {
          "output_type": "execute_result",
          "data": {
            "text/plain": [
              "tensor(0., requires_grad=True)"
            ]
          },
          "metadata": {},
          "execution_count": 56
        }
      ]
    },
    {
      "cell_type": "code",
      "source": [
        "z = f(x, y) # Forward pass\n",
        "z"
      ],
      "metadata": {
        "colab": {
          "base_uri": "https://localhost:8080/"
        },
        "id": "xpDVJrkBlHhv",
        "outputId": "7b8a6b68-aa0e-4e6d-a871-d4576bf136a1"
      },
      "execution_count": null,
      "outputs": [
        {
          "output_type": "execute_result",
          "data": {
            "text/plain": [
              "tensor(0., grad_fn=<SubBackward0>)"
            ]
          },
          "metadata": {},
          "execution_count": 57
        }
      ]
    },
    {
      "cell_type": "code",
      "source": [
        "z.backward() # Autodiff"
      ],
      "metadata": {
        "id": "SA3YRCctlJiG"
      },
      "execution_count": null,
      "outputs": []
    },
    {
      "cell_type": "markdown",
      "source": [
        "As we already knew from our exercises above, the slope of the point (0,0,0) is zero with respect to both the $x$ and $y$ axes:"
      ],
      "metadata": {
        "id": "UScbEBQjlLYY"
      }
    },
    {
      "cell_type": "code",
      "source": [
        "x.grad"
      ],
      "metadata": {
        "colab": {
          "base_uri": "https://localhost:8080/"
        },
        "id": "NEUMOs3SlW_Q",
        "outputId": "f2c0ecc8-c587-40fd-acc9-95ca13ecc5dd"
      },
      "execution_count": null,
      "outputs": [
        {
          "output_type": "execute_result",
          "data": {
            "text/plain": [
              "tensor(0.)"
            ]
          },
          "metadata": {},
          "execution_count": 59
        }
      ]
    },
    {
      "cell_type": "code",
      "source": [
        "y.grad"
      ],
      "metadata": {
        "colab": {
          "base_uri": "https://localhost:8080/"
        },
        "id": "1sOFl6ndlkMW",
        "outputId": "f3df31cd-6cc6-41ef-a991-32a6b82384ed"
      },
      "execution_count": null,
      "outputs": [
        {
          "output_type": "execute_result",
          "data": {
            "text/plain": [
              "tensor(-0.)"
            ]
          },
          "metadata": {},
          "execution_count": 60
        }
      ]
    },
    {
      "cell_type": "code",
      "source": [
        "# Repeat of the exercises above\n",
        "\n",
        "values = [(3., 0.), (2.0,3.), (-2., -3.)]\n",
        "\n",
        "for x_val, y_val in values:\n",
        "  x = torch.tensor(x_val).requires_grad_()\n",
        "  y = torch.tensor(y_val).requires_grad_()\n",
        "  z = f(x, y)\n",
        "  z.backward()\n",
        "  print(f'x = {x}, y = {y}')\n",
        "  print(f' z = {z}')\n",
        "  print(f' xgrad: {x.grad}')\n",
        "  print(f' ygrad: {y.grad}')\n",
        "\n",
        "  "
      ],
      "metadata": {
        "colab": {
          "base_uri": "https://localhost:8080/"
        },
        "id": "IBMLSCuslnOA",
        "outputId": "d99707f3-e663-4381-9108-55b6ed1c9eb7"
      },
      "execution_count": null,
      "outputs": [
        {
          "output_type": "stream",
          "name": "stdout",
          "text": [
            "x = 3.0, y = 0.0\n",
            " z = 9.0\n",
            " xgrad: 6.0\n",
            " ygrad: -0.0\n",
            "x = 2.0, y = 3.0\n",
            " z = -5.0\n",
            " xgrad: 4.0\n",
            " ygrad: -6.0\n",
            "x = -2.0, y = -3.0\n",
            " z = -5.0\n",
            " xgrad: -4.0\n",
            " ygrad: 6.0\n"
          ]
        }
      ]
    },
    {
      "cell_type": "markdown",
      "source": [
        "## Advanced Partial Derivatives\n",
        "\n",
        "Multivariate function for volume of a cylinder:\n",
        "\n",
        "$v = \\pi r^2l$\n",
        "\n",
        "$\\frac{\\partial v}{\\partial l} = \\pi r^2 \\frac{d}{dl}(l)$  (differentiate with respect to length)\n",
        "\n",
        "= $\\pi r^2 (1)$\n",
        "\n",
        "= $\\pi r^2$\n",
        "\n",
        "$\\therefore$ a change in length $l$ corresponds to a change in *volume* by $\\pi r^2$"
      ],
      "metadata": {
        "id": "bcb_oBLbmpIY"
      }
    },
    {
      "cell_type": "markdown",
      "source": [
        "### Partial Derivatives of a Cylinder's Volume in code\n",
        "\n",
        "For the volume formula $v = \\pi r^2l$ where $r$ is the radius of the cylinder and $l$ is its length:"
      ],
      "metadata": {
        "id": "qNXwtb7koUPo"
      }
    },
    {
      "cell_type": "code",
      "source": [
        "def cylinder_vol(my_r, my_l):\n",
        "  return math.pi * my_r**2 * my_l"
      ],
      "metadata": {
        "id": "UPeY2wdlsJ2V"
      },
      "execution_count": null,
      "outputs": []
    },
    {
      "cell_type": "code",
      "source": [
        "# let's say the radius is 3 meters:\n",
        "r = torch.tensor(3.).requires_grad_()\n",
        "r"
      ],
      "metadata": {
        "colab": {
          "base_uri": "https://localhost:8080/"
        },
        "id": "5xa6hiiFsae6",
        "outputId": "1137d911-f9a6-4909-c847-3f0f23cfabd8"
      },
      "execution_count": null,
      "outputs": [
        {
          "output_type": "execute_result",
          "data": {
            "text/plain": [
              "tensor(3., requires_grad=True)"
            ]
          },
          "metadata": {},
          "execution_count": 63
        }
      ]
    },
    {
      "cell_type": "code",
      "source": [
        "# length of 5 meters\n",
        "l = torch.tensor(5.).requires_grad_()\n",
        "l"
      ],
      "metadata": {
        "colab": {
          "base_uri": "https://localhost:8080/"
        },
        "id": "QO3pesYGsg4R",
        "outputId": "4618354a-2dfa-45f0-d7a4-42c19622cf3b"
      },
      "execution_count": null,
      "outputs": [
        {
          "output_type": "execute_result",
          "data": {
            "text/plain": [
              "tensor(5., requires_grad=True)"
            ]
          },
          "metadata": {},
          "execution_count": 64
        }
      ]
    },
    {
      "cell_type": "code",
      "source": [
        "# Then the volume of the cylinder is 141.4 cubic meters:\n",
        "v = cylinder_vol(r, l)\n",
        "v"
      ],
      "metadata": {
        "colab": {
          "base_uri": "https://localhost:8080/"
        },
        "id": "eRV2jOB-s9n4",
        "outputId": "42063b24-4a72-49e6-dbc0-4f90ed0f9eb6"
      },
      "execution_count": null,
      "outputs": [
        {
          "output_type": "execute_result",
          "data": {
            "text/plain": [
              "tensor(141.3717, grad_fn=<MulBackward0>)"
            ]
          },
          "metadata": {},
          "execution_count": 65
        }
      ]
    },
    {
      "cell_type": "code",
      "source": [
        "v.backward()"
      ],
      "metadata": {
        "id": "cDRyODdltNiD"
      },
      "execution_count": null,
      "outputs": []
    },
    {
      "cell_type": "code",
      "source": [
        "l.grad"
      ],
      "metadata": {
        "colab": {
          "base_uri": "https://localhost:8080/"
        },
        "id": "lVnkm4-StRGi",
        "outputId": "e6aea48c-8caf-4f50-bb77-56f5e22a410e"
      },
      "execution_count": null,
      "outputs": [
        {
          "output_type": "execute_result",
          "data": {
            "text/plain": [
              "tensor(28.2743)"
            ]
          },
          "metadata": {},
          "execution_count": 67
        }
      ]
    },
    {
      "cell_type": "markdown",
      "source": [
        "As we derived above:\n",
        "\n",
        "$$\n",
        "\\frac{\\delta v}{\\delta l} = \\pi r^2\n",
        "$$"
      ],
      "metadata": {
        "id": "IIQ3YWJVtTfc"
      }
    },
    {
      "cell_type": "code",
      "source": [
        "math.pi * 3**2"
      ],
      "metadata": {
        "colab": {
          "base_uri": "https://localhost:8080/"
        },
        "id": "6IaIc5eZt1Lr",
        "outputId": "90d724ed-3cd6-4f29-c1a3-d8033f664da8"
      },
      "execution_count": null,
      "outputs": [
        {
          "output_type": "execute_result",
          "data": {
            "text/plain": [
              "28.274333882308138"
            ]
          },
          "metadata": {},
          "execution_count": 68
        }
      ]
    },
    {
      "cell_type": "markdown",
      "source": [
        "This means that with $r = 3$, a change in $l$ by one unit corresponds to a change in $v$ of $28.27m^3$. We can prove this to ourselves:"
      ],
      "metadata": {
        "id": "XqYtox0mt4Vp"
      }
    },
    {
      "cell_type": "code",
      "source": [
        "cylinder_vol(3, 6)"
      ],
      "metadata": {
        "colab": {
          "base_uri": "https://localhost:8080/"
        },
        "id": "396cs2Z6uF21",
        "outputId": "2d6212a0-e609-496d-d6ed-3be6483d3434"
      },
      "execution_count": null,
      "outputs": [
        {
          "output_type": "execute_result",
          "data": {
            "text/plain": [
              "169.64600329384882"
            ]
          },
          "metadata": {},
          "execution_count": 69
        }
      ]
    },
    {
      "cell_type": "code",
      "source": [
        "cylinder_vol(3, 6) - cylinder_vol(3, 5)"
      ],
      "metadata": {
        "colab": {
          "base_uri": "https://localhost:8080/"
        },
        "id": "fpHriYyguJQT",
        "outputId": "7f9ab0f4-1d6e-4958-a08d-0ab17133e4fd"
      },
      "execution_count": null,
      "outputs": [
        {
          "output_type": "execute_result",
          "data": {
            "text/plain": [
              "28.274333882308127"
            ]
          },
          "metadata": {},
          "execution_count": 70
        }
      ]
    },
    {
      "cell_type": "code",
      "source": [
        "cylinder_vol(3, 7) - cylinder_vol(3, 6)"
      ],
      "metadata": {
        "colab": {
          "base_uri": "https://localhost:8080/"
        },
        "id": "qnTrsiyHuaHN",
        "outputId": "3f752519-643d-4212-d8f5-72b6f68e6140"
      },
      "execution_count": null,
      "outputs": [
        {
          "output_type": "execute_result",
          "data": {
            "text/plain": [
              "28.274333882308156"
            ]
          },
          "metadata": {},
          "execution_count": 71
        }
      ]
    },
    {
      "cell_type": "markdown",
      "source": [
        "...and with respect to $r$:\n",
        "\n",
        "$\\frac{\\partial v}{\\partial r} = \\pi \\frac{d}{dr}(r^2)l$\n",
        "\n",
        "= $\\pi(2r)l$\n",
        "\n",
        "= $2\\pi r l$\n",
        "\n",
        "$\\therefore$ a change in radius $r$ (by an infinitesimally small amount) corresponds to a change in *volume* by $2\\pi r l$"
      ],
      "metadata": {
        "id": "XbJrZV2uue3B"
      }
    },
    {
      "cell_type": "code",
      "source": [
        "2 * math.pi * r * l"
      ],
      "metadata": {
        "colab": {
          "base_uri": "https://localhost:8080/"
        },
        "id": "82Qq4_oxvYft",
        "outputId": "9c6498b9-ce1f-4736-b090-797e98ed5168"
      },
      "execution_count": null,
      "outputs": [
        {
          "output_type": "execute_result",
          "data": {
            "text/plain": [
              "tensor(94.2478, grad_fn=<MulBackward0>)"
            ]
          },
          "metadata": {},
          "execution_count": 72
        }
      ]
    },
    {
      "cell_type": "code",
      "source": [
        "r.grad"
      ],
      "metadata": {
        "colab": {
          "base_uri": "https://localhost:8080/"
        },
        "id": "ivhTB7Ffvkyf",
        "outputId": "f1e7f5f6-ee8b-41c3-934a-b546c900e103"
      },
      "execution_count": null,
      "outputs": [
        {
          "output_type": "execute_result",
          "data": {
            "text/plain": [
              "tensor(94.2478)"
            ]
          },
          "metadata": {},
          "execution_count": 73
        }
      ]
    },
    {
      "cell_type": "markdown",
      "source": [
        "$r$ is included in the partial derivative so adjusting it affects the scale of its impact on $v$. Although it's our first example in this notebook, it is typical in calculus for the derivative only to apply at an infinitesimally small $Δ r$. The smaller the $\\Delta r$, the closer to the true $\\frac{\\partial v}{\\partial r}$. E.g., at $\\Delta r = 1 × 10^{-6}$"
      ],
      "metadata": {
        "id": "v7rKMds9vljP"
      }
    },
    {
      "cell_type": "code",
      "source": [
        "delta = 1e-6\n",
        "delta"
      ],
      "metadata": {
        "colab": {
          "base_uri": "https://localhost:8080/"
        },
        "id": "KBIbC72qxoU7",
        "outputId": "1ede79da-9bf5-4b24-c220-9858e45eab60"
      },
      "execution_count": null,
      "outputs": [
        {
          "output_type": "execute_result",
          "data": {
            "text/plain": [
              "1e-06"
            ]
          },
          "metadata": {},
          "execution_count": 74
        }
      ]
    },
    {
      "cell_type": "code",
      "source": [
        "(cylinder_vol(3 + delta, 5) - cylinder_vol(3, 5)) / delta # Dividing by delta restores scale"
      ],
      "metadata": {
        "colab": {
          "base_uri": "https://localhost:8080/"
        },
        "id": "F9eCmsotxqYL",
        "outputId": "53d58250-387c-45c3-c372-d85e92f43f21"
      },
      "execution_count": null,
      "outputs": [
        {
          "output_type": "execute_result",
          "data": {
            "text/plain": [
              "94.24779531741478"
            ]
          },
          "metadata": {},
          "execution_count": 75
        }
      ]
    },
    {
      "cell_type": "markdown",
      "source": [
        "### Advanced Partial Derivative Exercises\n",
        "\n",
        "Find all the partial derivatives of the following functions:\n",
        "\n",
        "1. $z = y^3 + 5xy$\n",
        "2. The surface area of a cylinder: $a = 2\\pi r^2 + 2 \\pi rh$\n",
        "3. The volume of a *square prism* with a *cube* cut out of its center is described by $v = x^2y - z^3$"
      ],
      "metadata": {
        "id": "HnUTekYyys35"
      }
    },
    {
      "cell_type": "markdown",
      "source": [
        "### 1. $z = y^3 + 5xy$\n",
        "\n",
        "The bit I now understand is that when doing the partial derivatives, the *entire* variable expression becomes the \"constant\" so $5x$ is constant as is $5y$ and you differentiate on the other part of the expression.\n",
        "\n",
        "$\\frac{\\partial z}{\\partial y} = 3y^2 + 5x(1) = 3y^2 + 5x$\n",
        "\n",
        "$\\frac{\\partial z}{\\partial x} = 0 + 5y(1) = 5y$"
      ],
      "metadata": {
        "id": "oNyGrUCYyvPZ"
      }
    },
    {
      "cell_type": "markdown",
      "source": [
        "### 2. The surface area of a cylinder: $a = 2\\pi r^2 + 2 \\pi rh$\n",
        "\n",
        "* variables are $r$ and $h$\n",
        "\n",
        "$\\frac{\\partial a}{\\partial h} = 0 + 2 \\pi r (1) = 2 \\pi r$\n",
        "* No $h$ in first term, so the entire term is a constant, so its derivative is 0\n",
        "* second term follows the power rule for $1h^0 = 1$ and remember $2 \\pi r$ is a constant\n",
        "\n",
        "$\\frac{\\partial a}{\\partial r} = 2 \\pi(2r) + 2 \\pi h(1) = 4 \\pi r + 2 \\pi r(1) = 4 \\pi r + 2 \\pi h$\n",
        "* Differentiate the first term normally for $r$, $2\\pi$ is treated like a constant!\n",
        "* r is the variable that gets differentiated in the second term, so it's $r^1 = 1r^0 = 1$.\n",
        "\n",
        "### 3. The volume of a *square prism* with a *cube* cut out of its center is described by\n",
        "### $v = x^2y - z^3$\n",
        "\n",
        "$\\frac{\\partial v}{\\partial x} = 2xy - 0 = 2xy$\n",
        "\n",
        "$\\frac{\\partial v}{\\partial y} = x^2 \\cdot 1 - 0 = x^2$\n",
        "\n",
        "$\\frac{\\partial v}{\\partial z} 2x \\cdot 0 - 3z^2 = -3z^2$\n"
      ],
      "metadata": {
        "id": "tLkiLxJp1e_Y"
      }
    },
    {
      "cell_type": "markdown",
      "source": [
        "### Partial Derivative Notation\n",
        "\n",
        "$$\n",
        "z = f(x, y)\n",
        "$$\n",
        "\n",
        "$$\n",
        "\\frac{\\partial z}{\\partial x}\n",
        "$$\n",
        "\n",
        "OR\n",
        "\n",
        "$$\n",
        " \\frac{\\partial f}{\\partial x}\n",
        " $$\n",
        " \n",
        " OR\n",
        " \n",
        " $$\n",
        "  f_x\n",
        "  $$\n",
        "  OR\n",
        "  \n",
        "  $$\n",
        "   D_xf\n",
        "$$"
      ],
      "metadata": {
        "id": "aNiqGnZ1xyBh"
      }
    },
    {
      "cell_type": "markdown",
      "source": [
        "### The Chain Rule for Partial Derivatives\n",
        "\n",
        "Let's say $y = f(u)$ and $u = g(x)$\n",
        "\n",
        "Recall that the chain rule for full derivatives would be:\n",
        "\n",
        "$$\n",
        "\\frac{dy}{dx} = \\frac{dy}{du} \\frac{du}{dx}\n",
        "$$\n",
        "\n",
        "With univariate functions, the partial derivative is identical:\n",
        "\n",
        "$$\n",
        "\\frac{dy}{dx} = \\frac{\\partial y}{\\partial x} = \\frac{\\partial y}{\\partial u} \\frac{\\partial u}{\\partial x}\n",
        "$$\n",
        "\n",
        "With a multivariate function, the partial derivative is more interesting:\n",
        "\n",
        "$y = f(u)$ and $u = g(x, z)$\n",
        "\n",
        "So you could think of $u$ having inputs $x$ and $z$ and thus differentiate for each:\n",
        "\n",
        "$$\n",
        "\\frac{\\partial y}{\\partial x} = \\frac{\\partial y}{\\partial u} \\frac{\\partial u}{\\partial x} \\ \\ \\ \\ \\ \\ \\ \n",
        "\\frac{\\partial y}{\\partial z} = \\frac{\\partial y}{\\partial u} \\frac{\\partial u}{\\partial z}\n",
        "$$\n",
        "\n",
        "With multiple multivariate functions, it gets really interesting:\n",
        "\n",
        "$y = f(u, v)$\n",
        "\n",
        "$u = g(x, z)$ \n",
        "\n",
        "$v = h(x, z)$\n",
        "\n",
        "Again, imagine a single tree, so derivatives are:\n",
        "\n",
        "$$\n",
        "\\frac{\\partial y}{\\partial x} = \\frac{\\partial y}{\\partial u} \\frac{\\partial u}{\\partial x} + \n",
        "\\frac{\\partial y}{\\partial v} \\frac{\\partial v}{\\partial x}\n",
        "$$\n",
        "\n",
        "$$\n",
        "\\frac{\\partial y}{\\partial z} = \\frac{\\partial y}{\\partial u} \\frac{\\partial u}{\\partial z} + \n",
        "\\frac{\\partial y}{\\partial v} \\frac{\\partial v}{\\partial z}\n",
        "$$\n",
        "\n",
        "In other words, you can sum the partial derivative chain of each term.\n",
        "\n",
        "Generalizing completely:\n",
        "\n",
        "$y = f(u_1, u_2, \\dots, u_m)$\n",
        "\n",
        "$u_j = g(x_1, x_2, \\dots, x_n)$\n",
        "\n",
        "for $i = 1,2,\\dots,n$:\n",
        "\n",
        "$$\n",
        "\\frac{\\partial y}{\\partial x_i} = \n",
        "\\frac{\\partial y}{\\partial u_1}\n",
        "\\frac{\\partial u_1}{\\partial x_i} + \n",
        "\\frac{\\partial y}{\\partial u_2}\n",
        "\\frac{\\partial u_2}{\\partial x_i} + \\dots +\n",
        "\\frac{\\partial y}{\\partial u_m}\n",
        "\\frac{\\partial u_m}{\\partial x_i}\n",
        "$$"
      ],
      "metadata": {
        "id": "EJyv89PXyMcN"
      }
    },
    {
      "cell_type": "markdown",
      "source": [
        "### Multivariate Chain Rule Exercises\n",
        "\n",
        "Find all the partial derivatives of $y$, where:\n",
        "\n",
        "1. $y = f(u, v) \\ \\ \\ u = g(x) \\ \\ \\ v = h(z)$\n",
        "2. $y = f(u, v) \\ \\ \\ u = g(x) \\ \\ \\ v = h(x, z)$\n",
        "3. $y = f(u, v, w) \\ \\ \\ u = g(x) \\ \\ \\ v = h(x) \\ \\ \\ w = j(x)$\n"
      ],
      "metadata": {
        "id": "IQg2vfRGzHCO"
      }
    },
    {
      "cell_type": "markdown",
      "source": [
        "### 1. $y = f(u, v) \\ \\ \\ u = g(x) \\ \\ \\ v = h(z)$\n",
        "\n",
        "$$\n",
        "\\frac{\\partial y}{\\partial x} = \\frac{\\partial y}{\\partial u} \\frac{\\partial u}{\\partial x}\n",
        "$$\n",
        "\n",
        "$$\n",
        "\\frac{\\partial y}{\\partial z} = \\frac{\\partial y}{\\partial v} \\frac{\\partial v}{\\partial z} \n",
        "$$\n"
      ],
      "metadata": {
        "id": "5E-1lp-Vs768"
      }
    },
    {
      "cell_type": "markdown",
      "source": [
        "### 2. $y = f(u, v) \\ \\ \\ u = g(x) \\ \\ \\ v = h(x, z)$\n",
        "\n",
        "Note that $x$ appears in both $u$ and $v$, but $z$ only appears in one. So the partial derivative of $x$ uses the sum of both derivatives:\n",
        "\n",
        "$$\n",
        "\\frac{\\partial y}{\\partial x} = \\frac{\\partial y}{\\partial u} \\frac{\\partial u}{\\partial x} +\n",
        "\\frac{\\partial y}{\\partial v} \\frac{\\partial v}{\\partial x} \n",
        "$$\n",
        "\n",
        "$$\n",
        "\\frac{\\partial y}{\\partial z} = \\frac{\\partial y}{\\partial v} \\frac{\\partial v}{\\partial z}\n",
        "$$\n"
      ],
      "metadata": {
        "id": "lwtKwMg2vHT8"
      }
    },
    {
      "cell_type": "markdown",
      "source": [
        "### 3. $y = f(u, v, w) \\ \\ \\ u = g(x) \\ \\ \\ v = h(x) \\ \\ \\ w = j(x)$\n",
        "\n",
        "$x$ appears in all three functions, so differentiate each and sum:\n",
        "\n",
        "$$\n",
        "\\frac{\\partial y}{\\partial x} = \\frac{\\partial y}{\\partial u} \\frac{\\partial u}{\\partial x} +\n",
        "\\frac{\\partial y}{\\partial v} \\frac{\\partial v}{\\partial x}  +\n",
        "\\frac{\\partial y}{\\partial w} \\frac{\\partial w}{\\partial x} \n",
        "$$\n",
        "\n",
        "But note! This is also the *full derivative* $\\frac{dy}{dx}$ because $y$ depends only on $x$.\n",
        "\n"
      ],
      "metadata": {
        "id": "6-J8xqK50Qev"
      }
    },
    {
      "cell_type": "markdown",
      "source": [
        "## Point by Point Regression\n",
        "\n",
        "Or, how I learned how to implement automatic differentiaton from first principles.\n",
        "\n",
        "(a.k.a. Linear regression FTW!)"
      ],
      "metadata": {
        "id": "ESp72vY10tsN"
      }
    },
    {
      "cell_type": "markdown",
      "source": [
        "## Gradients of Cost w.r.t. Model Parameters\n",
        "\n",
        "Here we calculate the gradient of quadratic cost with respect to a straight-line regression model's parameters. We keep the partial derivatives as simple as possible by limiting the model to handling a single data point."
      ],
      "metadata": {
        "id": "nabiMlst2oRK"
      }
    },
    {
      "cell_type": "code",
      "source": [
        "import torch"
      ],
      "metadata": {
        "id": "2Gtsq9XB2tRu"
      },
      "execution_count": null,
      "outputs": []
    },
    {
      "cell_type": "code",
      "source": [
        "# Same data as regression in pytorch and the moore-penrose pseudoinverse\n",
        "# (supposedly mls of an Alzheimer's drug)\n",
        "xs = torch.tensor([0., 1., 2., 3., 4., 5., 6., 7.])"
      ],
      "metadata": {
        "id": "dALa7AUF2y_O"
      },
      "execution_count": null,
      "outputs": []
    },
    {
      "cell_type": "code",
      "source": [
        "# Fictional \"forgetfulness\" score of patients\n",
        "ys = torch.tensor([1.86, 1.31, .62, .33, .09, -.67, -1.23, -1.37])"
      ],
      "metadata": {
        "id": "kwEex4_a3Mhb"
      },
      "execution_count": null,
      "outputs": []
    },
    {
      "cell_type": "markdown",
      "source": [
        "The slope of a line is still $y = mx + b$:\n"
      ],
      "metadata": {
        "id": "KuElgzcr3aW0"
      }
    },
    {
      "cell_type": "code",
      "source": [
        "def regression(my_x, my_m, my_b):\n",
        "  return my_m*my_x + b"
      ],
      "metadata": {
        "id": "-JDP6JSw3fGQ"
      },
      "execution_count": null,
      "outputs": []
    },
    {
      "cell_type": "markdown",
      "source": [
        "Initialize $m$ and $b$ with the same \"random\" near-zero values as in our regression notebook:"
      ],
      "metadata": {
        "id": "5M3F5TPL4VoB"
      }
    },
    {
      "cell_type": "code",
      "source": [
        "m = torch.tensor([0.9]).requires_grad_()\n",
        "b = torch.tensor([0.1]).requires_grad_()"
      ],
      "metadata": {
        "id": "nhx5Tq9r4D2X"
      },
      "execution_count": null,
      "outputs": []
    },
    {
      "cell_type": "markdown",
      "source": [
        "To keep the partial derivatives as simple as possible, let's move forward with a single instance $i$ from the eight possible data points:"
      ],
      "metadata": {
        "id": "5LTi8-nZ4dyJ"
      }
    },
    {
      "cell_type": "code",
      "source": [
        "i = 7\n",
        "x = xs[i]\n",
        "y = ys[i]"
      ],
      "metadata": {
        "id": "AoDxy1ya5CU-"
      },
      "execution_count": null,
      "outputs": []
    },
    {
      "cell_type": "code",
      "source": [
        "x"
      ],
      "metadata": {
        "colab": {
          "base_uri": "https://localhost:8080/"
        },
        "id": "I-sGY00E5E3j",
        "outputId": "b3b55c80-bd66-4603-bde1-9cd2f2c93a48"
      },
      "execution_count": null,
      "outputs": [
        {
          "output_type": "execute_result",
          "data": {
            "text/plain": [
              "tensor(7.)"
            ]
          },
          "metadata": {},
          "execution_count": 82
        }
      ]
    },
    {
      "cell_type": "code",
      "source": [
        "y"
      ],
      "metadata": {
        "colab": {
          "base_uri": "https://localhost:8080/"
        },
        "id": "dmMn3r8u5JRn",
        "outputId": "126f924b-415c-4d81-abe4-f368839c0735"
      },
      "execution_count": null,
      "outputs": [
        {
          "output_type": "execute_result",
          "data": {
            "text/plain": [
              "tensor(-1.3700)"
            ]
          },
          "metadata": {},
          "execution_count": 83
        }
      ]
    },
    {
      "cell_type": "markdown",
      "source": [
        "**Step 1**: Forward pass\n",
        "\n",
        "We can flow the scalar tensor $x$ through our regression model to produce $\\hat{y}$, an estimate of $y$. Prior to any model training, this is an arbitrary estimate:"
      ],
      "metadata": {
        "id": "MWhmLn9l5Joo"
      }
    },
    {
      "cell_type": "code",
      "source": [
        "yhat = regression(x, m, b)\n",
        "yhat"
      ],
      "metadata": {
        "colab": {
          "base_uri": "https://localhost:8080/"
        },
        "id": "b5zDD2O85iPs",
        "outputId": "c7a4c38a-1fc9-49fe-9ba6-75a871048713"
      },
      "execution_count": null,
      "outputs": [
        {
          "output_type": "execute_result",
          "data": {
            "text/plain": [
              "tensor([6.4000], grad_fn=<AddBackward0>)"
            ]
          },
          "metadata": {},
          "execution_count": 84
        }
      ]
    },
    {
      "cell_type": "markdown",
      "source": [
        "**Step 2**: Compare $\\hat{y}$ with true $y$ to calculate cost **$C$**.\n",
        "\n",
        "In the previous regressiion notebook, we used mean-squared error, which averages quadratic cost over multiple data points. With a single data point, here we can use quadratic cost alone. It is defined by:\n",
        "\n",
        "$$\n",
        "C = (\\hat{y} - y)^2\n",
        "$$"
      ],
      "metadata": {
        "id": "bqJ2i18t5kso"
      }
    },
    {
      "cell_type": "code",
      "source": [
        "def squared_error(my_yhat, my_y):\n",
        "  return (my_yhat - my_y)**2"
      ],
      "metadata": {
        "id": "5_HXjoiB58qr"
      },
      "execution_count": null,
      "outputs": []
    },
    {
      "cell_type": "code",
      "source": [
        "C = squared_error(yhat, y)\n",
        "C"
      ],
      "metadata": {
        "colab": {
          "base_uri": "https://localhost:8080/"
        },
        "id": "jt9yRMUR6Bjs",
        "outputId": "2bbb520a-2f76-4062-e3b9-928e50f03fc8"
      },
      "execution_count": null,
      "outputs": [
        {
          "output_type": "execute_result",
          "data": {
            "text/plain": [
              "tensor([60.3729], grad_fn=<PowBackward0>)"
            ]
          },
          "metadata": {},
          "execution_count": 86
        }
      ]
    },
    {
      "cell_type": "markdown",
      "source": [
        "**Step 3**: Use autodiff to calculate gradient of $C$ w.r.t. parameters"
      ],
      "metadata": {
        "id": "XiaC9z4I6s-L"
      }
    },
    {
      "cell_type": "code",
      "source": [
        "C.backward()"
      ],
      "metadata": {
        "id": "ZUucXeZi67LJ"
      },
      "execution_count": null,
      "outputs": []
    },
    {
      "cell_type": "markdown",
      "source": [
        "The partial derivative of $C$ with respect to $m \\left( \\frac{\\partial C}{\\partial m} \\right)$ is:"
      ],
      "metadata": {
        "id": "VD7l8oW97E4w"
      }
    },
    {
      "cell_type": "code",
      "source": [
        "m.grad"
      ],
      "metadata": {
        "colab": {
          "base_uri": "https://localhost:8080/"
        },
        "id": "HrALjUor6_Zr",
        "outputId": "b66bd1e5-7f15-4543-c5c4-88ce294657ff"
      },
      "execution_count": null,
      "outputs": [
        {
          "output_type": "execute_result",
          "data": {
            "text/plain": [
              "tensor([108.7800])"
            ]
          },
          "metadata": {},
          "execution_count": 88
        }
      ]
    },
    {
      "cell_type": "markdown",
      "source": [
        "and the partial derivative of $C$ with respect to $m \\left( \\frac{\\partial C}{\\partial b} \\right)$ is:"
      ],
      "metadata": {
        "id": "CBMmwKJh7ADv"
      }
    },
    {
      "cell_type": "code",
      "source": [
        "b.grad"
      ],
      "metadata": {
        "colab": {
          "base_uri": "https://localhost:8080/"
        },
        "id": "G4qas3ns7fuy",
        "outputId": "8a30f542-ec64-458c-a63b-404012c7025e"
      },
      "execution_count": null,
      "outputs": [
        {
          "output_type": "execute_result",
          "data": {
            "text/plain": [
              "tensor([15.5400])"
            ]
          },
          "metadata": {},
          "execution_count": 89
        }
      ]
    },
    {
      "cell_type": "markdown",
      "source": [
        "### Deriving the partial derivatives of quadratic cost by hand\n",
        "\n",
        "$\n",
        "C = (\\hat{y} - y)^2\n",
        "$\n",
        "\n",
        "is actually two nested functions:\n",
        "\n",
        "$C = u^2$\n",
        "\n",
        "$u = \\hat{y} - y$\n",
        "\n",
        "starting with the inner function:\n",
        "\n",
        "$\n",
        "\\frac{\\partial u}{\\partial \\hat{y}} = 1({\\hat{y}}\\ \\ ^0) - 0 = 1 - 0 = 1\n",
        "$\n",
        "\n",
        "Note that we don't really care about $y$ as it's just a data point. What matters is cost with respect to the input parameters $m$ and $b$ which is what produce the value $\\hat{y}$.\n",
        "\n",
        "Then the outer:\n",
        "\n",
        "$\n",
        "\\frac{dC}{du} = \\frac{\\partial C}{\\partial u} = 2u = 2(\\hat{y} - y)\n",
        "$\n",
        "\n",
        "Then chain together:\n",
        "\n",
        "$\n",
        "\\frac{\\partial C}{\\partial \\hat{y}} = \\frac{\\partial C}{\\partial u} \\frac{\\partial u}{\\partial \\hat{y}} =\n",
        "(2(\\hat{y} - y))(1) = 2(\\hat{y} -y)\n",
        "$"
      ],
      "metadata": {
        "id": "He0K5mgX7gtX"
      }
    },
    {
      "cell_type": "markdown",
      "source": [
        "### Predicted $y$ w.r.t. Model Parameters\n",
        "\n",
        "$\\hat{y} = mx + b$\n",
        "\n",
        "$\\frac{\\partial \\hat{y}}{\\partial b} = 1(0x^0) + 1b^0 = 0 + 1 = 1$\n",
        "\n",
        "$\\frac{\\partial \\hat{y}}{\\partial m} = 1(x) + 0 = x$ (power rule on $m$ is 1)"
      ],
      "metadata": {
        "id": "_4HqkiExCFju"
      }
    },
    {
      "cell_type": "markdown",
      "source": [
        "Putting all these partial derivatives together with the chain rule:\n",
        "\n",
        "$\n",
        "\\frac{\\partial C}{\\partial \\hat{y}} = 2(\\hat{y} -y)\n",
        "\\ \\ \\ \\\n",
        "\\frac{\\partial \\hat{y}}{\\partial m} = x\n",
        "\\ \\ \\ \\\n",
        "\\frac{\\partial \\hat{y}}{\\partial b} = 1\n",
        "$\n",
        "\n",
        "with respect to $m$:\n",
        "\n",
        "$\n",
        "\\frac{\\partial C}{\\partial m} = \n",
        "\\frac{\\partial C}{\\partial \\hat{y}}\n",
        "\\frac{\\partial \\hat{y}}{\\partial m} =\n",
        "(2(\\hat{y} -y))x = 2x(\\hat{y} - y)\n",
        "$\n",
        "\n",
        "with respect to $b$:\n",
        "\n",
        "$\n",
        "\\frac{\\partial C}{\\partial b} = \n",
        "\\frac{\\partial C}{\\partial \\hat{y}}\n",
        "\\frac{\\partial \\hat{y}}{\\partial b} = (2\\hat{y} -y)1 = 2(\\hat{y} -y)\n",
        "$"
      ],
      "metadata": {
        "id": "F-I4QYDbF1Dw"
      }
    },
    {
      "cell_type": "code",
      "source": [
        "2 * x * (yhat.item() - y) # partial derivative of cost with respect to m"
      ],
      "metadata": {
        "colab": {
          "base_uri": "https://localhost:8080/"
        },
        "id": "LNzjlA89HRRA",
        "outputId": "12a8ac4b-25ee-4f4d-9b90-2cff7e53b2b8"
      },
      "execution_count": null,
      "outputs": [
        {
          "output_type": "execute_result",
          "data": {
            "text/plain": [
              "tensor(108.7800)"
            ]
          },
          "metadata": {},
          "execution_count": 90
        }
      ]
    },
    {
      "cell_type": "code",
      "source": [
        "2 * (yhat.item() - y) # partial derivative of cost with respect to b"
      ],
      "metadata": {
        "colab": {
          "base_uri": "https://localhost:8080/"
        },
        "id": "9plCapOCCAcr",
        "outputId": "fb1b2786-ddd3-4120-8e37-3f3136113136"
      },
      "execution_count": null,
      "outputs": [
        {
          "output_type": "execute_result",
          "data": {
            "text/plain": [
              "tensor(15.5400)"
            ]
          },
          "metadata": {},
          "execution_count": 91
        }
      ]
    },
    {
      "cell_type": "markdown",
      "source": [
        "## The Gradient of Cost, $\\nabla C$\n",
        "\n",
        "The gradient of cost, which is symbolized $\\nabla C$ (pronounced \"nabla C\"), is a vector of all the partial derivatives of $C$ with respect to each of the individual model parameters:\n",
        "\n",
        "$\n",
        "\\nabla C = \\nabla_pC = \\left[\n",
        "  \\frac{\\partial C}{\\partial p_1},\n",
        "  \\frac{\\partial C}{\\partial p_2},\n",
        "  \\dots,\n",
        "  \\frac{\\partial C}{\\partial p_n},\n",
        "\\right]^T\n",
        "$\n",
        "\n",
        "Note that it's transposed to be a column vector.\n",
        "\n",
        "In this case, there are only two parameters, $b$ and $m$:\n",
        "\n",
        "$\n",
        "\\nabla C = \\nabla_pC = \\left[\n",
        "  \\frac{\\partial C}{\\partial b},\n",
        "  \\frac{\\partial C}{\\partial m},\n",
        "\\right]^T\n",
        "$"
      ],
      "metadata": {
        "id": "fBNhfzYdHWGb"
      }
    },
    {
      "cell_type": "code",
      "source": [
        "gradient = torch.tensor([[b.grad.item(), m.grad.item()]]).T\n",
        "gradient"
      ],
      "metadata": {
        "colab": {
          "base_uri": "https://localhost:8080/"
        },
        "id": "QDXQC5wZJ9JR",
        "outputId": "91c2c574-bae3-409c-dd7e-afc927c01861"
      },
      "execution_count": null,
      "outputs": [
        {
          "output_type": "execute_result",
          "data": {
            "text/plain": [
              "tensor([[ 15.5400],\n",
              "        [108.7800]])"
            ]
          },
          "metadata": {},
          "execution_count": 92
        }
      ]
    },
    {
      "cell_type": "markdown",
      "source": [
        "## Gradient Descent\n",
        "\n",
        "* Calculate the gradient of mean squared error on a batch of data\n",
        "* Visualize gradient descent in action"
      ],
      "metadata": {
        "id": "XFC1Vg4-KC7s"
      }
    },
    {
      "cell_type": "code",
      "source": [
        "import torch\n",
        "import matplotlib.pyplot as plt"
      ],
      "metadata": {
        "id": "DNhkaRgPN04Q"
      },
      "execution_count": null,
      "outputs": []
    },
    {
      "cell_type": "code",
      "source": [
        "# regression function, xs, ys, m and b same as above, repeated here for convenience:\n",
        "# Same data as regression in pytorch and the moore-penrose pseudoinverse\n",
        "\n",
        "# (supposedly mls of an Alzheimer's drug)\n",
        "xs = torch.tensor([0., 1., 2., 3., 4., 5., 6., 7.])\n",
        "\n",
        "# Fictional \"forgetfulness\" score of patients\n",
        "ys = torch.tensor([1.86, 1.31, .62, .33, .09, -.67, -1.23, -1.37])\n",
        "\n",
        "m = torch.tensor([0.9]).requires_grad_()\n",
        "b = torch.tensor([0.1]).requires_grad_()\n",
        "\n",
        "\n",
        "def regression(my_x, my_m, my_b):\n",
        "  return my_m*my_x + b"
      ],
      "metadata": {
        "id": "Lt19ZjpfN5ED"
      },
      "execution_count": null,
      "outputs": []
    },
    {
      "cell_type": "code",
      "source": [
        "m = torch.tensor([0.9]).requires_grad_()\n",
        "b = torch.tensor([0.1]).requires_grad_()"
      ],
      "metadata": {
        "id": "B85zO1A5ObMK"
      },
      "execution_count": null,
      "outputs": []
    },
    {
      "cell_type": "markdown",
      "source": [
        "**Step 1**: Forward Pass"
      ],
      "metadata": {
        "id": "TCsQPHwKALYM"
      }
    },
    {
      "cell_type": "code",
      "source": [
        "# Now we're working with a whole batch of data as we would be in a real model,\n",
        "# so each element of yhats is our initial result for a single data point from\n",
        "# xs regressed against our random m and b parameters\n",
        "yhats = regression(xs, m, b)\n",
        "yhats"
      ],
      "metadata": {
        "colab": {
          "base_uri": "https://localhost:8080/"
        },
        "id": "iy_0tkKuASBg",
        "outputId": "2af2e163-8b1c-4c39-f220-d355b327fae7"
      },
      "execution_count": null,
      "outputs": [
        {
          "output_type": "execute_result",
          "data": {
            "text/plain": [
              "tensor([0.1000, 1.0000, 1.9000, 2.8000, 3.7000, 4.6000, 5.5000, 6.4000],\n",
              "       grad_fn=<AddBackward0>)"
            ]
          },
          "metadata": {},
          "execution_count": 96
        }
      ]
    },
    {
      "cell_type": "markdown",
      "source": [
        "**Step 2**: Compare $\\hat{y}$ with true $y$ to calculate cost $C$\n",
        "\n",
        "We're using mean squared error, which averages quadratic cost across multiple data points:\n",
        "\n",
        "$$\n",
        "C = \\frac{1}{n} \\sum_{i=1}^n (\\hat{y}_i - y_i)^2\n",
        "$$"
      ],
      "metadata": {
        "id": "FHmSBgxpAZNt"
      }
    },
    {
      "cell_type": "code",
      "source": [
        "def mse(my_yhat, my_y):\n",
        "  sigma = torch.sum((my_yhat - my_y)**2)\n",
        "  return sigma / len(my_y)"
      ],
      "metadata": {
        "id": "azKTca-eAgag"
      },
      "execution_count": null,
      "outputs": []
    },
    {
      "cell_type": "code",
      "source": [
        "C = mse(yhats, ys)\n",
        "C"
      ],
      "metadata": {
        "colab": {
          "base_uri": "https://localhost:8080/"
        },
        "id": "veaoHJKcBqlu",
        "outputId": "55f9e63b-6b70-4422-ac38-ac9843b62f6d"
      },
      "execution_count": null,
      "outputs": [
        {
          "output_type": "execute_result",
          "data": {
            "text/plain": [
              "tensor(19.6755, grad_fn=<DivBackward0>)"
            ]
          },
          "metadata": {},
          "execution_count": 98
        }
      ]
    },
    {
      "cell_type": "markdown",
      "source": [
        "**Step 3**: Use autodiff to calculate gradient of $C$ w.r.t. parameters"
      ],
      "metadata": {
        "id": "BM120xF7BtI3"
      }
    },
    {
      "cell_type": "code",
      "source": [
        "C.backward()"
      ],
      "metadata": {
        "id": "ao4XIBlBCBbt"
      },
      "execution_count": null,
      "outputs": []
    },
    {
      "cell_type": "code",
      "source": [
        "m.grad"
      ],
      "metadata": {
        "colab": {
          "base_uri": "https://localhost:8080/"
        },
        "id": "dGPVXB2BCImG",
        "outputId": "fc1977ea-472d-4fc3-9d99-3d1efcc2e05b"
      },
      "execution_count": null,
      "outputs": [
        {
          "output_type": "execute_result",
          "data": {
            "text/plain": [
              "tensor([36.3050])"
            ]
          },
          "metadata": {},
          "execution_count": 100
        }
      ]
    },
    {
      "cell_type": "code",
      "source": [
        "b.grad"
      ],
      "metadata": {
        "colab": {
          "base_uri": "https://localhost:8080/"
        },
        "id": "zlNBMGT4CJMu",
        "outputId": "17d1f79a-b149-4863-8109-5c526e507388"
      },
      "execution_count": null,
      "outputs": [
        {
          "output_type": "execute_result",
          "data": {
            "text/plain": [
              "tensor([6.2650])"
            ]
          },
          "metadata": {},
          "execution_count": 101
        }
      ]
    },
    {
      "cell_type": "markdown",
      "source": [
        "### Deriving Cost by hand to find $\\frac{\\partial C}{\\partial m} \\ \\ \\frac{\\partial C}{\\partial b}$\n",
        "\n",
        "Mean Squared Error:\n",
        "\n",
        "$$\n",
        "C = \\frac{1}{n} \\sum_{i=1}^n (\\hat{y}_i - y_i)^2\n",
        "$$\n",
        "\n",
        "So you can decompose it to these two chain-rule obeying equations:\n",
        "\n",
        "$$\n",
        "C = \\frac{1}{n} \\sum_{i=1}^n{u^2}\n",
        "$$\n",
        "\n",
        "$$\n",
        "u = \\hat{y}_i - y_i\n",
        "$$\n",
        "\n",
        "Solving for the model parameters $m$ and $b$, which are embedded in the values calculated into $\\hat{y}$.\n",
        "\n",
        "$\\frac{\\partial u}{\\partial \\hat{y}_i} = 1 - 0 = 1$\n",
        "\n",
        "$\\frac{\\partial C}{\\partial u} = \\frac{1}{n} \\sum 2u$\n",
        "\n",
        "= $\\frac{2}{n} \\sum u$\n",
        "\n",
        "= $\\frac{2}{n} \\sum \\left(\\hat{y}_i - y_i\\right)$\n",
        "\n",
        "Now, calculate the partial derivatives for the parameters (derivation earlier in these notebooks):\n",
        "\n",
        "$\\frac{\\partial \\hat{y}_i}{\\partial m} = X_i$\n",
        "\n",
        "$\\frac{\\partial \\hat{y}_i}{\\partial b} = 1$\n",
        "\n",
        "Start with $b$ because the math is a little simpler:\n",
        "\n",
        "$$\n",
        "\\frac{\\partial C}{\\partial b} = \n",
        "\\frac{\\partial C}{\\partial u} \n",
        "\\frac{\\partial u}{\\partial \\hat{y}_i}\n",
        "\\frac{\\partial \\hat{y}_i}{\\partial b}\n",
        "$$\n",
        "\n",
        "= $\n",
        "\\frac{2}{n} \\sum \\left(\\hat{y}_i - y_i \\right) \\cdot 1 \\cdot 1 =\n",
        "\\frac{2}{n} \\sum \\left(\\hat{y}_i - y_i \\right)\n",
        "$\n",
        "\n",
        "Note the chain rule working on $\\partial u$ and $\\partial \\hat{y}_i$\n",
        "\n",
        "Trickier for $m$:\n",
        "\n",
        "$$\n",
        "\\frac{\\partial C}{\\partial m} = \n",
        "\\frac{\\partial C}{\\partial u} \n",
        "\\frac{\\partial u}{\\partial \\hat{y}_i}\n",
        "\\frac{\\partial \\hat{y}_i}{\\partial m}\n",
        "$$\n",
        "\n",
        "= $\n",
        "\\frac{2}{n} \\sum (\\hat{y}_i - y_i)\n",
        "\\cdot 1\n",
        "\\cdot X_i\n",
        "$\n",
        "= $\n",
        "\\frac{2}{n} \\sum (\\hat{y}_i - y_i)\n",
        "\\cdot X_i\n",
        "$\n",
        "\n"
      ],
      "metadata": {
        "id": "JXdT0yj0CJvB"
      }
    },
    {
      "cell_type": "code",
      "source": [
        "# dC/dm\n",
        "2 * 1/len(ys)*torch.sum((yhats - ys)*xs)"
      ],
      "metadata": {
        "colab": {
          "base_uri": "https://localhost:8080/"
        },
        "id": "tj91TZKzL9f8",
        "outputId": "d2587d04-7ece-4af2-d565-0d1ff47d2961"
      },
      "execution_count": null,
      "outputs": [
        {
          "output_type": "execute_result",
          "data": {
            "text/plain": [
              "tensor(36.3050, grad_fn=<MulBackward0>)"
            ]
          },
          "metadata": {},
          "execution_count": 102
        }
      ]
    },
    {
      "cell_type": "code",
      "source": [
        "# dC/db\n",
        "2*1/len(ys)*torch.sum(yhats - ys)"
      ],
      "metadata": {
        "colab": {
          "base_uri": "https://localhost:8080/"
        },
        "id": "gmXLo4cHMPWI",
        "outputId": "8e1365a2-0636-4239-e109-fcee3c5ea046"
      },
      "execution_count": null,
      "outputs": [
        {
          "output_type": "execute_result",
          "data": {
            "text/plain": [
              "tensor(6.2650, grad_fn=<MulBackward0>)"
            ]
          },
          "metadata": {},
          "execution_count": 103
        }
      ]
    },
    {
      "cell_type": "markdown",
      "source": [
        "We don't need to explicitly create a $\\nabla C$ object (Greek inverted delta is called $nabla$ for \"harp\" but w.r.t gradient is *del* as in \"del C\") for the remainder of the code in this notebook to run, but let's make it anyway and we'll use it later:"
      ],
      "metadata": {
        "id": "kNjzTCqsMZBs"
      }
    },
    {
      "cell_type": "code",
      "source": [
        "gradient = torch.tensor([[b.grad.item(), m.grad.item()]]).T # alphabetically order and put into column order with T\n",
        "gradient"
      ],
      "metadata": {
        "colab": {
          "base_uri": "https://localhost:8080/"
        },
        "id": "Jc5J_9KdM78_",
        "outputId": "d12a3bdc-759d-4533-ff1e-c81158f2ad00"
      },
      "execution_count": null,
      "outputs": [
        {
          "output_type": "execute_result",
          "data": {
            "text/plain": [
              "tensor([[ 6.2650],\n",
              "        [36.3050]])"
            ]
          },
          "metadata": {},
          "execution_count": 104
        }
      ]
    },
    {
      "cell_type": "markdown",
      "source": [
        "Let's visualize the most pertinent metrics in a single plot:"
      ],
      "metadata": {
        "id": "TEU9cEriNFCG"
      }
    },
    {
      "cell_type": "code",
      "source": [
        "def labeled_regression_plot(my_x, my_y, my_m, my_b, my_C, include_grad=True):\n",
        "  title = f'Cost = {my_C.item():.3g}'\n",
        "\n",
        "  if include_grad:\n",
        "    xlabel = f'm = {my_m.item():.3}, m grad = {my_m.grad.item():.3}'\n",
        "    ylabel = f'b = {my_b.item():.3}, m grad = {my_b.grad.item():.3}'\n",
        "  else:\n",
        "    xlabel = f'm = {my_m.item():.3}'\n",
        "    ylabel = f'b = {my_b.item():.3}'\n",
        "\n",
        "  fig, ax = plt.subplots()\n",
        "\n",
        "  plt.title(title)\n",
        "  plt.ylabel(ylabel)\n",
        "  plt.xlabel(xlabel)\n",
        "\n",
        "  ax.scatter(my_x, my_y)\n",
        "\n",
        "  x_min, x_max = ax.get_xlim()\n",
        "  y_min = regression(x_min, my_m, my_b).detach()\n",
        "  y_max = regression(x_max, my_m, my_b).detach()\n",
        "\n",
        "  ax.set_xlim([x_min, x_max])\n",
        "  _ = ax.plot([x_min, x_max], [y_min, y_max], c='C01')"
      ],
      "metadata": {
        "id": "3vlvQKBWNMRk"
      },
      "execution_count": null,
      "outputs": []
    },
    {
      "cell_type": "code",
      "source": [
        "labeled_regression_plot(xs, ys, m, b, C)"
      ],
      "metadata": {
        "colab": {
          "base_uri": "https://localhost:8080/",
          "height": 295
        },
        "id": "p3uUSky_Ofsq",
        "outputId": "6841d6fe-77e0-498a-b27f-13b6a7a02b75"
      },
      "execution_count": null,
      "outputs": [
        {
          "output_type": "display_data",
          "data": {
            "text/plain": [
              "<Figure size 432x288 with 1 Axes>"
            ],
            "image/png": "[encoded data removed]"
          },
          "metadata": {
            "needs_background": "light"
          }
        }
      ]
    },
    {
      "cell_type": "markdown",
      "source": [
        "**Step 4**: Gradient descent\n",
        "\n",
        "$\\frac{\\partial C}{\\partial m} = 36.3$ indicates that an increase in $m$ corresponds to a large increase in $C$.\n",
        "\n",
        "Meanwhile, $\\frac{\\partial C}{\\partial b} = 6.26$ indicates that an increase in $b$ also corresponds to an increase in $C$, though much less so than $m$.\n",
        "\n",
        "In the first round of training, the lowest hanging fruit with respect to reducing cost $C$ is therefor to decrease the slope of the regression line, $m$. There will also be a relatively small decrease in the $y$-intercept of the line, $b$."
      ],
      "metadata": {
        "id": "miEGGZc_O7tD"
      }
    },
    {
      "cell_type": "code",
      "source": [
        "optimizer = torch.optim.SGD([m, b], lr=0.01)"
      ],
      "metadata": {
        "id": "gtRW5Bnzk6f8"
      },
      "execution_count": null,
      "outputs": []
    },
    {
      "cell_type": "code",
      "source": [
        "optimizer.step() # Performs the gradient descent"
      ],
      "metadata": {
        "id": "_K2uOJtBk-n-"
      },
      "execution_count": null,
      "outputs": []
    },
    {
      "cell_type": "code",
      "source": [
        "C = mse(regression(xs, m, b), ys) # Recompute the cost after the step"
      ],
      "metadata": {
        "id": "jPebBWWQlABI"
      },
      "execution_count": null,
      "outputs": []
    },
    {
      "cell_type": "code",
      "source": [
        "labeled_regression_plot(xs, ys, m, b, C, include_grad=False) # Gradient of C not yet recalculated"
      ],
      "metadata": {
        "colab": {
          "base_uri": "https://localhost:8080/",
          "height": 295
        },
        "id": "woQ12qEzlDyc",
        "outputId": "c7b18cae-52ea-489f-9636-ebe3afb3112f"
      },
      "execution_count": null,
      "outputs": [
        {
          "output_type": "display_data",
          "data": {
            "text/plain": [
              "<Figure size 432x288 with 1 Axes>"
            ],
            "image/png": "[encoded data removed]"
          },
          "metadata": {
            "needs_background": "light"
          }
        }
      ]
    },
    {
      "cell_type": "markdown",
      "source": [
        "### Rinse and Repeat\n",
        "\n",
        "Observe further rounds of training:"
      ],
      "metadata": {
        "id": "UwsENck0lUL8"
      }
    },
    {
      "cell_type": "code",
      "source": [
        "epochs = 1000\n",
        "\n",
        "for epoch in range(epochs):\n",
        "  optimizer.zero_grad() # reset so they don't accumulate\n",
        "\n",
        "  yhats = regression(xs, m, b) # Step 1\n",
        "  C = mse(yhats, ys) # Step 2\n",
        "\n",
        "  C.backward() # Step 3\n",
        "\n",
        "  #labeled_regression_plot(xs, ys, m, b, C)\n",
        "\n",
        "  optimizer.step() # Step 4"
      ],
      "metadata": {
        "id": "CYetBCcalw2s"
      },
      "execution_count": null,
      "outputs": []
    },
    {
      "cell_type": "code",
      "source": [
        "labeled_regression_plot(xs, ys, m, b, C)"
      ],
      "metadata": {
        "colab": {
          "base_uri": "https://localhost:8080/",
          "height": 295
        },
        "id": "1ToaI0DUnp4T",
        "outputId": "75beb6a2-d483-47aa-ab84-0a3d884c1fb3"
      },
      "execution_count": null,
      "outputs": [
        {
          "output_type": "display_data",
          "data": {
            "text/plain": [
              "<Figure size 432x288 with 1 Axes>"
            ],
            "image/png": "[encoded data removed]"
          },
          "metadata": {
            "needs_background": "light"
          }
        }
      ]
    },
    {
      "cell_type": "markdown",
      "source": [
        "In later rounds of training, after the model's slope $m$ has become closer to the slope represented by the data, $\\frac{\\partial C}{\\partial b}$ becomes negative, indicating an inverse relationship between $b$ and $C$. Meanwhile, $\\frac{\\partial C}{\\partial m}$ remains positive.\n",
        "\n",
        "This combination directs gradient descent to simultaneously adjust the $y$-intercept $b$ upwards and the slope $m$ downwards in order to reduce cost $C$ and, ultimately, fit the regression line snugly to the data."
      ],
      "metadata": {
        "id": "-tv-CQMFmFqp"
      }
    },
    {
      "cell_type": "markdown",
      "source": [
        "## Backpropagation\n",
        "\n",
        "Chain rule of partial derivatives of *cost* w.r.t model parameters extends to deep neural networks, which may have 1000s of layers:\n",
        "\n",
        "Training data into batches, each batch ($X$), forward pass through layers (just regression here but any multiplication/activation function), then you get $\\hat{y$}$, compute the cost $C$.\n",
        "\n",
        "Once you have $C$, calculate the partial derivative of cost for each parameter and using the chain rule, re-calculate the cost backwards through the layers, finally using gradient descent to adjust the parameters."
      ],
      "metadata": {
        "id": "xvB-rGJzoHZL"
      }
    },
    {
      "cell_type": "markdown",
      "source": [
        "## Higher-order Partial Derivatives\n",
        "\n",
        "**Regular higher-order derivatives:**\n",
        "\n",
        "In the driving example the first derivative of distance/time is the speed, but the second derivative of speed/time is acceleration.\n",
        "\n",
        "**Higher-order partial derivatives:**\n",
        "\n",
        "In ML, used to accelerate through gradient descent (Optimization)\n",
        "\n",
        "Consider the following first-order partial derivatives...\n",
        "\n",
        "$z = x^2 + 5xy + 2y^2$\n",
        "\n",
        "$\n",
        "\\frac{\\partial z}{\\partial x} = 2x + 5y(1) + 0 =\n",
        "2x + 5y\n",
        "$\n",
        "\n",
        "$\n",
        "\\frac{\\partial z}{\\partial y} = \n",
        "0 + 5x + 4y = 5x + 4y\n",
        "$"
      ],
      "metadata": {
        "id": "wFABre-Fpt3a"
      }
    },
    {
      "cell_type": "markdown",
      "source": [
        "**Second-order partial derivatives**\n",
        "\n",
        "Starting with:\n",
        "\n",
        "$\n",
        "\\frac{\\partial z}{\\partial x} =\n",
        "2x + 5y\n",
        "\\ \\ \\ \\\n",
        "\\frac{\\partial z}{\\partial y} = \n",
        "5x + 4y\n",
        "$\n",
        "\n",
        "Unmixed:\n",
        "\n",
        "Differentiate w.r.t. the same variable again:\n",
        "\n",
        "$\n",
        "\\frac{\\partial^2 z}{\\partial x^2} =\n",
        "\\frac{\\partial}{\\partial x}(2x + 5y) =\n",
        "2(1) + 0 =\n",
        "2 + 0 = 2\n",
        "$\n",
        "\n",
        "$\n",
        "\\frac{\\partial^2 z}{\\partial y^2} =\n",
        "\\frac{\\partial}{\\partial y}(5x + 4y) =\n",
        "0 + 4(1) = 4\n",
        "$"
      ],
      "metadata": {
        "id": "I4coTh4JsC-M"
      }
    },
    {
      "cell_type": "markdown",
      "source": [
        "Mixed partial derivates:\n",
        "\n",
        "$\n",
        "\\frac{\\partial^2 z}{\\partial x \\partial y} =\n",
        "\\frac{\\partial}{\\partial x}\\left(\\frac{dz}{dy}\\right) =\n",
        "\\frac{\\partial}{\\partial x}(5x + 4y) =\n",
        "5(1) + 0 = 5\n",
        "$\n",
        "\n",
        "$\n",
        "\\frac{\\partial^2 z}{\\partial y \\partial x} =\n",
        "\\frac{\\partial}{\\partial y}\\left(\\frac{dz}{dx}\\right) =\n",
        "\\frac{\\partial}{\\partial y}(2x + 5y) =\n",
        "0 + 5(1) = 5\n",
        "$\n",
        "\n",
        "Notice how both mixed second-order derivatives come out to the same value?\n",
        "\n",
        "*Clairant's (or Schwatz's or Young's) Theorem*:\n",
        "\n",
        "Under certain (common) conditions:\n",
        "\n",
        "$$\n",
        "\\frac{\\partial^2 z}{\\partial x \\partial y} = \\frac{\\partial^2 z}{\\partial y \\partial x}\n",
        "$$\n",
        "\n",
        "But... what are those conditions?\n",
        "\n"
      ],
      "metadata": {
        "id": "TFbKdnQzsIbu"
      }
    },
    {
      "cell_type": "markdown",
      "source": [
        "### Higher-order Partial Derivative Notation\n",
        "\n",
        "Given the a function like $z = f(x, y)$\n",
        "\n",
        "Equivalent second-order (unmixed) partial derivative notations are:\n",
        "\n",
        "$\n",
        "\\frac{\\partial^2 z}{\\partial x^2}\n",
        "\\ \\ \\ \\\n",
        "\\frac{\\partial^2 f}{\\partial x^2}\n",
        "\\ \\ \\ \\\n",
        "f_{xx}\n",
        "\\ \\ \\ \\\n",
        "D_{xx}f\n",
        "$\n",
        "\n",
        "For the mixed second-order partial derivatives:\n",
        "\n",
        "$\n",
        "\\frac{\\partial^2 z}{\\partial y \\partial x}\n",
        "\\ \\ \\ \\\n",
        "\\frac{\\partial^2 f}{\\partial y \\partial x}\n",
        "\\ \\ \\ \\\n",
        "f_{xy}\n",
        "\\ \\ \\ \\\n",
        "D_{xy}f\n",
        "$\n",
        "\n",
        "The mixed notation means you differentiate left to right for the subscripts."
      ],
      "metadata": {
        "id": "VvsOEwIxwihr"
      }
    },
    {
      "cell_type": "markdown",
      "source": [
        "### Higher order partial derivative exercise:\n",
        "\n",
        "Find all the second-order partial derivatives of $z = x^3 + 2xy$\n",
        "\n",
        "First, find the first-order partial derivatives.\n"
      ],
      "metadata": {
        "id": "SFu8LWMfxRy2"
      }
    }
  ]
}
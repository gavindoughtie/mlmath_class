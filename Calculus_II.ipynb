{
  "nbformat": 4,
  "nbformat_minor": 0,
  "metadata": {
    "colab": {
      "provenance": [],
      "toc_visible": true,
      "mount_file_id": "1D2QCIMFH8-oo8TcEZjZgnOnSI1tXYYc8",
      "authorship_tag": "ABX9TyMFy412cxPiT8gyyrwNQQyF",
      "include_colab_link": true
    },
    "kernelspec": {
      "name": "python3",
      "display_name": "Python 3"
    },
    "language_info": {
      "name": "python"
    }
  },
  "cells": [
    {
      "cell_type": "markdown",
      "metadata": {
        "id": "view-in-github",
        "colab_type": "text"
      },
      "source": [
        "<a href=\"https://colab.research.google.com/github/gavindoughtie/mlmath_class/blob/main/Calculus_II.ipynb\" target=\"_parent\"><img src=\"https://colab.research.google.com/assets/colab-badge.svg\" alt=\"Open In Colab\"/></a>"
      ]
    },
    {
      "cell_type": "markdown",
      "source": [
        "# Segment 2: ML Gradients\n",
        "\n",
        "* Partial Derivatives of Multivariate Functions\n",
        "* The Partial-Derivative Chain Rule\n",
        "* Quadratic Cost\n",
        "* Gradients\n",
        "* Gradient Descent\n",
        "* Backpropagation\n",
        "* Higher-order Partial Derivatives"
      ],
      "metadata": {
        "id": "dTxVPITkgyFo"
      }
    },
    {
      "cell_type": "markdown",
      "source": [
        "## What Partial Derivatives Are"
      ],
      "metadata": {
        "id": "9-6u-qci6R-m"
      }
    },
    {
      "cell_type": "markdown",
      "source": [
        "### Multivariate Functions\n",
        "\n",
        "Even in a simple regression such as $y = mx + b$:\n",
        "\n",
        "  $y$ is a function of *multiple* variables\n",
        "  \n",
        "  -- in this case, $m$ and $b$.\n",
        "\n",
        "Therefore, we can't calculate the full derivative of $\\frac{dy}{dm}$ or $\\frac{dy}{db}$."
      ],
      "metadata": {
        "id": "YO04FYfO6hpY"
      }
    },
    {
      "cell_type": "markdown",
      "source": [
        "### Partial Derivatives\n",
        "\n",
        "Enable the calculation of derivatives of multivariate equations.\n",
        "\n",
        "Consider the equation $z = x^2 - y^2$\n",
        "\n",
        "Hands-on demo: [https://www.geogebra.org/3d?lang=en](https://www.geogebra.org/3d?lang=en)"
      ],
      "metadata": {
        "id": "0UVZMgYf63qQ"
      }
    },
    {
      "cell_type": "markdown",
      "source": [
        "The partial derivative of $z$ with respect to $x$ is obtained by considering $y$ to be a constant:\n",
        "\n",
        "<img src=\"https://drive.google.com/uc?id=1-60enV9kU7Gi8RuV9kpZ_HELGZDylOSc\">\n"
      ],
      "metadata": {
        "id": "a7o45ijj8ssL"
      }
    },
    {
      "cell_type": "markdown",
      "source": [
        "$z = x^2 - y^2$ Imagine $y$ is any constant, so the derivative becomes:\n",
        "\n",
        "$\\frac{\\partial z}{\\partial x} = 2x - 0 = 2x$ # NOTE: partial derivative symbol $\\partial$ instead of full derivative $d$. (pronounced \"del\" instead of \"dee\")\n",
        "\n",
        "In this example, the partial derivative slope of $z$ along the $x$ axis is *twice* the $x$ axis value."
      ],
      "metadata": {
        "id": "Anj89f41-0Gv"
      }
    },
    {
      "cell_type": "code",
      "source": [
        "from matplotlib import pyplot as plt\n",
        "import numpy as np\n",
        "import torch\n",
        "import math # for constant pi"
      ],
      "metadata": {
        "id": "7pc3IlW3AQ1o"
      },
      "execution_count": 1,
      "outputs": []
    },
    {
      "cell_type": "markdown",
      "source": [
        "## Partial Derivatives of Multivariate Functions"
      ],
      "metadata": {
        "id": "_5_FMHKLCGa1"
      }
    },
    {
      "cell_type": "markdown",
      "source": [
        "Define a function $f(x, y)$ for $z = x^2 - y^2$:"
      ],
      "metadata": {
        "id": "3BioKuJVAu9z"
      }
    },
    {
      "cell_type": "code",
      "source": [
        "def f(my_x, my_y):\n",
        "  return my_x**2 - my_y**2"
      ],
      "metadata": {
        "id": "3e4B-_WvA3zM"
      },
      "execution_count": 2,
      "outputs": []
    },
    {
      "cell_type": "markdown",
      "source": [
        "Plot $z$ with respect to $x$ by varying $x$:"
      ],
      "metadata": {
        "id": "tzVz6LW_A8QI"
      }
    },
    {
      "cell_type": "code",
      "source": [
        "xs = np.linspace(-3, 3, 1000)"
      ],
      "metadata": {
        "id": "PXlRIH5kBACz"
      },
      "execution_count": 3,
      "outputs": []
    },
    {
      "cell_type": "markdown",
      "source": [
        "...while holding $y$ constant (at $y = 0$)"
      ],
      "metadata": {
        "id": "f0z-hrnEBDbN"
      }
    },
    {
      "cell_type": "code",
      "source": [
        "zs_wrt_x = f(xs, 0)"
      ],
      "metadata": {
        "id": "IQ1co6ZKCT1U"
      },
      "execution_count": 4,
      "outputs": []
    },
    {
      "cell_type": "code",
      "source": [
        "fix, ax = plt.subplots()\n",
        "plt.axvline(x=0, color='lightgray')\n",
        "plt.axhline(y=0, color='lightgray')\n",
        "\n",
        "plt.xlabel('x')\n",
        "plt.ylabel('z', rotation=0)\n",
        "_ = ax.plot(xs, zs_wrt_x)"
      ],
      "metadata": {
        "colab": {
          "base_uri": "https://localhost:8080/",
          "height": 279
        },
        "id": "owiXMl9WCX07",
        "outputId": "5ccc6284-a473-46f4-8f74-90037ecc7e2d"
      },
      "execution_count": 5,
      "outputs": [
        {
          "output_type": "display_data",
          "data": {
            "text/plain": [
              "<Figure size 432x288 with 1 Axes>"
            ],
            "image/png": "[encoded data removed]"
          },
          "metadata": {
            "needs_background": "light"
          }
        }
      ]
    },
    {
      "cell_type": "markdown",
      "source": [
        "To determine the slope of $z$ w.r.t. $x$ at a given point along the curve we can use the partial derivative from the slides:\n",
        "\n",
        "$\\frac{\\partial z}{\\partial x} = 2x$"
      ],
      "metadata": {
        "id": "DzlPVW5yC1ly"
      }
    },
    {
      "cell_type": "code",
      "source": [
        "def delz_delx(my_x, my_y): # y isn't relevant for *this* partial derivative; it often would be\n",
        "  return 2*my_x"
      ],
      "metadata": {
        "id": "hXDJuHqgH9pz"
      },
      "execution_count": 6,
      "outputs": []
    },
    {
      "cell_type": "code",
      "source": [
        "x_samples = [-2, -1, 0, 1, 2]"
      ],
      "metadata": {
        "id": "_l9T4JVTIHPb"
      },
      "execution_count": 7,
      "outputs": []
    },
    {
      "cell_type": "code",
      "source": [
        "colors = ['red', 'orange', 'green', 'blue', 'purple']"
      ],
      "metadata": {
        "id": "Xg8E6HEjILQc"
      },
      "execution_count": 8,
      "outputs": []
    },
    {
      "cell_type": "code",
      "source": [
        "def point_and_tangent_wrt_x(my_xs, my_x, my_y, my_f, fprime, col): # fprime is the partial derivative function\n",
        "  my_z = my_f(my_x, my_y) # z = f(x, y)\n",
        "  plt.scatter(my_x, my_z, c=col, zorder=3)\n",
        "\n",
        "  tangent_m = fprime(my_x, my_y) # slope is partial derivative of f(x, y) w.r.t. x\n",
        "  tangent_b = my_z - tangent_m*my_x # line is z=mx+b, so b=z-mx\n",
        "  tangent_line = tangent_m*my_xs + tangent_b\n",
        "\n",
        "  plt.plot(my_xs, tangent_line, c=col,\n",
        "          linestyle='dashed', linewidth=0.7, zorder=3)"
      ],
      "metadata": {
        "id": "5-D3k_RIIQf5"
      },
      "execution_count": 9,
      "outputs": []
    },
    {
      "cell_type": "code",
      "source": [
        "fix, ax = plt.subplots()\n",
        "plt.axvline(x=0, color='lightgray')\n",
        "plt.axhline(y=0, color='lightgray')\n",
        "\n",
        "for i, x in enumerate(x_samples):\n",
        "  point_and_tangent_wrt_x(xs, x, 0, f, delz_delx, colors[i])\n",
        "\n",
        "plt.ylim(-1, 9)\n",
        "plt.xlabel('x')\n",
        "plt.ylabel('z', rotation=0)\n",
        "_ = ax.plot(xs, zs_wrt_x)"
      ],
      "metadata": {
        "colab": {
          "base_uri": "https://localhost:8080/",
          "height": 279
        },
        "id": "QONkrdX1I3p6",
        "outputId": "12aa399d-7876-4405-a460-cbfc2b7115ff"
      },
      "execution_count": 10,
      "outputs": [
        {
          "output_type": "display_data",
          "data": {
            "text/plain": [
              "<Figure size 432x288 with 1 Axes>"
            ],
            "image/png": "[encoded data removed]"
          },
          "metadata": {
            "needs_background": "light"
          }
        }
      ]
    },
    {
      "cell_type": "markdown",
      "source": [
        "Thereby visually demonstrating $\\frac{\\partial z}{\\partial x} = 2x$.\n",
        "\n",
        "That is, the slope of $z$ along the $x$ axis is *twice* the $x$ value."
      ],
      "metadata": {
        "id": "vfD6WCwoKJZq"
      }
    },
    {
      "cell_type": "markdown",
      "source": [
        "Reconsider $z = x^2 - y^2$ from the perspective of $z$ w.r.t. $y$\n",
        "\n",
        "The partial derivative of $z$ with respect to $y$ is obtained by considering $x$ to be a constant:\n",
        "\n",
        "<img src=\"https://drive.google.com/uc?id=1vKstg3iyrxJKbfeUhCpmMEcADOk5cqgu\">\n",
        "\n",
        "$z = x^2 - y^2$\n",
        "\n",
        "$\\frac{\\partial z}{\\partial y} = 0 -2y = -2y$\n",
        "\n",
        "The slope of $z$ along the $y$ axis is *twice* the $y$ axis value *and is inverted* (because of the negative sign)"
      ],
      "metadata": {
        "id": "NMRiYP6OLTDj"
      }
    },
    {
      "cell_type": "markdown",
      "source": [
        "Now let's plot $z$ with respect to $y$ by varying $y$"
      ],
      "metadata": {
        "id": "RAVnDSEtMbwj"
      }
    },
    {
      "cell_type": "code",
      "source": [
        "ys = np.linspace(-3, 3, 1000)"
      ],
      "metadata": {
        "id": "ot0cRdx2OhIm"
      },
      "execution_count": 11,
      "outputs": []
    },
    {
      "cell_type": "markdown",
      "source": [
        "... while holding $x$ constant ($x = 0$)"
      ],
      "metadata": {
        "id": "VEWMcbZcOjUd"
      }
    },
    {
      "cell_type": "code",
      "source": [
        "zs_wrt_y = f(0, ys)"
      ],
      "metadata": {
        "id": "ian431q5Om7C"
      },
      "execution_count": 12,
      "outputs": []
    },
    {
      "cell_type": "code",
      "source": [
        "fix, ax = plt.subplots()\n",
        "plt.axvline(x=0, color='lightgray')\n",
        "plt.axhline(y=0, color='lightgray')\n",
        "\n",
        "plt.xlabel('x')\n",
        "plt.ylabel('z', rotation=0)\n",
        "_ = ax.plot(xs, zs_wrt_y)"
      ],
      "metadata": {
        "colab": {
          "base_uri": "https://localhost:8080/",
          "height": 279
        },
        "id": "PgHDpY7tOot9",
        "outputId": "bd5b1a41-55d4-413c-f8d6-e85e4a9643bf"
      },
      "execution_count": 13,
      "outputs": [
        {
          "output_type": "display_data",
          "data": {
            "text/plain": [
              "<Figure size 432x288 with 1 Axes>"
            ],
            "image/png": "[encoded data removed]"
          },
          "metadata": {
            "needs_background": "light"
          }
        }
      ]
    },
    {
      "cell_type": "markdown",
      "source": [
        "As in the slides, the partial derivative of $z$ w.r.t. $y$ happens to be independent of $x$ (just as we observed $x$ is independent of $y$ above), so while $z$ varies as a function of both $x$ and $y$, the slope of $z$ w.r.t. $y$ is the same no matter what $x$ is:\n",
        "\n",
        "$$\n",
        "\\frac{\\partial z}{\\partial y} = -2y\n",
        "$$\n",
        "\n",
        "So for example, holding $x$ constant at some value other than 0 increases $z$, but has no impact on the slope of $z$ w.r.t. y:"
      ],
      "metadata": {
        "id": "GOCzzlpQOyCc"
      }
    },
    {
      "cell_type": "code",
      "source": [
        "zs_wrt_y = f(2, ys)"
      ],
      "metadata": {
        "id": "K5Fxnv0APZ0L"
      },
      "execution_count": 14,
      "outputs": []
    },
    {
      "cell_type": "code",
      "source": [
        "fix, ax = plt.subplots()\n",
        "plt.axvline(x=0, color='lightgray')\n",
        "plt.axhline(y=0, color='lightgray')\n",
        "\n",
        "plt.xlabel('x')\n",
        "plt.ylabel('z', rotation=0)\n",
        "_ = ax.plot(xs, zs_wrt_y)"
      ],
      "metadata": {
        "colab": {
          "base_uri": "https://localhost:8080/",
          "height": 279
        },
        "id": "9a_GzqxBPciC",
        "outputId": "88868d26-247b-47c9-d439-20d1368bc047"
      },
      "execution_count": 15,
      "outputs": [
        {
          "output_type": "display_data",
          "data": {
            "text/plain": [
              "<Figure size 432x288 with 1 Axes>"
            ],
            "image/png": "[encoded data removed]"
          },
          "metadata": {
            "needs_background": "light"
          }
        }
      ]
    },
    {
      "cell_type": "code",
      "source": [
        "def delz_dely(my_x, my_y):\n",
        "  return -2*my_y"
      ],
      "metadata": {
        "id": "Oy_18VLsPdpA"
      },
      "execution_count": 16,
      "outputs": []
    },
    {
      "cell_type": "code",
      "source": [
        "y_samples = [-2, -1, 0, 1, 2]"
      ],
      "metadata": {
        "id": "NORDYuf6PyKW"
      },
      "execution_count": 17,
      "outputs": []
    },
    {
      "cell_type": "code",
      "source": [
        "def point_and_tangent_wrt_y(my_ys, my_x, my_y, my_f, fprime, col): # fprime is the partial derivative function\n",
        "  my_z = my_f(my_x, my_y) # z = f(x, y)\n",
        "  plt.scatter(my_y, my_z, c=col, zorder=3)\n",
        "\n",
        "  tangent_m = fprime(my_x, my_y) # slope is partial derivative of f(x, y) w.r.t. x\n",
        "  tangent_b = my_z - tangent_m*my_y # line is z=mx+b, so b=z-mx\n",
        "  tangent_line = tangent_m*my_ys + tangent_b\n",
        "\n",
        "  plt.plot(my_ys, tangent_line, c=col,\n",
        "          linestyle='dashed', linewidth=0.7, zorder=3)"
      ],
      "metadata": {
        "id": "qoJKI94lP0rm"
      },
      "execution_count": 18,
      "outputs": []
    },
    {
      "cell_type": "code",
      "source": [
        "fix, ax = plt.subplots()\n",
        "plt.axvline(x=0, color='lightgray')\n",
        "plt.axhline(y=0, color='lightgray')\n",
        "\n",
        "for i, y in enumerate(y_samples):\n",
        "  point_and_tangent_wrt_y(ys, 2, y, f, delz_dely, colors[i])\n",
        "\n",
        "plt.ylim(-5, 5)\n",
        "plt.xlabel('y')\n",
        "plt.ylabel('z', rotation=0)\n",
        "_ = ax.plot(xs, zs_wrt_y)"
      ],
      "metadata": {
        "colab": {
          "base_uri": "https://localhost:8080/",
          "height": 279
        },
        "id": "9-2Qf9CpQGAo",
        "outputId": "9bc4ebe4-65c5-4d63-bf8d-3d43a1ab7bda"
      },
      "execution_count": 19,
      "outputs": [
        {
          "output_type": "display_data",
          "data": {
            "text/plain": [
              "<Figure size 432x288 with 1 Axes>"
            ],
            "image/png": "[encoded data removed]"
          },
          "metadata": {
            "needs_background": "light"
          }
        }
      ]
    },
    {
      "cell_type": "markdown",
      "source": [
        "Thereby visually demonstrating $\\frac{\\partial z}{\\partial y} = -2y$.\n",
        "\n",
        "That is, the slope of $z$ along the $y$ axis is *twice* the $y$ value and *inverted*, resulting in the parabolic curve opening downward."
      ],
      "metadata": {
        "id": "WQTj_T-gQPMU"
      }
    },
    {
      "cell_type": "markdown",
      "source": [
        "### Partial Derivatives Exercieses\n",
        "\n",
        "for $z = x^2 - y^2$ calculate:\n",
        "\n",
        "* The value of $z$\n",
        "* The slope of $z$ with respect to $x$\n",
        "* And the slope of $z$ with respect to $y$\n",
        "\n",
        "At the points where:\n",
        "\n",
        "1. $x = 3$, $y = 0$\n",
        "2. $x = 2$, $y = 3$\n",
        "3. $x = -2$, $y = -3$"
      ],
      "metadata": {
        "id": "Bq3Rg7GvSbUE"
      }
    },
    {
      "cell_type": "markdown",
      "source": [
        "Determining partial derivatives by hand using rules is helpful for understanding how calculus works. In practice, however, autodiff enables us to do so more easily (especially if there are a large number of variables). For example, let's use the PyTorch automatic differentiation libary to calculate the slope of $z$ with respect to both $x$ and $y$ at any given point ($x$, $y$, $z$):"
      ],
      "metadata": {
        "id": "gvd-eYtjTCtv"
      }
    },
    {
      "cell_type": "markdown",
      "source": [
        "### Solutions for\n",
        "\n",
        "$$z = x^2 - y^2$$ \n",
        "\n",
        "1. **where $x = 3$, $y = 0$**\n",
        "\n",
        "value: $z = 3^2 - 0 = 9$\n",
        "\n",
        "$\\frac{\\partial z}{\\partial x} = 2(3) - 0 = 6 - 0 = 6$\n",
        "\n",
        "$\\frac{\\partial z}{\\partial y} = 0 - 0 = 0$\n",
        "\n",
        "2. **where $x = 2$, $y = 3$**\n",
        "\n",
        "value: $z = 2^2 - 3^2 = 4 -9 = -5$\n",
        "\n",
        "$\\frac{\\partial z}{\\partial x} = 2(2) - 0 = 4 - 0 = 4$\n",
        "\n",
        "$\\frac{\\partial z}{\\partial y} = 0 - 2(3) = -6$\n",
        "\n",
        "3. $x = -2$, $y = -3$\n",
        "\n",
        "value: $z = -2^2 - -3^2 = 4 - 9 = -5$\n",
        "\n",
        "$\\frac{\\partial z}{\\partial x} = 2(-2) - 0 = -4$\n",
        "\n",
        "$\\frac{\\partial z}{\\partial y} = 0 - 2(-3) = 0 - -6 = 6$\n"
      ],
      "metadata": {
        "id": "rXsb1NKHTZxd"
      }
    },
    {
      "cell_type": "markdown",
      "source": [
        "## Calculating Partial Derivatives with Autodiff\n",
        "\n",
        "Determining partial derivatives by hand is helpful for understanding, but in practice autodiff is the way to go. Here's the PyTorch code:"
      ],
      "metadata": {
        "id": "gp5Pg6tfifkC"
      }
    },
    {
      "cell_type": "code",
      "source": [
        "x = torch.tensor(0.).requires_grad_()\n",
        "x"
      ],
      "metadata": {
        "colab": {
          "base_uri": "https://localhost:8080/"
        },
        "id": "mZuKNSNvlBSI",
        "outputId": "767fa91d-f289-4baf-c79a-b6fa1caeb945"
      },
      "execution_count": 20,
      "outputs": [
        {
          "output_type": "execute_result",
          "data": {
            "text/plain": [
              "tensor(0., requires_grad=True)"
            ]
          },
          "metadata": {},
          "execution_count": 20
        }
      ]
    },
    {
      "cell_type": "code",
      "source": [
        "y = torch.tensor(0.).requires_grad_()\n",
        "y"
      ],
      "metadata": {
        "colab": {
          "base_uri": "https://localhost:8080/"
        },
        "id": "5tCwEl1xlD6f",
        "outputId": "6f567a5e-5001-44cc-8358-d36a8e0be4bf"
      },
      "execution_count": 21,
      "outputs": [
        {
          "output_type": "execute_result",
          "data": {
            "text/plain": [
              "tensor(0., requires_grad=True)"
            ]
          },
          "metadata": {},
          "execution_count": 21
        }
      ]
    },
    {
      "cell_type": "code",
      "source": [
        "z = f(x, y) # Forward pass\n",
        "z"
      ],
      "metadata": {
        "colab": {
          "base_uri": "https://localhost:8080/"
        },
        "id": "xpDVJrkBlHhv",
        "outputId": "4a6cfe96-5095-42dc-9cc8-479b15a4fa77"
      },
      "execution_count": 22,
      "outputs": [
        {
          "output_type": "execute_result",
          "data": {
            "text/plain": [
              "tensor(0., grad_fn=<SubBackward0>)"
            ]
          },
          "metadata": {},
          "execution_count": 22
        }
      ]
    },
    {
      "cell_type": "code",
      "source": [
        "z.backward() # Autodiff"
      ],
      "metadata": {
        "id": "SA3YRCctlJiG"
      },
      "execution_count": 23,
      "outputs": []
    },
    {
      "cell_type": "markdown",
      "source": [
        "As we already knew from our exercises above, the slope of the point (0,0,0) is zero with respect to both the $x$ and $y$ axes:"
      ],
      "metadata": {
        "id": "UScbEBQjlLYY"
      }
    },
    {
      "cell_type": "code",
      "source": [
        "x.grad"
      ],
      "metadata": {
        "colab": {
          "base_uri": "https://localhost:8080/"
        },
        "id": "NEUMOs3SlW_Q",
        "outputId": "020f3529-9a01-4fb5-c300-e6653fde7962"
      },
      "execution_count": 24,
      "outputs": [
        {
          "output_type": "execute_result",
          "data": {
            "text/plain": [
              "tensor(0.)"
            ]
          },
          "metadata": {},
          "execution_count": 24
        }
      ]
    },
    {
      "cell_type": "code",
      "source": [
        "y.grad"
      ],
      "metadata": {
        "colab": {
          "base_uri": "https://localhost:8080/"
        },
        "id": "1sOFl6ndlkMW",
        "outputId": "c1934470-d2eb-4c61-ff03-5a96e12caf1d"
      },
      "execution_count": 25,
      "outputs": [
        {
          "output_type": "execute_result",
          "data": {
            "text/plain": [
              "tensor(-0.)"
            ]
          },
          "metadata": {},
          "execution_count": 25
        }
      ]
    },
    {
      "cell_type": "code",
      "source": [
        "# Repeat of the exercises above\n",
        "\n",
        "values = [(3., 0.), (2.0,3.), (-2., -3.)]\n",
        "\n",
        "for x_val, y_val in values:\n",
        "  x = torch.tensor(x_val).requires_grad_()\n",
        "  y = torch.tensor(y_val).requires_grad_()\n",
        "  z = f(x, y)\n",
        "  z.backward()\n",
        "  print(f'x = {x}, y = {y}')\n",
        "  print(f' z = {z}')\n",
        "  print(f' xgrad: {x.grad}')\n",
        "  print(f' ygrad: {y.grad}')\n",
        "\n",
        "  "
      ],
      "metadata": {
        "colab": {
          "base_uri": "https://localhost:8080/"
        },
        "id": "IBMLSCuslnOA",
        "outputId": "d758f918-24c6-4bf8-a740-4066f4b1e40f"
      },
      "execution_count": 26,
      "outputs": [
        {
          "output_type": "stream",
          "name": "stdout",
          "text": [
            "x = 3.0, y = 0.0\n",
            " z = 9.0\n",
            " xgrad: 6.0\n",
            " ygrad: -0.0\n",
            "x = 2.0, y = 3.0\n",
            " z = -5.0\n",
            " xgrad: 4.0\n",
            " ygrad: -6.0\n",
            "x = -2.0, y = -3.0\n",
            " z = -5.0\n",
            " xgrad: -4.0\n",
            " ygrad: 6.0\n"
          ]
        }
      ]
    },
    {
      "cell_type": "markdown",
      "source": [
        "## Advanced Partial Derivatives\n",
        "\n",
        "Multivariate function for volume of a cylinder:\n",
        "\n",
        "$v = \\pi r^2l$\n",
        "\n",
        "$\\frac{\\partial v}{\\partial l} = \\pi r^2 \\frac{d}{dl}(l)$  (differentiate with respect to length)\n",
        "\n",
        "= $\\pi r^2 (1)$\n",
        "\n",
        "= $\\pi r^2$\n",
        "\n",
        "$\\therefore$ a change in length $l$ corresponds to a change in *volume* by $\\pi r^2$"
      ],
      "metadata": {
        "id": "bcb_oBLbmpIY"
      }
    },
    {
      "cell_type": "markdown",
      "source": [
        "### Partial Derivatives of a Cylinder's Volume in code\n",
        "\n",
        "For the volume formula $v = \\pi r^2l$ where $r$ is the radius of the cylinder and $l$ is its length:"
      ],
      "metadata": {
        "id": "qNXwtb7koUPo"
      }
    },
    {
      "cell_type": "code",
      "source": [
        "def cylinder_vol(my_r, my_l):\n",
        "  return math.pi * my_r**2 * my_l"
      ],
      "metadata": {
        "id": "UPeY2wdlsJ2V"
      },
      "execution_count": 27,
      "outputs": []
    },
    {
      "cell_type": "code",
      "source": [
        "# let's say the radius is 3 meters:\n",
        "r = torch.tensor(3.).requires_grad_()\n",
        "r"
      ],
      "metadata": {
        "colab": {
          "base_uri": "https://localhost:8080/"
        },
        "id": "5xa6hiiFsae6",
        "outputId": "2155ea44-ffa0-46e4-9ab6-f7554645a019"
      },
      "execution_count": 28,
      "outputs": [
        {
          "output_type": "execute_result",
          "data": {
            "text/plain": [
              "tensor(3., requires_grad=True)"
            ]
          },
          "metadata": {},
          "execution_count": 28
        }
      ]
    },
    {
      "cell_type": "code",
      "source": [
        "# length of 5 meters\n",
        "l = torch.tensor(5.).requires_grad_()\n",
        "l"
      ],
      "metadata": {
        "colab": {
          "base_uri": "https://localhost:8080/"
        },
        "id": "QO3pesYGsg4R",
        "outputId": "6a1148a0-ea0a-4940-f9b2-1c67b4ac64b7"
      },
      "execution_count": 29,
      "outputs": [
        {
          "output_type": "execute_result",
          "data": {
            "text/plain": [
              "tensor(5., requires_grad=True)"
            ]
          },
          "metadata": {},
          "execution_count": 29
        }
      ]
    },
    {
      "cell_type": "code",
      "source": [
        "# Then the volume of the cylinder is 141.4 cubic meters:\n",
        "v = cylinder_vol(r, l)\n",
        "v"
      ],
      "metadata": {
        "colab": {
          "base_uri": "https://localhost:8080/"
        },
        "id": "eRV2jOB-s9n4",
        "outputId": "7ef2fefc-0f4d-40df-e0fa-f7e356048da4"
      },
      "execution_count": 30,
      "outputs": [
        {
          "output_type": "execute_result",
          "data": {
            "text/plain": [
              "tensor(141.3717, grad_fn=<MulBackward0>)"
            ]
          },
          "metadata": {},
          "execution_count": 30
        }
      ]
    },
    {
      "cell_type": "code",
      "source": [
        "v.backward()"
      ],
      "metadata": {
        "id": "cDRyODdltNiD"
      },
      "execution_count": 31,
      "outputs": []
    },
    {
      "cell_type": "code",
      "source": [
        "l.grad"
      ],
      "metadata": {
        "colab": {
          "base_uri": "https://localhost:8080/"
        },
        "id": "lVnkm4-StRGi",
        "outputId": "9ea52b13-7f8c-42e0-d0f9-2987c15c3684"
      },
      "execution_count": 32,
      "outputs": [
        {
          "output_type": "execute_result",
          "data": {
            "text/plain": [
              "tensor(28.2743)"
            ]
          },
          "metadata": {},
          "execution_count": 32
        }
      ]
    },
    {
      "cell_type": "markdown",
      "source": [
        "As we derived above:\n",
        "\n",
        "$$\n",
        "\\frac{\\delta v}{\\delta l} = \\pi r^2\n",
        "$$"
      ],
      "metadata": {
        "id": "IIQ3YWJVtTfc"
      }
    },
    {
      "cell_type": "code",
      "source": [
        "math.pi * 3**2"
      ],
      "metadata": {
        "colab": {
          "base_uri": "https://localhost:8080/"
        },
        "id": "6IaIc5eZt1Lr",
        "outputId": "2dfd0489-ad5f-412b-b280-0299c11d0802"
      },
      "execution_count": 33,
      "outputs": [
        {
          "output_type": "execute_result",
          "data": {
            "text/plain": [
              "28.274333882308138"
            ]
          },
          "metadata": {},
          "execution_count": 33
        }
      ]
    },
    {
      "cell_type": "markdown",
      "source": [
        "This means that with $r = 3$, a change in $l$ by one unit corresponds to a change in $v$ of $28.27m^3$. We can prove this to ourselves:"
      ],
      "metadata": {
        "id": "XqYtox0mt4Vp"
      }
    },
    {
      "cell_type": "code",
      "source": [
        "cylinder_vol(3, 6)"
      ],
      "metadata": {
        "colab": {
          "base_uri": "https://localhost:8080/"
        },
        "id": "396cs2Z6uF21",
        "outputId": "fb79a61a-638f-49e0-eae0-6e9ee34e8f0d"
      },
      "execution_count": 34,
      "outputs": [
        {
          "output_type": "execute_result",
          "data": {
            "text/plain": [
              "169.64600329384882"
            ]
          },
          "metadata": {},
          "execution_count": 34
        }
      ]
    },
    {
      "cell_type": "code",
      "source": [
        "cylinder_vol(3, 6) - cylinder_vol(3, 5)"
      ],
      "metadata": {
        "colab": {
          "base_uri": "https://localhost:8080/"
        },
        "id": "fpHriYyguJQT",
        "outputId": "38008e63-fc53-4ce7-9014-1b9626bd1c31"
      },
      "execution_count": 35,
      "outputs": [
        {
          "output_type": "execute_result",
          "data": {
            "text/plain": [
              "28.274333882308127"
            ]
          },
          "metadata": {},
          "execution_count": 35
        }
      ]
    },
    {
      "cell_type": "code",
      "source": [
        "cylinder_vol(3, 7) - cylinder_vol(3, 6)"
      ],
      "metadata": {
        "colab": {
          "base_uri": "https://localhost:8080/"
        },
        "id": "qnTrsiyHuaHN",
        "outputId": "09c00e35-6897-4998-c38a-d2151e20aa9c"
      },
      "execution_count": 36,
      "outputs": [
        {
          "output_type": "execute_result",
          "data": {
            "text/plain": [
              "28.274333882308156"
            ]
          },
          "metadata": {},
          "execution_count": 36
        }
      ]
    },
    {
      "cell_type": "markdown",
      "source": [
        "...and with respect to $r$:\n",
        "\n",
        "$\\frac{\\partial v}{\\partial r} = \\pi \\frac{d}{dr}(r^2)l$\n",
        "\n",
        "= $\\pi(2r)l$\n",
        "\n",
        "= $2\\pi r l$\n",
        "\n",
        "$\\therefore$ a change in radius $r$ (by an infinitesimally small amount) corresponds to a change in *volume* by $2\\pi r l$"
      ],
      "metadata": {
        "id": "XbJrZV2uue3B"
      }
    },
    {
      "cell_type": "code",
      "source": [
        "2 * math.pi * r * l"
      ],
      "metadata": {
        "colab": {
          "base_uri": "https://localhost:8080/"
        },
        "id": "82Qq4_oxvYft",
        "outputId": "864f10b9-2a71-4f43-b153-bdb2195dcac9"
      },
      "execution_count": 37,
      "outputs": [
        {
          "output_type": "execute_result",
          "data": {
            "text/plain": [
              "tensor(94.2478, grad_fn=<MulBackward0>)"
            ]
          },
          "metadata": {},
          "execution_count": 37
        }
      ]
    },
    {
      "cell_type": "code",
      "source": [
        "r.grad"
      ],
      "metadata": {
        "colab": {
          "base_uri": "https://localhost:8080/"
        },
        "id": "ivhTB7Ffvkyf",
        "outputId": "a0592d35-6839-4d45-d6cb-e3df28388606"
      },
      "execution_count": 38,
      "outputs": [
        {
          "output_type": "execute_result",
          "data": {
            "text/plain": [
              "tensor(94.2478)"
            ]
          },
          "metadata": {},
          "execution_count": 38
        }
      ]
    },
    {
      "cell_type": "markdown",
      "source": [
        "$r$ is included in the partial derivative so adjusting it affects the scale of its impact on $v$. Although it's our first example in this notebook, it is typical in calculus for the derivative only to apply at an infinitesimally small $Δ r$. The smaller the $\\Delta r$, the closer to the true $\\frac{\\partial v}{\\partial r}$. E.g., at $\\Delta r = 1 × 10^{-6}$"
      ],
      "metadata": {
        "id": "v7rKMds9vljP"
      }
    },
    {
      "cell_type": "code",
      "source": [
        "delta = 1e-6\n",
        "delta"
      ],
      "metadata": {
        "colab": {
          "base_uri": "https://localhost:8080/"
        },
        "id": "KBIbC72qxoU7",
        "outputId": "c8bd8127-590a-4259-a5ee-eb1bb3b6481f"
      },
      "execution_count": 39,
      "outputs": [
        {
          "output_type": "execute_result",
          "data": {
            "text/plain": [
              "1e-06"
            ]
          },
          "metadata": {},
          "execution_count": 39
        }
      ]
    },
    {
      "cell_type": "code",
      "source": [
        "(cylinder_vol(3 + delta, 5) - cylinder_vol(3, 5)) / delta # Dividing by delta restores scale"
      ],
      "metadata": {
        "colab": {
          "base_uri": "https://localhost:8080/"
        },
        "id": "F9eCmsotxqYL",
        "outputId": "a8d6a2eb-6f4c-4d6d-ff40-feba9cc1d223"
      },
      "execution_count": 40,
      "outputs": [
        {
          "output_type": "execute_result",
          "data": {
            "text/plain": [
              "94.24779531741478"
            ]
          },
          "metadata": {},
          "execution_count": 40
        }
      ]
    },
    {
      "cell_type": "markdown",
      "source": [
        "### Advanced Partial Derivative Exercises\n",
        "\n",
        "Find all the partial derivatives of the following functions:\n",
        "\n",
        "1. $z = y^3 + 5xy$\n",
        "2. The surface area of a cylinder: $a = 2\\pi r^2 + 2 \\pi rh$\n",
        "3. The volume of a *square prism* with a *cube* cut out of its center is described by $v = x^2y - z^3$"
      ],
      "metadata": {
        "id": "HnUTekYyys35"
      }
    },
    {
      "cell_type": "markdown",
      "source": [
        "### 1. $z = y^3 + 5xy$\n",
        "\n",
        "The bit I now understand is that when doing the partial derivatives, the *entire* variable expression becomes the \"constant\" so $5x$ is constant as is $5y$ and you differentiate on the other part of the expression.\n",
        "\n",
        "$\\frac{\\partial z}{\\partial y} = 3y^2 + 5x(1) = 3y^2 + 5x$\n",
        "\n",
        "$\\frac{\\partial z}{\\partial x} = 0 + 5y(1) = 5y$"
      ],
      "metadata": {
        "id": "oNyGrUCYyvPZ"
      }
    },
    {
      "cell_type": "markdown",
      "source": [
        "### 2. The surface area of a cylinder: $a = 2\\pi r^2 + 2 \\pi rh$\n",
        "\n",
        "* variables are $r$ and $h$\n",
        "\n",
        "$\\frac{\\partial a}{\\partial h} = 0 + 2 \\pi r (1) = 2 \\pi r$\n",
        "* No $h$ in first term, so the entire term is a constant, so its derivative is 0\n",
        "* second term follows the power rule for $1h^0 = 1$ and remember $2 \\pi r$ is a constant\n",
        "\n",
        "$\\frac{\\partial a}{\\partial r} = 2 \\pi(2r) + 2 \\pi h(1) = 4 \\pi r + 2 \\pi r(1) = 4 \\pi r + 2 \\pi h$\n",
        "* Differentiate the first term normally for $r$, $2\\pi$ is treated like a constant!\n",
        "* r is the variable that gets differentiated in the second term, so it's $r^1 = 1r^0 = 1$.\n",
        "\n",
        "### 3. The volume of a *square prism* with a *cube* cut out of its center is described by\n",
        "### $v = x^2y - z^3$\n",
        "\n",
        "$\\frac{\\partial v}{\\partial x} = 2xy - 0 = 2xy$\n",
        "\n",
        "$\\frac{\\partial v}{\\partial y} = x^2 \\cdot 1 - 0 = x^2$\n",
        "\n",
        "$\\frac{\\partial v}{\\partial z} 2x \\cdot 0 - 3z^2 = -3z^2$\n"
      ],
      "metadata": {
        "id": "tLkiLxJp1e_Y"
      }
    },
    {
      "cell_type": "markdown",
      "source": [
        "### Partial Derivative Notation\n",
        "\n",
        "$$\n",
        "z = f(x, y)\n",
        "$$\n",
        "\n",
        "$$\n",
        "\\frac{\\partial z}{\\partial x}\n",
        "$$\n",
        "\n",
        "OR\n",
        "\n",
        "$$\n",
        " \\frac{\\partial f}{\\partial x}\n",
        " $$\n",
        " \n",
        " OR\n",
        " \n",
        " $$\n",
        "  f_x\n",
        "  $$\n",
        "  OR\n",
        "  \n",
        "  $$\n",
        "   D_xf\n",
        "$$"
      ],
      "metadata": {
        "id": "aNiqGnZ1xyBh"
      }
    },
    {
      "cell_type": "markdown",
      "source": [
        "### The Chain Rule for Partial Derivatives\n",
        "\n",
        "Let's say $y = f(u)$ and $u = g(x)$\n",
        "\n",
        "Recall that the chain rule for full derivatives would be:\n",
        "\n",
        "$$\n",
        "\\frac{dy}{dx} = \\frac{dy}{du} \\frac{du}{dx}\n",
        "$$\n",
        "\n",
        "With univariate functions, the partial derivative is identical:\n",
        "\n",
        "$$\n",
        "\\frac{dy}{dx} = \\frac{\\partial y}{\\partial x} = \\frac{\\partial y}{\\partial u} \\frac{\\partial u}{\\partial x}\n",
        "$$\n",
        "\n",
        "With a multivariate function, the partial derivative is more interesting:\n",
        "\n",
        "$y = f(u)$ and $u = g(x, z)$\n",
        "\n",
        "So you could think of $u$ having inputs $x$ and $z$ and thus differentiate for each:\n",
        "\n",
        "$$\n",
        "\\frac{\\partial y}{\\partial x} = \\frac{\\partial y}{\\partial u} \\frac{\\partial u}{\\partial x} \\ \\ \\ \\ \\ \\ \\ \n",
        "\\frac{\\partial y}{\\partial z} = \\frac{\\partial y}{\\partial u} \\frac{\\partial u}{\\partial z}\n",
        "$$\n",
        "\n",
        "With multiple multivariate functions, it gets really interesting:\n",
        "\n",
        "$y = f(u, v)$\n",
        "\n",
        "$u = g(x, z)$ \n",
        "\n",
        "$v = h(x, z)$\n",
        "\n",
        "Again, imagine a single tree, so derivatives are:\n",
        "\n",
        "$$\n",
        "\\frac{\\partial y}{\\partial x} = \\frac{\\partial y}{\\partial u} \\frac{\\partial u}{\\partial x} + \n",
        "\\frac{\\partial y}{\\partial v} \\frac{\\partial v}{\\partial x}\n",
        "$$\n",
        "\n",
        "$$\n",
        "\\frac{\\partial y}{\\partial z} = \\frac{\\partial y}{\\partial u} \\frac{\\partial u}{\\partial z} + \n",
        "\\frac{\\partial y}{\\partial v} \\frac{\\partial v}{\\partial z}\n",
        "$$\n",
        "\n",
        "In other words, you can sum the partial derivative chain of each term.\n",
        "\n",
        "Generalizing completely:\n",
        "\n",
        "$y = f(u_1, u_2, \\dots, u_m)$\n",
        "\n",
        "$u_j = g(x_1, x_2, \\dots, x_n)$\n",
        "\n",
        "for $i = 1,2,\\dots,n$:\n",
        "\n",
        "$$\n",
        "\\frac{\\partial y}{\\partial x_i} = \n",
        "\\frac{\\partial y}{\\partial u_1}\n",
        "\\frac{\\partial u_1}{\\partial x_i} + \n",
        "\\frac{\\partial y}{\\partial u_2}\n",
        "\\frac{\\partial u_2}{\\partial x_i} + \\dots +\n",
        "\\frac{\\partial y}{\\partial u_m}\n",
        "\\frac{\\partial u_m}{\\partial x_i}\n",
        "$$"
      ],
      "metadata": {
        "id": "EJyv89PXyMcN"
      }
    },
    {
      "cell_type": "markdown",
      "source": [
        "### Multivariate Chain Rule Exercises\n",
        "\n",
        "Find all the partial derivatives of $y$, where:\n",
        "\n",
        "1. $y = f(u, v) \\ \\ \\ u = g(x) \\ \\ \\ v = h(z)$\n",
        "2. $y = f(u, v) \\ \\ \\ u = g(x) \\ \\ \\ v = h(x, z)$\n",
        "3. $y = f(u, v, w) \\ \\ \\ u = g(x) \\ \\ \\ v = h(x) \\ \\ \\ w = j(x)$\n"
      ],
      "metadata": {
        "id": "IQg2vfRGzHCO"
      }
    },
    {
      "cell_type": "markdown",
      "source": [
        "### 1. $y = f(u, v) \\ \\ \\ u = g(x) \\ \\ \\ v = h(z)$\n",
        "\n",
        "$$\n",
        "\\frac{\\partial y}{\\partial x} = \\frac{\\partial y}{\\partial u} \\frac{\\partial u}{\\partial x}\n",
        "$$\n",
        "\n",
        "$$\n",
        "\\frac{\\partial y}{\\partial z} = \\frac{\\partial y}{\\partial v} \\frac{\\partial v}{\\partial z} \n",
        "$$\n"
      ],
      "metadata": {
        "id": "5E-1lp-Vs768"
      }
    },
    {
      "cell_type": "markdown",
      "source": [
        "### 2. $y = f(u, v) \\ \\ \\ u = g(x) \\ \\ \\ v = h(x, z)$\n",
        "\n",
        "Note that $x$ appears in both $u$ and $v$, but $z$ only appears in one. So the partial derivative of $x$ uses the sum of both derivatives:\n",
        "\n",
        "$$\n",
        "\\frac{\\partial y}{\\partial x} = \\frac{\\partial y}{\\partial u} \\frac{\\partial u}{\\partial x} +\n",
        "\\frac{\\partial y}{\\partial v} \\frac{\\partial v}{\\partial x} \n",
        "$$\n",
        "\n",
        "$$\n",
        "\\frac{\\partial y}{\\partial z} = \\frac{\\partial y}{\\partial v} \\frac{\\partial v}{\\partial z}\n",
        "$$\n"
      ],
      "metadata": {
        "id": "lwtKwMg2vHT8"
      }
    },
    {
      "cell_type": "markdown",
      "source": [
        "### 3. $y = f(u, v, w) \\ \\ \\ u = g(x) \\ \\ \\ v = h(x) \\ \\ \\ w = j(x)$\n",
        "\n",
        "$x$ appears in all three functions, so differentiate each and sum:\n",
        "\n",
        "$$\n",
        "\\frac{\\partial y}{\\partial x} = \\frac{\\partial y}{\\partial u} \\frac{\\partial u}{\\partial x} +\n",
        "\\frac{\\partial y}{\\partial v} \\frac{\\partial v}{\\partial x}  +\n",
        "\\frac{\\partial y}{\\partial w} \\frac{\\partial w}{\\partial x} \n",
        "$$\n",
        "\n",
        "But note! This is also the *full derivative* $\\frac{dy}{dx}$ because $y$ depends only on $x$.\n",
        "\n"
      ],
      "metadata": {
        "id": "6-J8xqK50Qev"
      }
    },
    {
      "cell_type": "markdown",
      "source": [
        "## Point by Point Regression\n",
        "\n",
        "Or, how I learned how to implement automatic differentiaton from first principles.\n",
        "\n",
        "(a.k.a. Linear regression FTW!)"
      ],
      "metadata": {
        "id": "ESp72vY10tsN"
      }
    },
    {
      "cell_type": "markdown",
      "source": [
        "## Gradients of Cost w.r.t. Model Parameters\n",
        "\n",
        "Here we calculate the gradient of quadratic cost with respect to a straight-line regression model's parameters. We keep the partial derivatives as simple as possible by limiting the model to handling a single data point."
      ],
      "metadata": {
        "id": "nabiMlst2oRK"
      }
    },
    {
      "cell_type": "code",
      "source": [
        "import torch"
      ],
      "metadata": {
        "id": "2Gtsq9XB2tRu"
      },
      "execution_count": 41,
      "outputs": []
    },
    {
      "cell_type": "code",
      "source": [
        "# Same data as regression in pytorch and the moore-penrose pseudoinverse\n",
        "# (supposedly mls of an Alzheimer's drug)\n",
        "xs = torch.tensor([0., 1., 2., 3., 4., 5., 6., 7.])"
      ],
      "metadata": {
        "id": "dALa7AUF2y_O"
      },
      "execution_count": 42,
      "outputs": []
    },
    {
      "cell_type": "code",
      "source": [
        "# Fictional \"forgetfulness\" score of patients\n",
        "ys = torch.tensor([1.86, 1.31, .62, .33, .09, -.67, -1.23, -1.37])"
      ],
      "metadata": {
        "id": "kwEex4_a3Mhb"
      },
      "execution_count": 43,
      "outputs": []
    },
    {
      "cell_type": "markdown",
      "source": [
        "The slope of a line is still $y = mx + b$:\n"
      ],
      "metadata": {
        "id": "KuElgzcr3aW0"
      }
    },
    {
      "cell_type": "code",
      "source": [
        "def regression(my_x, my_m, my_b):\n",
        "  return my_m*my_x + b"
      ],
      "metadata": {
        "id": "-JDP6JSw3fGQ"
      },
      "execution_count": 44,
      "outputs": []
    },
    {
      "cell_type": "markdown",
      "source": [
        "Initialize $m$ and $b$ with the same \"random\" near-zero values as in our regression notebook:"
      ],
      "metadata": {
        "id": "5M3F5TPL4VoB"
      }
    },
    {
      "cell_type": "code",
      "source": [
        "m = torch.tensor([0.9]).requires_grad_()\n",
        "b = torch.tensor([0.1]).requires_grad_()"
      ],
      "metadata": {
        "id": "nhx5Tq9r4D2X"
      },
      "execution_count": 45,
      "outputs": []
    },
    {
      "cell_type": "markdown",
      "source": [
        "To keep the partial derivatives as simple as possible, let's move forward with a single instance $i$ from the eight possible data points:"
      ],
      "metadata": {
        "id": "5LTi8-nZ4dyJ"
      }
    },
    {
      "cell_type": "code",
      "source": [
        "i = 7\n",
        "x = xs[i]\n",
        "y = ys[i]"
      ],
      "metadata": {
        "id": "AoDxy1ya5CU-"
      },
      "execution_count": 46,
      "outputs": []
    },
    {
      "cell_type": "code",
      "source": [
        "x"
      ],
      "metadata": {
        "colab": {
          "base_uri": "https://localhost:8080/"
        },
        "id": "I-sGY00E5E3j",
        "outputId": "2dad56ca-0f8b-4041-f3d7-e642c9c00d28"
      },
      "execution_count": 47,
      "outputs": [
        {
          "output_type": "execute_result",
          "data": {
            "text/plain": [
              "tensor(7.)"
            ]
          },
          "metadata": {},
          "execution_count": 47
        }
      ]
    },
    {
      "cell_type": "code",
      "source": [
        "y"
      ],
      "metadata": {
        "colab": {
          "base_uri": "https://localhost:8080/"
        },
        "id": "dmMn3r8u5JRn",
        "outputId": "18eb07cc-c7cd-44e4-9068-a80f31e54280"
      },
      "execution_count": 48,
      "outputs": [
        {
          "output_type": "execute_result",
          "data": {
            "text/plain": [
              "tensor(-1.3700)"
            ]
          },
          "metadata": {},
          "execution_count": 48
        }
      ]
    },
    {
      "cell_type": "markdown",
      "source": [
        "**Step 1**: Forward pass\n",
        "\n",
        "We can flow the scalar tensor $x$ through our regression model to produce $\\hat{y}$, an estimate of $y$. Prior to any model training, this is an arbitrary estimate:"
      ],
      "metadata": {
        "id": "MWhmLn9l5Joo"
      }
    },
    {
      "cell_type": "code",
      "source": [
        "yhat = regression(x, m, b)\n",
        "yhat"
      ],
      "metadata": {
        "colab": {
          "base_uri": "https://localhost:8080/"
        },
        "id": "b5zDD2O85iPs",
        "outputId": "84d6b038-9a79-478d-8eeb-73f6c4980457"
      },
      "execution_count": 49,
      "outputs": [
        {
          "output_type": "execute_result",
          "data": {
            "text/plain": [
              "tensor([6.4000], grad_fn=<AddBackward0>)"
            ]
          },
          "metadata": {},
          "execution_count": 49
        }
      ]
    },
    {
      "cell_type": "markdown",
      "source": [
        "**Step 2**: Compare $\\hat{y}$ with true $y$ to calculate cost **$C$**.\n",
        "\n",
        "In the previous regressiion notebook, we used mean-squared error, which averages quadratic cost over multiple data points. With a single data point, here we can use quadratic cost alone. It is defined by:\n",
        "\n",
        "$$\n",
        "C = (\\hat{y} - y)^2\n",
        "$$"
      ],
      "metadata": {
        "id": "bqJ2i18t5kso"
      }
    },
    {
      "cell_type": "code",
      "source": [
        "def squared_error(my_yhat, my_y):\n",
        "  return (my_yhat - my_y)**2"
      ],
      "metadata": {
        "id": "5_HXjoiB58qr"
      },
      "execution_count": 50,
      "outputs": []
    },
    {
      "cell_type": "code",
      "source": [
        "C = squared_error(yhat, y)\n",
        "C"
      ],
      "metadata": {
        "colab": {
          "base_uri": "https://localhost:8080/"
        },
        "id": "jt9yRMUR6Bjs",
        "outputId": "3d34c41a-a080-4754-c6e5-7062638efef2"
      },
      "execution_count": 51,
      "outputs": [
        {
          "output_type": "execute_result",
          "data": {
            "text/plain": [
              "tensor([60.3729], grad_fn=<PowBackward0>)"
            ]
          },
          "metadata": {},
          "execution_count": 51
        }
      ]
    },
    {
      "cell_type": "markdown",
      "source": [
        "**Step 3**: Use autodiff to calculate gradient of $C$ w.r.t. parameters"
      ],
      "metadata": {
        "id": "XiaC9z4I6s-L"
      }
    },
    {
      "cell_type": "code",
      "source": [
        "C.backward()"
      ],
      "metadata": {
        "id": "ZUucXeZi67LJ"
      },
      "execution_count": 52,
      "outputs": []
    },
    {
      "cell_type": "markdown",
      "source": [
        "The partial derivative of $C$ with respect to $m \\left( \\frac{\\partial C}{\\partial m} \\right)$ is:"
      ],
      "metadata": {
        "id": "VD7l8oW97E4w"
      }
    },
    {
      "cell_type": "code",
      "source": [
        "m.grad"
      ],
      "metadata": {
        "colab": {
          "base_uri": "https://localhost:8080/"
        },
        "id": "HrALjUor6_Zr",
        "outputId": "65da49ac-d265-448c-edf3-ef08c2958e33"
      },
      "execution_count": 53,
      "outputs": [
        {
          "output_type": "execute_result",
          "data": {
            "text/plain": [
              "tensor([108.7800])"
            ]
          },
          "metadata": {},
          "execution_count": 53
        }
      ]
    },
    {
      "cell_type": "markdown",
      "source": [
        "and the partial derivative of $C$ with respect to $m \\left( \\frac{\\partial C}{\\partial b} \\right)$ is:"
      ],
      "metadata": {
        "id": "CBMmwKJh7ADv"
      }
    },
    {
      "cell_type": "code",
      "source": [
        "b.grad"
      ],
      "metadata": {
        "colab": {
          "base_uri": "https://localhost:8080/"
        },
        "id": "G4qas3ns7fuy",
        "outputId": "5c47d2c6-8376-40d3-dd40-0a8744a20dfa"
      },
      "execution_count": 54,
      "outputs": [
        {
          "output_type": "execute_result",
          "data": {
            "text/plain": [
              "tensor([15.5400])"
            ]
          },
          "metadata": {},
          "execution_count": 54
        }
      ]
    },
    {
      "cell_type": "markdown",
      "source": [
        "### Deriving the partial derivatives of quadratic cost by hand\n",
        "\n",
        "$\n",
        "C = (\\hat{y} - y)^2\n",
        "$\n",
        "\n",
        "is actually two nested functions:\n",
        "\n",
        "$C = u^2$\n",
        "\n",
        "$u = \\hat{y} - y$\n",
        "\n",
        "starting with the inner function:\n",
        "\n",
        "$\n",
        "\\frac{\\partial u}{\\partial \\hat{y}} = 1({\\hat{y}}\\ \\ ^0) - 0 = 1 - 0 = 1\n",
        "$\n",
        "\n",
        "Note that we don't really care about $y$ as it's just a data point. What matters is cost with respect to the input parameters $m$ and $b$ which is what produce the value $\\hat{y}$.\n",
        "\n",
        "Then the outer:\n",
        "\n",
        "$\n",
        "\\frac{dC}{du} = \\frac{\\partial C}{\\partial u} = 2u = 2(\\hat{y} - y)\n",
        "$\n",
        "\n",
        "Then chain together:\n",
        "\n",
        "$\n",
        "\\frac{\\partial C}{\\partial \\hat{y}} = \\frac{\\partial C}{\\partial u} \\frac{\\partial u}{\\partial \\hat{y}} =\n",
        "(2(\\hat{y} - y))(1) = 2(\\hat{y} -y)\n",
        "$"
      ],
      "metadata": {
        "id": "He0K5mgX7gtX"
      }
    },
    {
      "cell_type": "markdown",
      "source": [
        "### Predicted $y$ w.r.t. Model Parameters\n",
        "\n",
        "$\\hat{y} = mx + b$\n",
        "\n",
        "$\\frac{\\partial \\hat{y}}{\\partial b} = 1(0x^0) + 1b^0 = 0 + 1 = 1$\n",
        "\n",
        "$\\frac{\\partial \\hat{y}}{\\partial m} = 1(x) + 0 = x$ (power rule on $m$ is 1)"
      ],
      "metadata": {
        "id": "_4HqkiExCFju"
      }
    },
    {
      "cell_type": "markdown",
      "source": [
        "Putting all these partial derivatives together with the chain rule:\n",
        "\n",
        "$\n",
        "\\frac{\\partial C}{\\partial \\hat{y}} = 2(\\hat{y} -y)\n",
        "\\ \\ \\ \\\n",
        "\\frac{\\partial \\hat{y}}{\\partial m} = x\n",
        "\\ \\ \\ \\\n",
        "\\frac{\\partial \\hat{y}}{\\partial b} = 1\n",
        "$\n",
        "\n",
        "with respect to $m$:\n",
        "\n",
        "$\n",
        "\\frac{\\partial C}{\\partial m} = \n",
        "\\frac{\\partial C}{\\partial \\hat{y}}\n",
        "\\frac{\\partial \\hat{y}}{\\partial m} =\n",
        "(2(\\hat{y} -y))x = 2x(\\hat{y} - y)\n",
        "$\n",
        "\n",
        "with respect to $b$:\n",
        "\n",
        "$\n",
        "\\frac{\\partial C}{\\partial b} = \n",
        "\\frac{\\partial C}{\\partial \\hat{y}}\n",
        "\\frac{\\partial \\hat{y}}{\\partial b} = (2\\hat{y} -y)1 = 2(\\hat{y} -y)\n",
        "$"
      ],
      "metadata": {
        "id": "F-I4QYDbF1Dw"
      }
    },
    {
      "cell_type": "code",
      "source": [
        "2 * x * (yhat.item() - y) # partial derivative of cost with respect to m"
      ],
      "metadata": {
        "colab": {
          "base_uri": "https://localhost:8080/"
        },
        "id": "LNzjlA89HRRA",
        "outputId": "85aca532-5220-4059-e0f8-3270be68cce0"
      },
      "execution_count": 55,
      "outputs": [
        {
          "output_type": "execute_result",
          "data": {
            "text/plain": [
              "tensor(108.7800)"
            ]
          },
          "metadata": {},
          "execution_count": 55
        }
      ]
    },
    {
      "cell_type": "code",
      "source": [
        "2 * (yhat.item() - y) # partial derivative of cost with respect to b"
      ],
      "metadata": {
        "colab": {
          "base_uri": "https://localhost:8080/"
        },
        "id": "9plCapOCCAcr",
        "outputId": "028a4ee8-c67d-4b8e-c61b-d0f38c535294"
      },
      "execution_count": 56,
      "outputs": [
        {
          "output_type": "execute_result",
          "data": {
            "text/plain": [
              "tensor(15.5400)"
            ]
          },
          "metadata": {},
          "execution_count": 56
        }
      ]
    },
    {
      "cell_type": "markdown",
      "source": [
        "## The Gradient of Cost, $\\nabla C$\n",
        "\n",
        "The gradient of cost, which is symbolized $\\nabla C$ (pronounced \"nabla C\"), is a vector of all the partial derivatives of $C$ with respect to each of the individual model parameters:\n",
        "\n",
        "$\n",
        "\\nabla C = \\nabla_pC = \\left[\n",
        "  \\frac{\\partial C}{\\partial p_1},\n",
        "  \\frac{\\partial C}{\\partial p_2},\n",
        "  \\dots,\n",
        "  \\frac{\\partial C}{\\partial p_n},\n",
        "\\right]^T\n",
        "$\n",
        "\n",
        "Note that it's transposed to be a column vector.\n",
        "\n",
        "In this case, there are only two parameters, $b$ and $m$:\n",
        "\n",
        "$\n",
        "\\nabla C = \\nabla_pC = \\left[\n",
        "  \\frac{\\partial C}{\\partial b},\n",
        "  \\frac{\\partial C}{\\partial m},\n",
        "\\right]^T\n",
        "$"
      ],
      "metadata": {
        "id": "fBNhfzYdHWGb"
      }
    },
    {
      "cell_type": "code",
      "source": [
        "gradient = torch.tensor([[b.grad.item(), m.grad.item()]]).T\n",
        "gradient"
      ],
      "metadata": {
        "colab": {
          "base_uri": "https://localhost:8080/"
        },
        "id": "QDXQC5wZJ9JR",
        "outputId": "903132fb-96d2-4ac2-c4c1-ff6568dc7bdc"
      },
      "execution_count": 57,
      "outputs": [
        {
          "output_type": "execute_result",
          "data": {
            "text/plain": [
              "tensor([[ 15.5400],\n",
              "        [108.7800]])"
            ]
          },
          "metadata": {},
          "execution_count": 57
        }
      ]
    },
    {
      "cell_type": "markdown",
      "source": [
        "## Gradient Descent\n",
        "\n",
        "* Calculate the gradient of mean squared error on a batch of data\n",
        "* Visualize gradient descent in action"
      ],
      "metadata": {
        "id": "XFC1Vg4-KC7s"
      }
    },
    {
      "cell_type": "code",
      "source": [
        "import torch\n",
        "import matplotlib.pyplot as plt"
      ],
      "metadata": {
        "id": "DNhkaRgPN04Q"
      },
      "execution_count": 58,
      "outputs": []
    },
    {
      "cell_type": "code",
      "source": [
        "# regression function, xs, ys, m and b same as above, repeated here for convenience:\n",
        "# Same data as regression in pytorch and the moore-penrose pseudoinverse\n",
        "\n",
        "# (supposedly mls of an Alzheimer's drug)\n",
        "xs = torch.tensor([0., 1., 2., 3., 4., 5., 6., 7.])\n",
        "\n",
        "# Fictional \"forgetfulness\" score of patients\n",
        "ys = torch.tensor([1.86, 1.31, .62, .33, .09, -.67, -1.23, -1.37])\n",
        "\n",
        "m = torch.tensor([0.9]).requires_grad_()\n",
        "b = torch.tensor([0.1]).requires_grad_()\n",
        "\n",
        "\n",
        "def regression(my_x, my_m, my_b):\n",
        "  return my_m*my_x + b"
      ],
      "metadata": {
        "id": "Lt19ZjpfN5ED"
      },
      "execution_count": 59,
      "outputs": []
    },
    {
      "cell_type": "code",
      "source": [
        "m = torch.tensor([0.9]).requires_grad_()\n",
        "b = torch.tensor([0.1]).requires_grad_()"
      ],
      "metadata": {
        "id": "B85zO1A5ObMK"
      },
      "execution_count": 60,
      "outputs": []
    },
    {
      "cell_type": "markdown",
      "source": [
        "**Step 1**: Forward Pass"
      ],
      "metadata": {
        "id": "TCsQPHwKALYM"
      }
    },
    {
      "cell_type": "code",
      "source": [
        "# Now we're working with a whole batch of data as we would be in a real model,\n",
        "# so each element of yhats is our initial result for a single data point from\n",
        "# xs regressed against our random m and b parameters\n",
        "yhats = regression(xs, m, b)\n",
        "yhats"
      ],
      "metadata": {
        "colab": {
          "base_uri": "https://localhost:8080/"
        },
        "id": "iy_0tkKuASBg",
        "outputId": "c2af2f41-0127-491e-f45c-4b1cc4d0b9ca"
      },
      "execution_count": 61,
      "outputs": [
        {
          "output_type": "execute_result",
          "data": {
            "text/plain": [
              "tensor([0.1000, 1.0000, 1.9000, 2.8000, 3.7000, 4.6000, 5.5000, 6.4000],\n",
              "       grad_fn=<AddBackward0>)"
            ]
          },
          "metadata": {},
          "execution_count": 61
        }
      ]
    },
    {
      "cell_type": "markdown",
      "source": [
        "**Step 2**: Compare $\\hat{y}$ with true $y$ to calculate cost $C$\n",
        "\n",
        "We're using mean squared error, which averages quadratic cost across multiple data points:\n",
        "\n",
        "$$\n",
        "C = \\frac{1}{n} \\sum_{i=1}^n (\\hat{y}_i - y_i)^2\n",
        "$$"
      ],
      "metadata": {
        "id": "FHmSBgxpAZNt"
      }
    },
    {
      "cell_type": "code",
      "source": [
        "def mse(my_yhat, my_y):\n",
        "  sigma = torch.sum((my_yhat - my_y)**2)\n",
        "  return sigma / len(my_y)"
      ],
      "metadata": {
        "id": "azKTca-eAgag"
      },
      "execution_count": 62,
      "outputs": []
    },
    {
      "cell_type": "code",
      "source": [
        "C = mse(yhats, ys)\n",
        "C"
      ],
      "metadata": {
        "colab": {
          "base_uri": "https://localhost:8080/"
        },
        "id": "veaoHJKcBqlu",
        "outputId": "98edf741-612b-42ca-f9d8-dc62c330a6d8"
      },
      "execution_count": 63,
      "outputs": [
        {
          "output_type": "execute_result",
          "data": {
            "text/plain": [
              "tensor(19.6755, grad_fn=<DivBackward0>)"
            ]
          },
          "metadata": {},
          "execution_count": 63
        }
      ]
    },
    {
      "cell_type": "markdown",
      "source": [
        "**Step 3**: Use autodiff to calculate gradient of $C$ w.r.t. parameters"
      ],
      "metadata": {
        "id": "BM120xF7BtI3"
      }
    },
    {
      "cell_type": "code",
      "source": [
        "C.backward()"
      ],
      "metadata": {
        "id": "ao4XIBlBCBbt"
      },
      "execution_count": 64,
      "outputs": []
    },
    {
      "cell_type": "code",
      "source": [
        "m.grad"
      ],
      "metadata": {
        "colab": {
          "base_uri": "https://localhost:8080/"
        },
        "id": "dGPVXB2BCImG",
        "outputId": "22238525-f1c2-4ed9-bdcf-c7d8bf37ded3"
      },
      "execution_count": 65,
      "outputs": [
        {
          "output_type": "execute_result",
          "data": {
            "text/plain": [
              "tensor([36.3050])"
            ]
          },
          "metadata": {},
          "execution_count": 65
        }
      ]
    },
    {
      "cell_type": "code",
      "source": [
        "b.grad"
      ],
      "metadata": {
        "colab": {
          "base_uri": "https://localhost:8080/"
        },
        "id": "zlNBMGT4CJMu",
        "outputId": "f28663ea-5046-4333-fa5a-6334b209e506"
      },
      "execution_count": 66,
      "outputs": [
        {
          "output_type": "execute_result",
          "data": {
            "text/plain": [
              "tensor([6.2650])"
            ]
          },
          "metadata": {},
          "execution_count": 66
        }
      ]
    },
    {
      "cell_type": "markdown",
      "source": [
        "### Deriving Cost by hand to find $\\frac{\\partial C}{\\partial m} \\ \\ \\frac{\\partial C}{\\partial b}$\n",
        "\n",
        "Mean Squared Error:\n",
        "\n",
        "$$\n",
        "C = \\frac{1}{n} \\sum_{i=1}^n (\\hat{y}_i - y_i)^2\n",
        "$$\n",
        "\n",
        "So you can decompose it to these two chain-rule obeying equations:\n",
        "\n",
        "$$\n",
        "C = \\frac{1}{n} \\sum_{i=1}^n{u^2}\n",
        "$$\n",
        "\n",
        "$$\n",
        "u = \\hat{y}_i - y_i\n",
        "$$\n",
        "\n",
        "Solving for the model parameters $m$ and $b$, which are embedded in the values calculated into $\\hat{y}$.\n",
        "\n",
        "$\\frac{\\partial u}{\\partial \\hat{y}_i} = 1 - 0 = 1$\n",
        "\n",
        "$\\frac{\\partial C}{\\partial u} = \\frac{1}{n} \\sum 2u$\n",
        "\n",
        "= $\\frac{2}{n} \\sum u$\n",
        "\n",
        "= $\\frac{2}{n} \\sum \\left(\\hat{y}_i - y_i\\right)$\n",
        "\n",
        "Now, calculate the partial derivatives for the parameters (derivation earlier in these notebooks):\n",
        "\n",
        "$\\frac{\\partial \\hat{y}_i}{\\partial m} = X_i$\n",
        "\n",
        "$\\frac{\\partial \\hat{y}_i}{\\partial b} = 1$\n",
        "\n",
        "Start with $b$ because the math is a little simpler:\n",
        "\n",
        "$$\n",
        "\\frac{\\partial C}{\\partial b} = \n",
        "\\frac{\\partial C}{\\partial u} \n",
        "\\frac{\\partial u}{\\partial \\hat{y}_i}\n",
        "\\frac{\\partial \\hat{y}_i}{\\partial b}\n",
        "$$\n",
        "\n",
        "= $\n",
        "\\frac{2}{n} \\sum \\left(\\hat{y}_i - y_i \\right) \\cdot 1 \\cdot 1 =\n",
        "\\frac{2}{n} \\sum \\left(\\hat{y}_i - y_i \\right)\n",
        "$\n",
        "\n",
        "Note the chain rule working on $\\partial u$ and $\\partial \\hat{y}_i$\n",
        "\n",
        "Trickier for $m$:\n",
        "\n",
        "$$\n",
        "\\frac{\\partial C}{\\partial m} = \n",
        "\\frac{\\partial C}{\\partial u} \n",
        "\\frac{\\partial u}{\\partial \\hat{y}_i}\n",
        "\\frac{\\partial \\hat{y}_i}{\\partial m}\n",
        "$$\n",
        "\n",
        "= $\n",
        "\\frac{2}{n} \\sum (\\hat{y}_i - y_i)\n",
        "\\cdot 1\n",
        "\\cdot X_i\n",
        "$\n",
        "= $\n",
        "\\frac{2}{n} \\sum (\\hat{y}_i - y_i)\n",
        "\\cdot X_i\n",
        "$\n",
        "\n"
      ],
      "metadata": {
        "id": "JXdT0yj0CJvB"
      }
    },
    {
      "cell_type": "code",
      "source": [
        "# dC/dm\n",
        "2 * 1/len(ys)*torch.sum((yhats - ys)*xs)"
      ],
      "metadata": {
        "colab": {
          "base_uri": "https://localhost:8080/"
        },
        "id": "tj91TZKzL9f8",
        "outputId": "00f0da49-beb2-4fe5-c2d0-88e3fd7ec235"
      },
      "execution_count": 67,
      "outputs": [
        {
          "output_type": "execute_result",
          "data": {
            "text/plain": [
              "tensor(36.3050, grad_fn=<MulBackward0>)"
            ]
          },
          "metadata": {},
          "execution_count": 67
        }
      ]
    },
    {
      "cell_type": "code",
      "source": [
        "# dC/db\n",
        "2*1/len(ys)*torch.sum(yhats - ys)"
      ],
      "metadata": {
        "colab": {
          "base_uri": "https://localhost:8080/"
        },
        "id": "gmXLo4cHMPWI",
        "outputId": "24326497-678a-44ff-803b-725f46d0ab81"
      },
      "execution_count": 68,
      "outputs": [
        {
          "output_type": "execute_result",
          "data": {
            "text/plain": [
              "tensor(6.2650, grad_fn=<MulBackward0>)"
            ]
          },
          "metadata": {},
          "execution_count": 68
        }
      ]
    },
    {
      "cell_type": "markdown",
      "source": [
        "We don't need to explicitly create a $\\nabla C$ object (Greek inverted delta is called $nabla$ for \"harp\" but w.r.t gradient is *del* as in \"del C\") for the remainder of the code in this notebook to run, but let's make it anyway and we'll use it later:"
      ],
      "metadata": {
        "id": "kNjzTCqsMZBs"
      }
    },
    {
      "cell_type": "code",
      "source": [
        "gradient = torch.tensor([[b.grad.item(), m.grad.item()]]).T # alphabetically order and put into column order with T\n",
        "gradient"
      ],
      "metadata": {
        "colab": {
          "base_uri": "https://localhost:8080/"
        },
        "id": "Jc5J_9KdM78_",
        "outputId": "561ba129-8205-4ecd-8b82-eceb22d5b01b"
      },
      "execution_count": 69,
      "outputs": [
        {
          "output_type": "execute_result",
          "data": {
            "text/plain": [
              "tensor([[ 6.2650],\n",
              "        [36.3050]])"
            ]
          },
          "metadata": {},
          "execution_count": 69
        }
      ]
    },
    {
      "cell_type": "markdown",
      "source": [
        "Let's visualize the most pertinent metrics in a single plot:"
      ],
      "metadata": {
        "id": "TEU9cEriNFCG"
      }
    },
    {
      "cell_type": "code",
      "source": [
        "def labeled_regression_plot(my_x, my_y, my_m, my_b, my_C, include_grad=True):\n",
        "  title = f'Cost = {my_C.item():.3g}'\n",
        "\n",
        "  if include_grad:\n",
        "    xlabel = f'm = {my_m.item():.3}, m grad = {my_m.grad.item():.3}'\n",
        "    ylabel = f'b = {my_b.item():.3}, m grad = {my_b.grad.item():.3}'\n",
        "  else:\n",
        "    xlabel = f'm = {my_m.item():.3}'\n",
        "    ylabel = f'b = {my_b.item():.3}'\n",
        "\n",
        "  fig, ax = plt.subplots()\n",
        "\n",
        "  plt.title(title)\n",
        "  plt.ylabel(ylabel)\n",
        "  plt.xlabel(xlabel)\n",
        "\n",
        "  ax.scatter(my_x, my_y)\n",
        "\n",
        "  x_min, x_max = ax.get_xlim()\n",
        "  y_min = regression(x_min, my_m, my_b).detach()\n",
        "  y_max = regression(x_max, my_m, my_b).detach()\n",
        "\n",
        "  ax.set_xlim([x_min, x_max])\n",
        "  _ = ax.plot([x_min, x_max], [y_min, y_max], c='C01')"
      ],
      "metadata": {
        "id": "3vlvQKBWNMRk"
      },
      "execution_count": 70,
      "outputs": []
    },
    {
      "cell_type": "code",
      "source": [
        "labeled_regression_plot(xs, ys, m, b, C)"
      ],
      "metadata": {
        "colab": {
          "base_uri": "https://localhost:8080/",
          "height": 384
        },
        "id": "p3uUSky_Ofsq",
        "outputId": "f9b9dd4b-7c98-42b7-9281-458bfd55ce00"
      },
      "execution_count": 71,
      "outputs": [
        {
          "output_type": "stream",
          "name": "stderr",
          "text": [
            "/usr/local/lib/python3.8/dist-packages/numpy/core/shape_base.py:65: FutureWarning: The input object of type 'Tensor' is an array-like implementing one of the corresponding protocols (`__array__`, `__array_interface__` or `__array_struct__`); but not a sequence (or 0-D). In the future, this object will be coerced as if it was first converted using `np.array(obj)`. To retain the old behaviour, you have to either modify the type 'Tensor', or assign to an empty array created with `np.empty(correct_shape, dtype=object)`.\n",
            "  ary = asanyarray(ary)\n",
            "/usr/local/lib/python3.8/dist-packages/numpy/core/shape_base.py:65: VisibleDeprecationWarning: Creating an ndarray from ragged nested sequences (which is a list-or-tuple of lists-or-tuples-or ndarrays with different lengths or shapes) is deprecated. If you meant to do this, you must specify 'dtype=object' when creating the ndarray.\n",
            "  ary = asanyarray(ary)\n"
          ]
        },
        {
          "output_type": "display_data",
          "data": {
            "text/plain": [
              "<Figure size 432x288 with 1 Axes>"
            ],
            "image/png": "[encoded data removed]"
          },
          "metadata": {
            "needs_background": "light"
          }
        }
      ]
    },
    {
      "cell_type": "markdown",
      "source": [
        "**Step 4**: Gradient descent\n",
        "\n",
        "$\\frac{\\partial C}{\\partial m} = 36.3$ indicates that an increase in $m$ corresponds to a large increase in $C$.\n",
        "\n",
        "Meanwhile, $\\frac{\\partial C}{\\partial b} = 6.26$ indicates that an increase in $b$ also corresponds to an increase in $C$, though much less so than $m$.\n",
        "\n",
        "In the first round of training, the lowest hanging fruit with respect to reducing cost $C$ is therefor to decrease the slope of the regression line, $m$. There will also be a relatively small decrease in the $y$-intercept of the line, $b$."
      ],
      "metadata": {
        "id": "miEGGZc_O7tD"
      }
    },
    {
      "cell_type": "code",
      "source": [
        "optimizer = torch.optim.SGD([m, b], lr=0.01)"
      ],
      "metadata": {
        "id": "gtRW5Bnzk6f8"
      },
      "execution_count": 72,
      "outputs": []
    },
    {
      "cell_type": "code",
      "source": [
        "optimizer.step() # Performs the gradient descent"
      ],
      "metadata": {
        "id": "_K2uOJtBk-n-"
      },
      "execution_count": 73,
      "outputs": []
    },
    {
      "cell_type": "code",
      "source": [
        "C = mse(regression(xs, m, b), ys) # Recompute the cost after the step"
      ],
      "metadata": {
        "id": "jPebBWWQlABI"
      },
      "execution_count": 74,
      "outputs": []
    },
    {
      "cell_type": "code",
      "source": [
        "labeled_regression_plot(xs, ys, m, b, C, include_grad=False) # Gradient of C not yet recalculated"
      ],
      "metadata": {
        "colab": {
          "base_uri": "https://localhost:8080/",
          "height": 295
        },
        "id": "woQ12qEzlDyc",
        "outputId": "8e69e4c5-b058-4d61-9812-b5f17b53e2be"
      },
      "execution_count": 75,
      "outputs": [
        {
          "output_type": "display_data",
          "data": {
            "text/plain": [
              "<Figure size 432x288 with 1 Axes>"
            ],
            "image/png": "[encoded data removed]"
          },
          "metadata": {
            "needs_background": "light"
          }
        }
      ]
    },
    {
      "cell_type": "markdown",
      "source": [
        "### Rinse and Repeat\n",
        "\n",
        "Observe further rounds of training:"
      ],
      "metadata": {
        "id": "UwsENck0lUL8"
      }
    },
    {
      "cell_type": "code",
      "source": [
        "epochs = 1000\n",
        "\n",
        "for epoch in range(epochs):\n",
        "  optimizer.zero_grad() # reset so they don't accumulate\n",
        "\n",
        "  yhats = regression(xs, m, b) # Step 1\n",
        "  C = mse(yhats, ys) # Step 2\n",
        "\n",
        "  C.backward() # Step 3\n",
        "\n",
        "  #labeled_regression_plot(xs, ys, m, b, C)\n",
        "\n",
        "  optimizer.step() # Step 4"
      ],
      "metadata": {
        "id": "CYetBCcalw2s"
      },
      "execution_count": 76,
      "outputs": []
    },
    {
      "cell_type": "code",
      "source": [
        "labeled_regression_plot(xs, ys, m, b, C)"
      ],
      "metadata": {
        "colab": {
          "base_uri": "https://localhost:8080/",
          "height": 295
        },
        "id": "1ToaI0DUnp4T",
        "outputId": "9e94e0bd-85a7-4bda-cb64-9ebc21da5abf"
      },
      "execution_count": 77,
      "outputs": [
        {
          "output_type": "display_data",
          "data": {
            "text/plain": [
              "<Figure size 432x288 with 1 Axes>"
            ],
            "image/png": "[encoded data removed]"
          },
          "metadata": {
            "needs_background": "light"
          }
        }
      ]
    },
    {
      "cell_type": "markdown",
      "source": [
        "In later rounds of training, after the model's slope $m$ has become closer to the slope represented by the data, $\\frac{\\partial C}{\\partial b}$ becomes negative, indicating an inverse relationship between $b$ and $C$. Meanwhile, $\\frac{\\partial C}{\\partial m}$ remains positive.\n",
        "\n",
        "This combination directs gradient descent to simultaneously adjust the $y$-intercept $b$ upwards and the slope $m$ downwards in order to reduce cost $C$ and, ultimately, fit the regression line snugly to the data."
      ],
      "metadata": {
        "id": "-tv-CQMFmFqp"
      }
    },
    {
      "cell_type": "markdown",
      "source": [
        "## Backpropagation\n",
        "\n",
        "Chain rule of partial derivatives of *cost* w.r.t model parameters extends to deep neural networks, which may have 1000s of layers:\n",
        "\n",
        "Training data into batches, each batch ($X$), forward pass through layers (just regression here but any multiplication/activation function), then you get $\\hat{y$}$, compute the cost $C$.\n",
        "\n",
        "Once you have $C$, calculate the partial derivative of cost for each parameter and using the chain rule, re-calculate the cost backwards through the layers, finally using gradient descent to adjust the parameters."
      ],
      "metadata": {
        "id": "xvB-rGJzoHZL"
      }
    },
    {
      "cell_type": "markdown",
      "source": [
        "## Higher-order Partial Derivatives\n",
        "\n",
        "**Regular higher-order derivatives:**\n",
        "\n",
        "In the driving example the first derivative of distance/time is the speed, but the second derivative of speed/time is acceleration.\n",
        "\n",
        "**Higher-order partial derivatives:**\n",
        "\n",
        "In ML, used to accelerate through gradient descent (Optimization)\n",
        "\n",
        "Consider the following first-order partial derivatives...\n",
        "\n",
        "$z = x^2 + 5xy + 2y^2$\n",
        "\n",
        "$\n",
        "\\frac{\\partial z}{\\partial x} = 2x + 5y(1) + 0 =\n",
        "2x + 5y\n",
        "$\n",
        "\n",
        "$\n",
        "\\frac{\\partial z}{\\partial y} = \n",
        "0 + 5x + 4y = 5x + 4y\n",
        "$"
      ],
      "metadata": {
        "id": "wFABre-Fpt3a"
      }
    },
    {
      "cell_type": "markdown",
      "source": [
        "**Second-order partial derivatives**\n",
        "\n",
        "Starting with:\n",
        "\n",
        "$\n",
        "\\frac{\\partial z}{\\partial x} =\n",
        "2x + 5y\n",
        "\\ \\ \\ \\\n",
        "\\frac{\\partial z}{\\partial y} = \n",
        "5x + 4y\n",
        "$\n",
        "\n",
        "Unmixed:\n",
        "\n",
        "Differentiate w.r.t. the same variable again:\n",
        "\n",
        "$\n",
        "\\frac{\\partial^2 z}{\\partial x^2} =\n",
        "\\frac{\\partial}{\\partial x}(2x + 5y) =\n",
        "2(1) + 0 =\n",
        "2 + 0 = 2\n",
        "$\n",
        "\n",
        "$\n",
        "\\frac{\\partial^2 z}{\\partial y^2} =\n",
        "\\frac{\\partial}{\\partial y}(5x + 4y) =\n",
        "0 + 4(1) = 4\n",
        "$"
      ],
      "metadata": {
        "id": "I4coTh4JsC-M"
      }
    },
    {
      "cell_type": "markdown",
      "source": [
        "Mixed partial derivates:\n",
        "\n",
        "$\n",
        "\\frac{\\partial^2 z}{\\partial x \\partial y} =\n",
        "\\frac{\\partial}{\\partial x}\\left(\\frac{dz}{dy}\\right) =\n",
        "\\frac{\\partial}{\\partial x}(5x + 4y) =\n",
        "5(1) + 0 = 5\n",
        "$\n",
        "\n",
        "$\n",
        "\\frac{\\partial^2 z}{\\partial y \\partial x} =\n",
        "\\frac{\\partial}{\\partial y}\\left(\\frac{dz}{dx}\\right) =\n",
        "\\frac{\\partial}{\\partial y}(2x + 5y) =\n",
        "0 + 5(1) = 5\n",
        "$\n",
        "\n",
        "Notice how both mixed second-order derivatives come out to the same value?\n",
        "\n",
        "*Clairant's (or Schwatz's or Young's) Theorem*:\n",
        "\n",
        "Under certain (common) conditions:\n",
        "\n",
        "$$\n",
        "\\frac{\\partial^2 z}{\\partial x \\partial y} = \\frac{\\partial^2 z}{\\partial y \\partial x}\n",
        "$$\n",
        "\n",
        "But... what are those conditions?\n",
        "\n"
      ],
      "metadata": {
        "id": "TFbKdnQzsIbu"
      }
    },
    {
      "cell_type": "markdown",
      "source": [
        "### Higher-order Partial Derivative Notation\n",
        "\n",
        "Given the a function like $z = f(x, y)$\n",
        "\n",
        "Equivalent second-order (unmixed) partial derivative notations are:\n",
        "\n",
        "$\n",
        "\\frac{\\partial^2 z}{\\partial x^2}\n",
        "\\ \\ \\ \\\n",
        "\\frac{\\partial^2 f}{\\partial x^2}\n",
        "\\ \\ \\ \\\n",
        "f_{xx}\n",
        "\\ \\ \\ \\\n",
        "D_{xx}f\n",
        "$\n",
        "\n",
        "For the mixed second-order partial derivatives:\n",
        "\n",
        "$\n",
        "\\frac{\\partial^2 z}{\\partial y \\partial x}\n",
        "\\ \\ \\ \\\n",
        "\\frac{\\partial^2 f}{\\partial y \\partial x}\n",
        "\\ \\ \\ \\\n",
        "f_{xy}\n",
        "\\ \\ \\ \\\n",
        "D_{xy}f\n",
        "$\n",
        "\n",
        "The mixed notation means you differentiate left to right for the subscripts."
      ],
      "metadata": {
        "id": "VvsOEwIxwihr"
      }
    },
    {
      "cell_type": "markdown",
      "source": [
        "### Higher order partial derivative exercise:\n",
        "\n",
        "Find all the second-order partial derivatives of $z = x^3 + 2xy$\n",
        "\n",
        "First, find the first-order partial derivatives.\n",
        "\n",
        "$\\frac{\\partial z}{\\partial x} = 3x^2 + 2y$ *remember 2y is treated like a constant and the power rule converts $x$ to $1(x^0) = 1$*\n",
        "\n",
        "$\\frac{\\partial z}{\\partial y} = 0 + 2x = 2x$\n",
        "\n",
        "Then the unmixed second-order partial derivatives:\n",
        "\n",
        "$\\frac{\\partial z^2}{\\partial x^2} = 2(3x^1) = 6x$\n",
        "\n",
        "$\\frac{\\partial z}{\\partial y^2} = 2x = 0$\n",
        "\n",
        "Then the mixed second-order partial derivatives:\n",
        "\n",
        "$\n",
        "\\frac{\\partial^2 z}{\\partial x \\partial y} =\n",
        "\\frac{\\partial}{\\partial x}\\left(\\frac{dz}{dy}\\right) =\n",
        "\\frac{\\partial}{\\partial x}2x =\n",
        "2\n",
        "$\n",
        "\n",
        "$\n",
        "\\frac{\\partial^2 z}{\\partial y \\partial x} =\n",
        "\\frac{\\partial}{\\partial y}\\left(\\frac{dz}{dx}\\right) =\n",
        "\\frac{\\partial}{\\partial y}2x = 2\n",
        "$\n",
        "\n"
      ],
      "metadata": {
        "id": "SFu8LWMfxRy2"
      }
    },
    {
      "cell_type": "markdown",
      "source": [
        "# Segment3: Integrals\n",
        "\n",
        "* Binary Classification\n",
        "* The Confusion Matrix\n",
        "* The Reciever-Operating Characteristic (ROC) Curve\n",
        "* Calculating Integrals Manually\n",
        "* Numeric Integration with Python\n",
        "* Finding the Area Under the ROC Curve\n",
        "* Resources for Further Study of Calculus"
      ],
      "metadata": {
        "id": "iZAwqUMUEEGn"
      }
    },
    {
      "cell_type": "markdown",
      "source": [
        "## Binary Classification\n",
        "\n",
        "### Supervised Learning\n",
        "\n",
        "* Have $x$ and $y$\n",
        "* Goal: learn a function that uses $x$ to approximate $y$\n",
        "* Examples:\n",
        "  * **Regression**\n",
        "    * Clinical measure of forgetfulness\n",
        "    * Sales of a product\n",
        "    * Future value of an asset\n",
        "  * **Classification**\n",
        "    * ***Multinomial***\n",
        "      * Handwritten digits: 10 classes\n",
        "      * Imagenet: 21k classes\n",
        "    * **Binomial**\n",
        "      * Movie-review sentiment: positive vs negative\n",
        "      * Photos of fast food: Hot dog vs not hot dog\n",
        "\n",
        "### Accuracy at a Single Threshold (0.5)\n",
        "* Doesn't reflect model quality at other points in output distribution\n",
        "* If $y = 1$: Prediction of $0.49$ is 100% wrong; 0.51 prediction 100% correct.\n",
        "  * Prediction of 0.51 is considered as correct as prediction of 0.99\n",
        "* Solution: ROC AUC (Receiver Operating Characteristic Area Under the Curve) metric"
      ],
      "metadata": {
        "id": "v-rJtR56EiMS"
      }
    },
    {
      "cell_type": "markdown",
      "source": [
        "## The Confusion Matrix\n",
        "\n",
        "Matrix of when an algorithm is confused.\n",
        "\n",
        "\n",
        "|   |   |  1 | 0  |\n",
        "|---|---|---|---|\n",
        "|  |  1 |  True positive | False positive  |\n",
        "|    |  0 |  False negative | True Negative  |\n",
        "\n",
        "x-axis: actual y\n",
        "y-axis: predicted y \n"
      ],
      "metadata": {
        "id": "QGt2V3mUH8ev"
      }
    },
    {
      "cell_type": "markdown",
      "source": [
        "## The Receiver Operating Characteristic (ROC curve)\n"
      ],
      "metadata": {
        "id": "-11oB8YTLJWu"
      }
    },
    {
      "cell_type": "markdown",
      "source": [
        "### Four Hot Dog Predictions\n",
        "\n",
        "| $y$ | $\\hat{y}$ |\n",
        "------|----------|\n",
        "0 | 0.3 |\n",
        "1 | 0.5 |\n",
        "0 | 0.6 |\n",
        "1 | 0.9 |\n",
        "\n"
      ],
      "metadata": {
        "id": "TxcHMu8TLP9-"
      }
    },
    {
      "cell_type": "markdown",
      "source": [
        "### Receiver-Operating Characteristic for Four Hot Dog Predictions\n",
        "\n",
        "| $y$ | $\\hat{y}$ | 0.3 threshold | 0.5 threshold | 0.6 threshold |\n",
        "------|----------|---|---|---|\n",
        "0 (not hot dog) | 0.3 | 0 (TN) | 0 (TN) | 0 (TN) |\n",
        "1 (hot dog)| 0.5 | 1 (TP) | 0 (FN) | 0 (FN)\n",
        "0 (not hot dog)| 0.6 | 1 (FP) | 1 (FP) | 0 (TN)\n",
        "1 (hot dog)| 0.9 | 1 (TP) | 1 (TP) | 1 (TP)\n",
        "\n",
        "Don't do the top value threshold because we always want at least one of each TP and TF\n",
        "\n",
        "\n",
        "Then, go column-wise for each threshold:\n",
        "\n",
        "True Positive Rate = $\\frac{TP}{TP + FN}$\n",
        "\n",
        "$\\frac{2}{2 + 0} = 1.0$\n",
        "$\\frac{1}{1 + 1} = 0.5$\n",
        "$\\frac{1}{1 + 1} = 0.5$\n",
        "\n",
        "False Positive Rate = $\\frac{FP}{FP + TN}$\n",
        "\n",
        "$\\frac{1}{1 + 1} = 0.5$\n",
        "$\\frac{1}{1 + 1} = 0.5$\n",
        "$\\frac{0}{0 + 1} = 0.0$\n",
        "\n",
        "Then plot true positive rate and false positive rates on curve, with coordinates at 0,0 and 1,1. This is the *ROC curve*. We want our algorithm to fill as much space under the curve as possible.\n",
        "\n",
        "ROC AOC (Receiver Operating Characteristic, Area Of (under the) Curve).\n",
        "\n",
        "In this example it's 0.75.\n",
        "\n",
        "0.5 would be random performance. 1.0 would be perfect."
      ],
      "metadata": {
        "id": "W2Ff7Y_uMPZP"
      }
    },
    {
      "cell_type": "markdown",
      "source": [
        "## What Integral Calculus Is\n",
        "\n",
        "* Study of areas under curves\n",
        "* Facilitates the *inverse* of differential calculus \n",
        "* Also finds areas more generally, volumes and central points\n",
        "\n",
        "In ML:\n",
        "\n",
        "* Receiver operating characteristic\n",
        "* Probability theory's \"expectation\" of random variable is widely used in machine learning, including deep learning\n",
        "\n",
        "Imagine filling in the graph under a curve with skinnier and skinnier slices that approach infinitely small width.\n",
        "\n",
        "$dx$ indicates slice width ($\\nabla x$) is approaching zero width.\n"
      ],
      "metadata": {
        "id": "Z4vY2r8LMOm0"
      }
    },
    {
      "cell_type": "markdown",
      "source": [
        "### Integral Notation\n",
        "\n",
        "$$\\int 2x \\ \\ dx$$\n",
        "\n",
        "$\\int$ -  Integral symbol (idefinite)\n",
        "\n",
        "$2x$ - function to integrate\n",
        "\n",
        "$dx$ - variable to integrate along\n",
        "\n",
        "(definite integrals show the range at the top and bottom of the $\\int$ symbol: $\\int^n_{n-1}$)"
      ],
      "metadata": {
        "id": "c9fKLU0_YDbQ"
      }
    },
    {
      "cell_type": "markdown",
      "source": [
        "## Integral Calculus Rules\n",
        "\n",
        "* Power Rule\n",
        "* Constant Multiple Rule\n",
        "* Sum Rule"
      ],
      "metadata": {
        "id": "zT62K2UGZIhK"
      }
    },
    {
      "cell_type": "markdown",
      "source": [
        "### The Power Rule\n",
        "\n",
        "$$\n",
        "\\int x^n dx = \\frac{x^{n+1}}{n+1} + C\n",
        "$$\n",
        "\n",
        "Note that $n \\neq -1$\n",
        "\n",
        "$C$ is a constant that may have been lost by differentiation\n",
        "\n",
        "Note that this is almost exactly the differentiation power rule run in reverse.\n",
        "\n",
        "$\\int x^4 dx = \\frac{x^5}{5} + C$"
      ],
      "metadata": {
        "id": "tr8L4QYfZRGm"
      }
    },
    {
      "cell_type": "markdown",
      "source": [
        "### The Constant Multiple Rule\n",
        "\n",
        "$$\n",
        "\\int cf(x)dx = c \\int f(x)dx + C\n",
        "$$\n",
        "\n",
        "$\n",
        "\\int 9x^2 dx = 9 \\int x^2 dx = \\frac{9x^3}{3} + C = 3x^3 + C\n",
        "$\n"
      ],
      "metadata": {
        "id": "TML-Lr2Xa0EL"
      }
    },
    {
      "cell_type": "markdown",
      "source": [
        "### The Sum Rule\n",
        "\n",
        "$$\n",
        "\\int (f(x) + g(x)) dx = \\int f(x) dx + \\int g(x) dx + C\n",
        "$$\n",
        "\n",
        "$\n",
        "\\int(x^4 + 9x^2)dx = \\frac{x^5}{5} + 3x^3 + C\n",
        "$"
      ],
      "metadata": {
        "id": "-fik-HIfb_lr"
      }
    },
    {
      "cell_type": "markdown",
      "source": [
        "### Integral Calculus Exercises\n",
        "\n",
        "1. $\\int x^5 dx$\n",
        "2. $\\int 12x^5 dx$\n",
        "3. $\\int(12x^5 -x) dx$"
      ],
      "metadata": {
        "id": "q52ALxWOcuPN"
      }
    },
    {
      "cell_type": "markdown",
      "source": [
        "### 1. $\\int x^5 dx$\n",
        "\n",
        "$\\frac{x^6}{6} + C$\n",
        "\n",
        "*Power rule*"
      ],
      "metadata": {
        "id": "6KtkyzFjc9ON"
      }
    },
    {
      "cell_type": "markdown",
      "source": [
        "### 2. $\\int 12x^5 dx$\n",
        "\n",
        "$\n",
        "12 (\\frac{x^6}{6} + C) = \n",
        "\\frac{12x^6}{6} + C = \n",
        "2x^6 + C\n",
        "$\n",
        "\n",
        "*Constant rule and Power rule*"
      ],
      "metadata": {
        "id": "oZ56E5eMdAwm"
      }
    },
    {
      "cell_type": "markdown",
      "source": [
        "### 3. $\\int(12x^5 -x) dx$\n",
        "\n",
        "$\n",
        "12(\\frac{x^6}{6} - \\frac{x^2}{2}) + C =\n",
        "$\n",
        "\n",
        "$\n",
        "\\frac{12x^6}{6} - \\frac{x^2}{2} + C = $\n",
        "\n",
        "$\n",
        "2x^6 - \\frac{x^2}{2} + C\n",
        "$\n",
        "\n",
        "*Sum, Constant and Power Rules*\n",
        "\n",
        "Note that the constant term is added to the entire expression, not the separately integrated terms."
      ],
      "metadata": {
        "id": "FiOKpUM7dEIG"
      }
    },
    {
      "cell_type": "markdown",
      "source": [
        "## Definite Integrals\n",
        "\n",
        "Instead of the entire range, a definite integral specifies some segment of the range:\n",
        "\n",
        "$$\n",
        "\\int_{x_1}^{x_2} f(x) dx\n",
        "$$\n",
        "\n",
        "(start of range on the bottom; end of range on top)\n",
        "\n",
        "$ y = \\frac{1}{2} x $\n",
        "\n",
        "So, for the interval where $x_1 = 1$ and $x_2 = 2$:\n",
        "\n",
        "$\n",
        "\\int_{1}^{2} \\frac{1}{2}(x) dx\n",
        "$\n",
        "\n",
        "### Computing a Definite Integral\n",
        "\n",
        "1. Compute the *indefinite* integral:\n",
        "$\n",
        "\\int \\frac{1}{2}x dx = \\frac{1}{2} \\left(\\frac{x^2}{2}\\right) + C\n",
        "$ = \n",
        "$\n",
        "\\frac{x^2}{4} + C\n",
        "$\n",
        "\n",
        "2. Substitute the value for the start of the interval for x into the indefinite integral:\n",
        "\n",
        "At $x = 1$\n",
        "\n",
        "$\\frac{1^2}{4} + C = \\frac{1}{4} + C$\n",
        "\n",
        "3. Substitute the value for the *end* of the interval for $x$:\n",
        "\n",
        "At $x = 2$\n",
        "\n",
        "$\\frac{x^2}{4} + C = \\frac{2^2}{4} + C = 1 + C$\n",
        "\n",
        "4. Subtract the calcualted area (end interval integral minus start interval integral):\n",
        "\n",
        "$\n",
        "(1 + C) - (\\frac{1}{4} + C)\n",
        "$\n",
        "\n",
        "And look, it's 0.75! ($C$s cancel out)\n"
      ],
      "metadata": {
        "id": "35mcphVrdFzR"
      }
    },
    {
      "cell_type": "markdown",
      "source": [
        "## Numeric Integration with Python"
      ],
      "metadata": {
        "id": "1ejHbB6iww9a"
      }
    },
    {
      "cell_type": "code",
      "source": [
        "from scipy.integrate import quad # quadrature = numerical integration (as opposed to symbolic)"
      ],
      "metadata": {
        "id": "MtoOtYx5wzs3"
      },
      "execution_count": 78,
      "outputs": []
    },
    {
      "cell_type": "markdown",
      "source": [
        "From the slides:\n",
        "\n",
        "$$\n",
        "\\int_1^2 \\frac{x}{2}dx = \\frac{3}{4}\n",
        "$$"
      ],
      "metadata": {
        "id": "qLmAVaPDxPV1"
      }
    },
    {
      "cell_type": "code",
      "source": [
        "def g(x):\n",
        "  return x/2"
      ],
      "metadata": {
        "id": "CEjiSPHZxXm7"
      },
      "execution_count": 79,
      "outputs": []
    },
    {
      "cell_type": "code",
      "source": [
        "quad(g, 1, 2)"
      ],
      "metadata": {
        "colab": {
          "base_uri": "https://localhost:8080/"
        },
        "id": "dT5s5Vaixh3I",
        "outputId": "9d41bbe3-8e4b-4881-d82d-f33d67f51579"
      },
      "execution_count": 80,
      "outputs": [
        {
          "output_type": "execute_result",
          "data": {
            "text/plain": [
              "(0.75, 8.326672684688674e-15)"
            ]
          },
          "metadata": {},
          "execution_count": 80
        }
      ]
    },
    {
      "cell_type": "markdown",
      "source": [
        "The second output of `quad` is an estimate of the absolute error of the integral, which in this case is essentially zero."
      ],
      "metadata": {
        "id": "V4iAl-fLxjQI"
      }
    },
    {
      "cell_type": "markdown",
      "source": [
        "## Definite Integral Exercises\n",
        "\n",
        "Evaluate the following expression symbolically and with Python:\n",
        "\n",
        "$$\n",
        "\\int_3^4 2x dx\n",
        "$$"
      ],
      "metadata": {
        "id": "uc8-fawwyFtg"
      }
    },
    {
      "cell_type": "markdown",
      "source": [
        "### Symbolically:\n",
        "\n",
        "1. Indefinite Integral: $\n",
        "2(\\frac{x^2}{2})\n",
        "$\n",
        "2. Start Interval: $\n",
        "2(\\frac{3^2}{2})\n",
        "$ = $\\frac{18}{2} = 9 + C$\n",
        "3. End Interval:  $\n",
        "2(\\frac{4^2}{2})\n",
        "$ = $\\frac{32}{2} = 16 + C$\n",
        "4. Subtract: $(16 + C) - (9 + C) = 7$"
      ],
      "metadata": {
        "id": "6xI8sjw6yhFA"
      }
    },
    {
      "cell_type": "code",
      "source": [
        "# In python:\n",
        "def h(x):\n",
        "  return 2 * x\n",
        "\n",
        "quad(h, 3, 4)"
      ],
      "metadata": {
        "colab": {
          "base_uri": "https://localhost:8080/"
        },
        "id": "8hQ-dtcOyrAE",
        "outputId": "627c1b9f-cda1-4d81-b509-0b68dc6eb2ff"
      },
      "execution_count": 92,
      "outputs": [
        {
          "output_type": "execute_result",
          "data": {
            "text/plain": [
              "(7.0, 7.771561172376096e-14)"
            ]
          },
          "metadata": {},
          "execution_count": 92
        }
      ]
    },
    {
      "cell_type": "markdown",
      "source": [
        "## Finding the Area under the ROC Curve\n",
        "\n",
        "When we don't have a function but we do have $(x, y)$ coordinates, we can use the scikit-learn library's `auc()` method, which uses a numerical approach (the [trapezoidal rule](https://en.wikipedia.org/wiki/Trapezoidal_rule)) to find the area under the curve described by the coordinates."
      ],
      "metadata": {
        "id": "hRw5HYF0zYqY"
      }
    },
    {
      "cell_type": "code",
      "source": [
        "from sklearn.metrics import auc"
      ],
      "metadata": {
        "id": "AIJyPmFi2HDQ"
      },
      "execution_count": 93,
      "outputs": []
    },
    {
      "cell_type": "markdown",
      "source": [
        "from the slides, the $(x, y)$ coordinates of our hot dog detecting ROC curve are:\n",
        "\n",
        "* (0, 0)\n",
        "* (0, 0.5)\n",
        "* (0.5, 0.5)\n",
        "* (0.5, 1)\n",
        "* (1, 1)"
      ],
      "metadata": {
        "id": "is9mS4xi3yyc"
      }
    },
    {
      "cell_type": "code",
      "source": [
        "xs = [0., 0.,  0.5, 0.5, 1.]\n",
        "ys = [0., 0.5, 0.5, 1.,  1.]"
      ],
      "metadata": {
        "id": "KzmZlD7I4BJ5"
      },
      "execution_count": 96,
      "outputs": []
    },
    {
      "cell_type": "code",
      "source": [
        "auc(xs, ys)"
      ],
      "metadata": {
        "colab": {
          "base_uri": "https://localhost:8080/"
        },
        "id": "SIUGLTeo4MQL",
        "outputId": "ee3040e8-bd27-4381-ba4d-950d4707d0cb"
      },
      "execution_count": 97,
      "outputs": [
        {
          "output_type": "execute_result",
          "data": {
            "text/plain": [
              "0.75"
            ]
          },
          "metadata": {},
          "execution_count": 97
        }
      ]
    },
    {
      "cell_type": "markdown",
      "source": [
        "## Resources for Further Study of Calculus\n",
        "\n",
        "* Differential Calculus\n",
        "  * Ch. 6 of Deisenroth et al. (2020) [Mathematics for ML](https://mml-book.github.io)\n",
        "  * 3Blue1Brown on YouTube\n",
        "* Integral Calculus\n",
        "  * ditto\n",
        "  * [Appendix 18.5](https://d2l.ai/chapter_appendix-mathematics-for-deep-learning/integral-calculus.html) of Zhang et al.'s (2019) *Dive into Deep Learning*"
      ],
      "metadata": {
        "id": "GNeGLbmJ4NyY"
      }
    },
    {
      "cell_type": "code",
      "source": [],
      "metadata": {
        "id": "10hDnrMr5OQO"
      },
      "execution_count": null,
      "outputs": []
    }
  ]
}